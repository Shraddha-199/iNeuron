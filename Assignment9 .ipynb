{
 "cells": [
  {
   "cell_type": "markdown",
   "id": "9d209759",
   "metadata": {},
   "source": [
    "#### 1. Python-Replace multiple words with k."
   ]
  },
  {
   "cell_type": "code",
   "execution_count": 3,
   "id": "40c43521",
   "metadata": {},
   "outputs": [
    {
     "name": "stdout",
     "output_type": "stream",
     "text": [
      "The original string is : Hello world, I have a cat\n",
      "String aftrt multiple replace : Hello world, I have a universe\n"
     ]
    }
   ],
   "source": [
    "string = 'Hello world, I have a cat'\n",
    "print(\"The original string is : \" + str(string))\n",
    "list = [\"world\", \"cat\"]\n",
    "repl_wrd = 'universe'\n",
    "res = ' '.join([repl_wrd if idx in list else idx for idx in string.split()])\n",
    "print(\"String aftrt multiple replace : \" + str(res))"
   ]
  },
  {
   "cell_type": "markdown",
   "id": "beb93f12",
   "metadata": {},
   "source": [
    "#### 2. Python | Permutation of a given string using inbuilt function."
   ]
  },
  {
   "cell_type": "code",
   "execution_count": 8,
   "id": "21f9e9b0",
   "metadata": {},
   "outputs": [
    {
     "name": "stdout",
     "output_type": "stream",
     "text": [
      "ABC\n",
      "ACB\n",
      "BAC\n",
      "BCA\n",
      "CAB\n",
      "CBA\n"
     ]
    }
   ],
   "source": [
    "from itertools import permutations\n",
    "def allPermutations(str):\n",
    "    permList = permutations(str)\n",
    "    for perm in (permList):\n",
    "        print(''.join(perm))\n",
    "if __name__ == \"__main__\":\n",
    "    str = 'ABC'\n",
    "    allPermutations(str)"
   ]
  },
  {
   "cell_type": "markdown",
   "id": "c7532f3c",
   "metadata": {},
   "source": [
    "#### 3. Python | Check for URL in a string."
   ]
  },
  {
   "cell_type": "code",
   "execution_count": 5,
   "id": "0270331c",
   "metadata": {},
   "outputs": [
    {
     "name": "stdout",
     "output_type": "stream",
     "text": [
      "Urls:  ['https://www.google.com/']\n"
     ]
    }
   ],
   "source": [
    "import re\n",
    "def findURL(string):\n",
    "    regex=r\"(?i)\\b((?:https?://|www\\d{0,3}[.]|[a-z0-9.\\-]+[.][a-z]{2,4}/)(?:[^\\s()<>]+|\\(([^\\s()<>]+|(\\([^\\s()<>]+\\)))*\\))+(?:\\(([^\\s()<>]+|(\\([^\\s()<>]+\\)))*\\)|[^\\s`!()\\[\\]{};:'\\\".,<>?«»“”‘’]))\"\n",
    "    url= re.findall(regex,string)\n",
    "    return [x[0] for x in url]\n",
    "\n",
    "s = \"Google: https://www.google.com/\"\n",
    "print(\"Urls: \", findURL(s))"
   ]
  },
  {
   "cell_type": "markdown",
   "id": "e33473f3",
   "metadata": {},
   "source": [
    "#### 4. Execute a string of code in Python."
   ]
  },
  {
   "cell_type": "code",
   "execution_count": 6,
   "id": "4ba92237",
   "metadata": {},
   "outputs": [
    {
     "name": "stdout",
     "output_type": "stream",
     "text": [
      "Not Prime\n"
     ]
    }
   ],
   "source": [
    "# use exec() to execute code in a string\n",
    "\n",
    "def execute_code():\n",
    "    Code=\"\"\"\n",
    "def check_prime_no(num):\n",
    "  for i in range(2, num):\n",
    "     if (num % i) == 0:\n",
    "        return \"Not Prime\" \n",
    "     else:\n",
    "        return \"Prime\"\n",
    "print(check_prime_no(12)) \"\"\"\n",
    "\n",
    "    exec(Code)\n",
    "\n",
    "execute_code()"
   ]
  },
  {
   "cell_type": "markdown",
   "id": "dcdaa8b7",
   "metadata": {},
   "source": [
    "#### 5. String slicing in Python to rotate a string."
   ]
  },
  {
   "cell_type": "code",
   "execution_count": 22,
   "id": "0fd956b6",
   "metadata": {},
   "outputs": [
    {
     "name": "stdout",
     "output_type": "stream",
     "text": [
      "Left Rotation :  llo WorldHe\n",
      "Right Rotation :  ldHello Wor\n"
     ]
    }
   ],
   "source": [
    "def rotate(input,d):\n",
    "    Lfirst = input[0 : d]\n",
    "    Lsecond = input[d :]\n",
    "    Rfirst = input[0 : len(input)-d]\n",
    "    Rsecond = input[len(input)-d : ]\n",
    "    print(\"Left Rotation : \", (Lsecond + Lfirst) )\n",
    "    print(\"Right Rotation : \", (Rsecond + Rfirst) )\n",
    "if __name__ == \"__main__\":\n",
    "    input = 'Hello World'\n",
    "    d=2\n",
    "    rotate(input,d)"
   ]
  },
  {
   "cell_type": "markdown",
   "id": "5dec244c",
   "metadata": {},
   "source": [
    "#### 6. String slicing in Python to check if a string can become empty by recursive deletion."
   ]
  },
  {
   "cell_type": "code",
   "execution_count": 23,
   "id": "01a82d9e",
   "metadata": {},
   "outputs": [
    {
     "name": "stdout",
     "output_type": "stream",
     "text": [
      "false\n"
     ]
    }
   ],
   "source": [
    "def checkEmpty(input, pattern):\n",
    "    if len(input) == 0 and len(pattern) == 0:\n",
    "        return 'true'\n",
    "    if len(pattern) == 0:\n",
    "        return 'true'\n",
    "    while(len(input) != 0):\n",
    "        index = input.find(pattern)\n",
    "        if(index == (-1)):\n",
    "            return 'false'\n",
    "        input = input[0:index] + input[index + len(pattern):]\n",
    "    return 'true'\n",
    "if __name__ == \"__main__\":\n",
    "    input = 'HELLWOORDL'\n",
    "    pattern = 'HELLO'\n",
    "    print(checkEmpty(input, pattern))"
   ]
  },
  {
   "cell_type": "markdown",
   "id": "c2fb59a2",
   "metadata": {},
   "source": [
    "#### 7. Python Counter | Find all duplicate characters in a string."
   ]
  },
  {
   "cell_type": "code",
   "execution_count": 26,
   "id": "447529b7",
   "metadata": {},
   "outputs": [
    {
     "name": "stdout",
     "output_type": "stream",
     "text": [
      "l o\n"
     ]
    }
   ],
   "source": [
    "string = \"hello world\"\n",
    "duplicates = []\n",
    "for char in string:\n",
    "    if string.count(char) > 1:\n",
    "        if char not in duplicates:\n",
    "            duplicates.append(char)\n",
    "print(*duplicates)"
   ]
  },
  {
   "cell_type": "markdown",
   "id": "671af5e8",
   "metadata": {},
   "source": [
    "#### 8. Python- Replace all occurance of substring in a string."
   ]
  },
  {
   "cell_type": "code",
   "execution_count": 29,
   "id": "3f1f5354",
   "metadata": {},
   "outputs": [
    {
     "name": "stdout",
     "output_type": "stream",
     "text": [
      "The original string is : hello world\n",
      "The string after swap : hevvn unive\n"
     ]
    }
   ],
   "source": [
    "string = \"hello world\"\n",
    "print(\"The original string is : \" + string)\n",
    "temp = str.maketrans(\"world\", \"unive\")\n",
    "string = string.translate(temp)\n",
    "print(\"The string after swap : \" + (string))"
   ]
  },
  {
   "cell_type": "markdown",
   "id": "130fbe41",
   "metadata": {},
   "source": [
    "#### 9. Python-Extract Unique values dictionary values."
   ]
  },
  {
   "cell_type": "code",
   "execution_count": 1,
   "id": "d2756e07",
   "metadata": {},
   "outputs": [
    {
     "name": "stdout",
     "output_type": "stream",
     "text": [
      "The original dictionary is : {'cat': [1, 2, 3, 4], 'dog': [5, 6, 7, 8], 'dear': [9, 10, 1, 3], 'pig': [1, 2, 5]}\n",
      "The unique values list is : [1, 2, 3, 4, 5, 6, 7, 8, 9, 10]\n"
     ]
    }
   ],
   "source": [
    "dict = {'cat' : [1,2,3,4],\n",
    "       'dog' : [5,6,7,8],\n",
    "       'dear' : [9,10,1,3],\n",
    "       'pig' : [1,2,5]}\n",
    "print(\"The original dictionary is : \" + (str(dict)))\n",
    "res = list(sorted({ele for val in dict.values() for ele in val}))\n",
    "print(\"The unique values list is : \" + str(res))"
   ]
  },
  {
   "cell_type": "markdown",
   "id": "ec739c1d",
   "metadata": {},
   "source": [
    "#### 10. Python Program to find the sum of all items in a dictionary."
   ]
  },
  {
   "cell_type": "code",
   "execution_count": 2,
   "id": "dbac844e",
   "metadata": {},
   "outputs": [
    {
     "name": "stdout",
     "output_type": "stream",
     "text": [
      "sum :  600\n"
     ]
    }
   ],
   "source": [
    "def returnSum(myDict):\n",
    "    \n",
    "    list = []\n",
    "    for i in myDict:\n",
    "        list.append(myDict[i])\n",
    "    final = sum(list)\n",
    "    return final\n",
    "dict = {'a' : 100, 'b' : 200, 'c' : 300}\n",
    "print(\"sum : \", returnSum(dict))"
   ]
  }
 ],
 "metadata": {
  "kernelspec": {
   "display_name": "Python 3",
   "language": "python",
   "name": "python3"
  }
 },
 "nbformat": 4,
 "nbformat_minor": 5
}
