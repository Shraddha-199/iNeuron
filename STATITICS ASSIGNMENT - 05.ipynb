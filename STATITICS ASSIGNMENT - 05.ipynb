{
 "cells": [
  {
   "cell_type": "markdown",
   "id": "d87bc63e",
   "metadata": {},
   "source": [
    "## STATITICS ASSIGNMENT - 05"
   ]
  },
  {
   "cell_type": "markdown",
   "id": "58ebc6e2",
   "metadata": {},
   "source": [
    "Give an example of 3 events A, B, C which are pairwise independent but not independent.\n",
    "Hint: find an example where whether C occurs is completely determined if we know whether\n",
    "A occurred and whether B occurred, but completely undetermined if we know only one of\n",
    "these things."
   ]
  },
  {
   "cell_type": "code",
   "execution_count": null,
   "id": "ab3dc331",
   "metadata": {},
   "outputs": [],
   "source": [
    "We throw two dice. Let A be the event “the sum of the points is 7”, B the event “die #1\n",
    "\n",
    "came up 3”, and C the event “die #2 came up 4”. Now, P[A] = P[B] = P[C] = 1/6.\n",
    "\n",
    "Also,\n",
    "\n",
    "P[A ∩ B] = P[A ∩ C] = P[B ∩ C] = 1/36\n",
    "\n",
    "so that all events are pairwise independent. However,\n",
    "\n",
    "P[A ∩ B ∩ C] = P[B ∩ C] = 1/36\n",
    "\n",
    "while\n",
    "\n",
    "P[A]P[B]P[C] = 1/216\n",
    "\n",
    "so they are not independent as a triplet.\n",
    "\n",
    "First, note that, indeed, P[A ∩ B] = P[B ∩ C] = 1/36, \n",
    "since the fact that A and B occurred is the same as the fact that B and C occurred."
   ]
  },
  {
   "cell_type": "markdown",
   "id": "68e6abd6",
   "metadata": {},
   "source": [
    "A bag contains one marble which is either green or blue, with equal probabilities. A green\n",
    "marble is put in the bag (so there are 2 marbles now), and then a random marble is taken\n",
    "out. The marble taken out is green. What is the probability that the remaining marble is also\n",
    "green?"
   ]
  },
  {
   "cell_type": "code",
   "execution_count": null,
   "id": "9ea7f854",
   "metadata": {},
   "outputs": [],
   "source": [
    "Let G represents green marble and B represents Blue marble. According to the question. \n",
    "After putting a green marble in the bag, we have Let already present marble in the bag is green.\n",
    "Then, after taking green marble. Probability that the remaining marble is also green =1 \n",
    "Let already present marble in the bag is blue, then after taking green marble. \n",
    "Probability that the remaining marble is also green = 0 So, required probability =0+1=1"
   ]
  }
 ],
 "metadata": {
  "kernelspec": {
   "display_name": "Python 3",
   "language": "python",
   "name": "python3"
  },
  "language_info": {
   "codemirror_mode": {
    "name": "ipython",
    "version": 3
   },
   "file_extension": ".py",
   "mimetype": "text/x-python",
   "name": "python",
   "nbconvert_exporter": "python",
   "pygments_lexer": "ipython3",
   "version": "3.8.8"
  }
 },
 "nbformat": 4,
 "nbformat_minor": 5
}
