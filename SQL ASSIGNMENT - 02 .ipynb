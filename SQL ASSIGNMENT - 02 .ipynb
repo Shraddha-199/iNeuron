{
 "cells": [
  {
   "cell_type": "markdown",
   "id": "24a532bd",
   "metadata": {},
   "source": [
    "## SQL ASSIGNMENT - 02"
   ]
  },
  {
   "cell_type": "markdown",
   "id": "f45dd166",
   "metadata": {},
   "source": [
    "###### 1. Write an SQL query to print the first three characters of  FIRST_NAME from Workertable."
   ]
  },
  {
   "cell_type": "markdown",
   "id": "b866ebf5",
   "metadata": {},
   "source": [
    "Select First_Name from Worker order by First_Name limit 3;"
   ]
  },
  {
   "cell_type": "markdown",
   "id": "fb1fcfa2",
   "metadata": {},
   "source": [
    "###### 2. Write an SQL query to find the position of the alphabet (‘a’) in the first name column ‘Amitabh’ from Worker table."
   ]
  },
  {
   "cell_type": "markdown",
   "id": "0fed1b8d",
   "metadata": {},
   "source": [
    "Select Instr(First_Name, Binary 'a') from Worker where First_Name = 'Amitabh';"
   ]
  },
  {
   "cell_type": "markdown",
   "id": "05f71121",
   "metadata": {},
   "source": [
    "###### 3. Write an SQL query to print the name of employees having the highest salary in each department."
   ]
  },
  {
   "cell_type": "markdown",
   "id": "92e20438",
   "metadata": {},
   "source": [
    "SELECT * FROM Worker WHERE WORKER_ID <=5\n",
    "UNION\n",
    "SELECT * FROM (SELECT * FROM Worker W order by W.WORKER_ID DESC) AS W1 WHERE W1.WORKER_ID <=5;"
   ]
  }
 ],
 "metadata": {
  "kernelspec": {
   "display_name": "Python 3",
   "language": "python",
   "name": "python3"
  },
  "language_info": {
   "codemirror_mode": {
    "name": "ipython",
    "version": 3
   },
   "file_extension": ".py",
   "mimetype": "text/x-python",
   "name": "python",
   "nbconvert_exporter": "python",
   "pygments_lexer": "ipython3",
   "version": "3.8.8"
  }
 },
 "nbformat": 4,
 "nbformat_minor": 5
}
