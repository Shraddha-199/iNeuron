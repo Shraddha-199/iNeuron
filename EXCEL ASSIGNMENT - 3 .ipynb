{
 "cells": [
  {
   "cell_type": "markdown",
   "id": "abf1fd6c",
   "metadata": {},
   "source": [
    "## EXCEL ASSIGNMENT - 3"
   ]
  },
  {
   "cell_type": "markdown",
   "id": "8b671ad8",
   "metadata": {},
   "source": [
    "###### 1. What do you mean by “Relative Cell Referencing” in MS Excel and “Absolute cell referencing”?"
   ]
  },
  {
   "cell_type": "markdown",
   "id": "53bea0e0",
   "metadata": {},
   "source": [
    "A Relative cell reference changes when copying or moving the formula or cell value to a different location in the worksheet. Relative references are very useful when you have a range of cells and you want the references to relatively change as and when you copy the formula down to other cells."
   ]
  },
  {
   "cell_type": "markdown",
   "id": "4e6b3146",
   "metadata": {},
   "source": [
    "###### 2. How to secure an excel workbook, demonstrate it with an example"
   ]
  },
  {
   "cell_type": "markdown",
   "id": "241c28f8",
   "metadata": {},
   "source": [
    "Protect an Excel file\n",
    "\n",
    "    Select File > Info.\n",
    "    Select the Protect Workbook box and choose Encrypt with Password.\n",
    "    Enter a password in the Password box, and then select OK.\n",
    "    Confirm the password in the Reenter Password box, and then select OK."
   ]
  },
  {
   "cell_type": "markdown",
   "id": "99c24639",
   "metadata": {},
   "source": [
    "###### 3. Explain the pivot tables and their implementations"
   ]
  },
  {
   "cell_type": "markdown",
   "id": "5aca5b46",
   "metadata": {},
   "source": [
    "A PivotTable is an interactive way to quickly summarize large amounts of data. You can use a PivotTable to analyze numerical data in detail, and answer unanticipated questions about your data. ... Moving rows to columns or columns to rows (or \"pivoting\") to see different summaries of the source data."
   ]
  },
  {
   "cell_type": "markdown",
   "id": "1c75fbcb",
   "metadata": {},
   "source": [
    "###### 4. Explain lookup in excel with suitable examples."
   ]
  },
  {
   "cell_type": "markdown",
   "id": "22ff9e96",
   "metadata": {},
   "source": [
    "The Microsoft Excel LOOKUP function returns a value from a range (one row or one column) or from an array. The LOOKUP function is a built-in function in Excel that is categorized as a Lookup/Reference Function. ... As a worksheet function, the LOOKUP function can be entered as part of a formula in a cell of a worksheet.\n",
    "Formula\t\t\n",
    "=LOOKUP(4.19, A2:A6, B2:B6)"
   ]
  },
  {
   "cell_type": "code",
   "execution_count": null,
   "id": "476b0852",
   "metadata": {},
   "outputs": [],
   "source": [
    "###### 5. "
   ]
  },
  {
   "cell_type": "code",
   "execution_count": null,
   "id": "9b2f311f",
   "metadata": {},
   "outputs": [],
   "source": []
  },
  {
   "cell_type": "code",
   "execution_count": null,
   "id": "dc5b885c",
   "metadata": {},
   "outputs": [],
   "source": [
    "###### 2. "
   ]
  }
 ],
 "metadata": {
  "kernelspec": {
   "display_name": "Python 3",
   "language": "python",
   "name": "python3"
  },
  "language_info": {
   "codemirror_mode": {
    "name": "ipython",
    "version": 3
   },
   "file_extension": ".py",
   "mimetype": "text/x-python",
   "name": "python",
   "nbconvert_exporter": "python",
   "pygments_lexer": "ipython3",
   "version": "3.8.8"
  }
 },
 "nbformat": 4,
 "nbformat_minor": 5
}
