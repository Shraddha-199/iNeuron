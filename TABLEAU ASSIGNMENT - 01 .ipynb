{
 "cells": [
  {
   "cell_type": "markdown",
   "id": "a06d639d",
   "metadata": {},
   "source": [
    "## TABLEAU ASSIGNMENT - 01"
   ]
  },
  {
   "cell_type": "markdown",
   "id": "1edb57b0",
   "metadata": {},
   "source": [
    "###### 1. What exactly is Tableau?"
   ]
  },
  {
   "cell_type": "markdown",
   "id": "ac75a895",
   "metadata": {},
   "source": [
    "Tableau is a business intelligence software.\n",
    "It allows anyone to connect to the respective data.\n",
    "Visualizes and creates interactive, shareable dashboards."
   ]
  },
  {
   "cell_type": "markdown",
   "id": "c858b928",
   "metadata": {},
   "source": [
    "###### 2. What are the different Tableau products available?"
   ]
  },
  {
   "cell_type": "markdown",
   "id": "bbab502f",
   "metadata": {},
   "source": [
    "Tableau Products\n",
    "\n",
    "    Tableau Desktop. Tableau Desktop allows for authoring of content for visual analytics and data exploration. \n",
    "    Tableau Prep. \n",
    "    Tableau Server and Online. \n",
    "    User based permissions in Tableau Server and Tableau Online.\n",
    "    Tableau Reader. \n",
    "    Tableau Public. \n",
    "    Tableau Viewer. \n",
    "    Tableau Explorer"
   ]
  },
  {
   "cell_type": "markdown",
   "id": "7473f3a2",
   "metadata": {},
   "source": [
    "###### 3. In Tableau, how many tables can you join at once?"
   ]
  },
  {
   "cell_type": "markdown",
   "id": "8dcdc90b",
   "metadata": {},
   "source": [
    "32 TABLES"
   ]
  },
  {
   "cell_type": "code",
   "execution_count": null,
   "id": "15d06c44",
   "metadata": {},
   "outputs": [],
   "source": [
    "###### 4. "
   ]
  },
  {
   "cell_type": "code",
   "execution_count": null,
   "id": "e9b553ce",
   "metadata": {},
   "outputs": [],
   "source": [
    "###### 5. "
   ]
  },
  {
   "cell_type": "code",
   "execution_count": null,
   "id": "6e5d0401",
   "metadata": {},
   "outputs": [],
   "source": [
    "###### 6. "
   ]
  }
 ],
 "metadata": {
  "kernelspec": {
   "display_name": "Python 3",
   "language": "python",
   "name": "python3"
  },
  "language_info": {
   "codemirror_mode": {
    "name": "ipython",
    "version": 3
   },
   "file_extension": ".py",
   "mimetype": "text/x-python",
   "name": "python",
   "nbconvert_exporter": "python",
   "pygments_lexer": "ipython3",
   "version": "3.8.8"
  }
 },
 "nbformat": 4,
 "nbformat_minor": 5
}
