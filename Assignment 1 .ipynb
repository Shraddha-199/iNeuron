{
 "cells": [
  {
   "cell_type": "markdown",
   "id": "9fa22917",
   "metadata": {},
   "source": [
    "#### 1. Write a Python to find those numbers which are divisible by 7 and multiple of 5, between 1500 and 2700 (both included)"
   ]
  },
  {
   "cell_type": "code",
   "execution_count": 1,
   "id": "5871b06a",
   "metadata": {},
   "outputs": [
    {
     "name": "stdout",
     "output_type": "stream",
     "text": [
      "1505\n",
      "1540\n",
      "1575\n",
      "1610\n",
      "1645\n",
      "1680\n",
      "1715\n",
      "1750\n",
      "1785\n",
      "1820\n",
      "1855\n",
      "1890\n",
      "1925\n",
      "1960\n",
      "1995\n",
      "2030\n",
      "2065\n",
      "2100\n",
      "2135\n",
      "2170\n",
      "2205\n",
      "2240\n",
      "2275\n",
      "2310\n",
      "2345\n",
      "2380\n",
      "2415\n",
      "2450\n",
      "2485\n",
      "2520\n",
      "2555\n",
      "2590\n",
      "2625\n",
      "2660\n",
      "2695\n"
     ]
    }
   ],
   "source": [
    "u_limit = 2700\n",
    "l_limit = 1500\n",
    "\n",
    "for i in range (l_limit,u_limit):\n",
    "    if i%7==0 and i%5==0:\n",
    "        print(i)"
   ]
  },
  {
   "cell_type": "markdown",
   "id": "ce60ba77",
   "metadata": {},
   "source": [
    "#### 2. Python program to add two numbers."
   ]
  },
  {
   "cell_type": "code",
   "execution_count": 2,
   "id": "3d325f3b",
   "metadata": {},
   "outputs": [
    {
     "name": "stdout",
     "output_type": "stream",
     "text": [
      "11\n"
     ]
    }
   ],
   "source": [
    "a = 5\n",
    "b = 6\n",
    "c = a+b\n",
    "print(c)"
   ]
  },
  {
   "cell_type": "markdown",
   "id": "cf5ac428",
   "metadata": {},
   "source": [
    "#### 3. Maximum of two numbers in Python."
   ]
  },
  {
   "cell_type": "code",
   "execution_count": 3,
   "id": "b65c372c",
   "metadata": {},
   "outputs": [
    {
     "name": "stdout",
     "output_type": "stream",
     "text": [
      "4\n"
     ]
    }
   ],
   "source": [
    "a = 2\n",
    "b = 4\n",
    "max = max(a,b)\n",
    "print(max)"
   ]
  },
  {
   "cell_type": "markdown",
   "id": "d1d386e1",
   "metadata": {},
   "source": [
    "#### 4. Python program for factorial of a number."
   ]
  },
  {
   "cell_type": "code",
   "execution_count": 4,
   "id": "d8baa645",
   "metadata": {},
   "outputs": [
    {
     "data": {
      "text/plain": [
       "5040"
      ]
     },
     "execution_count": 4,
     "metadata": {},
     "output_type": "execute_result"
    }
   ],
   "source": [
    "def factorial(n):\n",
    "    return 1 if (n==1 or n==0) else n * factorial(n - 1);\n",
    "    print(\"Factorial of\" , num , \"is\" , factorial(num))\n",
    "    \n",
    "factorial(7)   "
   ]
  },
  {
   "cell_type": "markdown",
   "id": "813633a4",
   "metadata": {},
   "source": [
    "#### 5. Python program for simple interest."
   ]
  },
  {
   "cell_type": "code",
   "execution_count": 5,
   "id": "38b4e8d4",
   "metadata": {},
   "outputs": [
    {
     "name": "stdout",
     "output_type": "stream",
     "text": [
      "Enter principle : 100000\n",
      "Enter time : 1\n",
      "Enter rate : 2\n",
      "Simple Interest is :  2000.0\n"
     ]
    }
   ],
   "source": [
    "p = int(input(\"Enter principle : \"))\n",
    "t = int(input(\"Enter time : \"))\n",
    "r = int(input(\"Enter rate : \"))\n",
    "\n",
    "p = 100000\n",
    "t = 1\n",
    "r = 2\n",
    "\n",
    "si = (p*t*r)/100\n",
    "print(\"Simple Interest is : \" , si)"
   ]
  },
  {
   "cell_type": "markdown",
   "id": "f658403a",
   "metadata": {},
   "source": [
    "#### 6. Python program for compound interest."
   ]
  },
  {
   "cell_type": "code",
   "execution_count": 6,
   "id": "ecbc715b",
   "metadata": {},
   "outputs": [
    {
     "name": "stdout",
     "output_type": "stream",
     "text": [
      "Enter principle : 10000\n",
      "Enter time : 2\n",
      "Enter rate : 3\n",
      "Compound Interest is :  609.0\n"
     ]
    }
   ],
   "source": [
    "p = int(input(\"Enter principle : \"))\n",
    "t = int(input(\"Enter time : \"))\n",
    "r = int(input(\"Enter rate : \"))\n",
    "\n",
    "amount = p*(pow((1+r/100),t))\n",
    "ci = amount-p\n",
    "print(\"Compound Interest is : \" , ci)"
   ]
  },
  {
   "cell_type": "markdown",
   "id": "8418a4aa",
   "metadata": {},
   "source": [
    "#### 7. Python program to check Armstrong Number."
   ]
  },
  {
   "cell_type": "code",
   "execution_count": 7,
   "id": "65e568da",
   "metadata": {},
   "outputs": [
    {
     "name": "stdout",
     "output_type": "stream",
     "text": [
      "Enter the number: 123\n",
      "The number 123 is not a armstrong number\n"
     ]
    }
   ],
   "source": [
    "num = int(input(\"Enter the number: \"))\n",
    "temp = num\n",
    "cnt = 0\n",
    "while temp > 0:\n",
    "    cnt = cnt + 1\n",
    "    temp = temp // 10\n",
    "sum = 0\n",
    "temp = num\n",
    "while temp > 0:\n",
    "    rem = temp % 10\n",
    "    sum = sum + pow (rem, cnt)\n",
    "    temp = temp // 10\n",
    "    \n",
    "if(num == sum):\n",
    "    print(\"The number\", num, \"is an Armstrong number\")\n",
    "else:\n",
    "    print(\"The number\", num, \"is not a armstrong number\")"
   ]
  },
  {
   "cell_type": "markdown",
   "id": "73246e24",
   "metadata": {},
   "source": [
    "#### 8. Python program for program to find area of a circle."
   ]
  },
  {
   "cell_type": "code",
   "execution_count": 8,
   "id": "6a57b255",
   "metadata": {},
   "outputs": [
    {
     "name": "stdout",
     "output_type": "stream",
     "text": [
      "Enter the radius of the circle: 21\n",
      "Area of the Circle is : 1385.442360233099\n"
     ]
    }
   ],
   "source": [
    "import math\n",
    "radius = float(input(\"Enter the radius of the circle: \"))\n",
    "area = math.pi*radius*radius\n",
    "print(\"Area of the Circle is : {0}\".format(area))"
   ]
  },
  {
   "cell_type": "markdown",
   "id": "1bf8102c",
   "metadata": {},
   "source": [
    "#### 9. Python program to print all Prime number in an interval."
   ]
  },
  {
   "cell_type": "code",
   "execution_count": 9,
   "id": "822af7ce",
   "metadata": {},
   "outputs": [
    {
     "name": "stdout",
     "output_type": "stream",
     "text": [
      "Enter lower bound : 0\n",
      "Enter upper bound : 20\n",
      "2\n",
      "3\n",
      "5\n",
      "7\n",
      "11\n",
      "13\n",
      "17\n",
      "19\n"
     ]
    }
   ],
   "source": [
    "lower = int(input('Enter lower bound : '))\n",
    "upper = int(input('Enter upper bound : '))\n",
    "\n",
    "for num in range (lower, upper + 1):\n",
    "    if num > 1:\n",
    "        for i in range(2,num):\n",
    "            if num%i ==0:\n",
    "                break\n",
    "                \n",
    "        else:\n",
    "            print(num)"
   ]
  },
  {
   "cell_type": "markdown",
   "id": "f191f373",
   "metadata": {},
   "source": [
    "#### 10. Python program to check whether a number is prime or not."
   ]
  },
  {
   "cell_type": "code",
   "execution_count": 10,
   "id": "9ca27fc6",
   "metadata": {},
   "outputs": [
    {
     "name": "stdout",
     "output_type": "stream",
     "text": [
      "Not Prime\n"
     ]
    }
   ],
   "source": [
    "num = 10\n",
    "\n",
    "for i in range (2,num):\n",
    "    if num % i ==0:\n",
    "        print(\"Not Prime\")\n",
    "        break\n",
    "else:\n",
    "    print(\"Prime\")"
   ]
  }
 ],
 "metadata": {
  "kernelspec": {
   "display_name": "Python 3",
   "language": "python",
   "name": "python3"
  },
  "language_info": {
   "codemirror_mode": {
    "name": "ipython",
    "version": 3
   },
   "file_extension": ".py",
   "mimetype": "text/x-python",
   "name": "python",
   "nbconvert_exporter": "python",
   "pygments_lexer": "ipython3",
   "version": "3.8.8"
  }
 },
 "nbformat": 4,
 "nbformat_minor": 5
}
