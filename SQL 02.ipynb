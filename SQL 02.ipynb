{
 "cells": [
  {
   "cell_type": "markdown",
   "id": "3f9d8047",
   "metadata": {},
   "source": [
    "## SQL ASSIGNMENT - 2"
   ]
  },
  {
   "cell_type": "markdown",
   "id": "0bb33cc2",
   "metadata": {},
   "source": [
    "#### 1. For an online purchasing database, create entity relationship diagrams. Create a database object from your entity diagram."
   ]
  },
  {
   "cell_type": "markdown",
   "id": "76c131c5",
   "metadata": {},
   "source": [
    "How to Draw an Entity Relationship Diagram\n",
    "\n",
    "    1. Determine the Entities in Your ERD. Start by identifying the “what”s in your system or architecture. ...\n",
    "    2. Add Attributes to Each Entity. ...\n",
    "    3. Define the Relationships Between Entities. ...\n",
    "    4. Add Cardinality to Every Relationship. ...\n",
    "    5. Finish and Save Your ERD."
   ]
  },
  {
   "cell_type": "markdown",
   "id": "94036ab7",
   "metadata": {},
   "source": [
    "#### 2. Create a SQL store process to register the use of the database, complete it with proper validation and transaction rollback and commit."
   ]
  },
  {
   "cell_type": "code",
   "execution_count": null,
   "id": "b22771ff",
   "metadata": {},
   "outputs": [],
   "source": []
  },
  {
   "cell_type": "markdown",
   "id": "ed869927",
   "metadata": {},
   "source": [
    "#### 3. List the SQL aggregate function and demonstrate how to utilize it."
   ]
  },
  {
   "cell_type": "markdown",
   "id": "790a9bd6",
   "metadata": {},
   "source": [
    "SQL Aggregate Functions\n",
    "\n",
    "    AVG – calculates the average of a set of values.\n",
    "    COUNT – counts rows in a specified table or view.\n",
    "    MIN – gets the minimum value in a set of values.\n",
    "    MAX – gets the maximum value in a set of values.\n",
    "    SUM – calculates the sum of values.\n",
    "\n"
   ]
  },
  {
   "cell_type": "markdown",
   "id": "f8faf9d7",
   "metadata": {},
   "source": [
    "#### 4. In SQL, create a pivot query."
   ]
  },
  {
   "cell_type": "markdown",
   "id": "842b95e9",
   "metadata": {},
   "source": [
    "SELECT Name, 2010,2011,2012 FROM   \n",
    "(SELECT Name, [Year] , Sales FROM Employee )Tab1  \n",
    "PIVOT  \n",
    "(  \n",
    "SUM(Sales) FOR [Year] IN (2010,2011,2012)) AS Tab2  \n",
    "ORDER BY Tab2.Name"
   ]
  },
  {
   "cell_type": "markdown",
   "id": "e2c302a4",
   "metadata": {},
   "source": [
    "#### 5. With an example, describe how to join in SQL."
   ]
  },
  {
   "cell_type": "markdown",
   "id": "6ad2e94d",
   "metadata": {},
   "source": [
    "SQL JOIN. A JOIN clause is used to combine rows from two or more tables, based on a related column between them. Notice that the \"CustomerID\" column in the \"Orders\" table refers to the \"CustomerID\" in the \"Customers\" table. The relationship between the two tables above is the \"CustomerID\" column."
   ]
  },
  {
   "cell_type": "markdown",
   "id": "20075ee1",
   "metadata": {},
   "source": [
    "#### 6. How to locate the 4th highest value in a column in a row. Create your table."
   ]
  },
  {
   "cell_type": "markdown",
   "id": "89bb337f",
   "metadata": {},
   "source": [
    "To find 4th Highest salary query will be : Select Salary from table_name order by Salary DESC limit 3,1; Here we are skipping 3 rows from Top and returning only 1 row after skipping "
   ]
  }
 ],
 "metadata": {
  "kernelspec": {
   "display_name": "Python 3",
   "language": "python",
   "name": "python3"
  },
  "language_info": {
   "codemirror_mode": {
    "name": "ipython",
    "version": 3
   },
   "file_extension": ".py",
   "mimetype": "text/x-python",
   "name": "python",
   "nbconvert_exporter": "python",
   "pygments_lexer": "ipython3",
   "version": "3.8.8"
  }
 },
 "nbformat": 4,
 "nbformat_minor": 5
}
