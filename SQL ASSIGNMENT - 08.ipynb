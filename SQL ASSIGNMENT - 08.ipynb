{
 "cells": [
  {
   "cell_type": "markdown",
   "id": "092b6472",
   "metadata": {},
   "source": [
    "## SQL ASSIGNMENT - 08"
   ]
  },
  {
   "cell_type": "markdown",
   "id": "61762128",
   "metadata": {},
   "source": [
    "###### 1. Write an SQL query to fetch intersecting records of two tables."
   ]
  },
  {
   "cell_type": "code",
   "execution_count": null,
   "id": "57afb5ee",
   "metadata": {},
   "outputs": [],
   "source": [
    "(SELECT * FROM Worker)\n",
    "INTERSECT\n",
    "(SELECT * FROM WorkerClone);"
   ]
  },
  {
   "cell_type": "markdown",
   "id": "30b075ca",
   "metadata": {},
   "source": [
    "###### 2. Write an SQL query to show records from one table that another table does not have."
   ]
  },
  {
   "cell_type": "code",
   "execution_count": null,
   "id": "e67102ea",
   "metadata": {},
   "outputs": [],
   "source": [
    "SELECT * FROM Worker\n",
    "MINUS\n",
    "SELECT * FROM Title;"
   ]
  }
 ],
 "metadata": {
  "kernelspec": {
   "display_name": "Python 3",
   "language": "python",
   "name": "python3"
  },
  "language_info": {
   "codemirror_mode": {
    "name": "ipython",
    "version": 3
   },
   "file_extension": ".py",
   "mimetype": "text/x-python",
   "name": "python",
   "nbconvert_exporter": "python",
   "pygments_lexer": "ipython3",
   "version": "3.8.8"
  }
 },
 "nbformat": 4,
 "nbformat_minor": 5
}
