{
 "cells": [
  {
   "cell_type": "markdown",
   "id": "12a91a1f",
   "metadata": {},
   "source": [
    "## STATITICS ASSIGNMENT - 04"
   ]
  },
  {
   "cell_type": "markdown",
   "id": "925776f7",
   "metadata": {},
   "source": [
    "###### 1.Is it possible that an event is independent of itself? If so, when?"
   ]
  },
  {
   "cell_type": "markdown",
   "id": "615dfab6",
   "metadata": {},
   "source": [
    "The only events that are independent of themselves are those with probability either 0 or 1.\n",
    "That follows from the fact that a number is its own square if and only if it's either 0 or 1. \n",
    "The only way a random variable X can be independent of itself is if for every measurable set A,\n",
    "either Pr(X∈A)=1 or Pr(X∈A)=0."
   ]
  },
  {
   "cell_type": "markdown",
   "id": "a505b503",
   "metadata": {},
   "source": [
    "###### 2.Is it always true that if A and B are independent events, then Ac and Bc are independent events? Show that it is, or give a counter example."
   ]
  },
  {
   "cell_type": "code",
   "execution_count": null,
   "id": "fc83e866",
   "metadata": {},
   "outputs": [],
   "source": [
    "So by definition, A and BC are also independent, which by definition again means that the\n",
    "occurrence of BC doesn't affect the probability of A. ... Therefore, the occurrence of BC also\n",
    "doesn't affect the probability of AC. So by definition, BC and AC are also independent."
   ]
  }
 ],
 "metadata": {
  "kernelspec": {
   "display_name": "Python 3",
   "language": "python",
   "name": "python3"
  },
  "language_info": {
   "codemirror_mode": {
    "name": "ipython",
    "version": 3
   },
   "file_extension": ".py",
   "mimetype": "text/x-python",
   "name": "python",
   "nbconvert_exporter": "python",
   "pygments_lexer": "ipython3",
   "version": "3.8.8"
  }
 },
 "nbformat": 4,
 "nbformat_minor": 5
}
