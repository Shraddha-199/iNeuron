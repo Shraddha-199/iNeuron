{
 "cells": [
  {
   "cell_type": "code",
   "execution_count": null,
   "id": "ecd9f0b4",
   "metadata": {},
   "outputs": [],
   "source": [
    "STATICTICS ASSIGNMENT - 10"
   ]
  },
  {
   "cell_type": "code",
   "execution_count": null,
   "id": "8bb03a04",
   "metadata": {},
   "outputs": [],
   "source": [
    "1. A chicken lays n eggs. Each egg independently does or doesn’t hatch, with probability \n",
    "p of hatching. For each egg that hatches, the chick does or doesn’t survive \n",
    "(independently of the other eggs), with probability s of survival. Let N ⇠Bin(n, p)\n",
    "be the number of eggs which hatch, X be the number of chicks which survive, and \n",
    "Y be the number of chicks which hatch but don’t survive (so X + Y = N). \n",
    "Find the marginal PMF of X, and the joint PMF of X and Y . Are they independent?"
   ]
  },
  {
   "cell_type": "code",
   "execution_count": null,
   "id": "d58d315d",
   "metadata": {},
   "outputs": [],
   "source": [
    "the probability that a egg hatches and chick survives is psps. \n",
    "We can consider each egg as a Bernoulli trial each with a success (hatching and surviving) \n",
    "probability psps. There are nn independent trials, so X∼Bin(n,ps)X∼Bin(n,ps).\n",
    "\n",
    "But I am trying to prove this more rigorously.\n",
    "\n",
    "For any 1≤i≤n1≤i≤n we have\n",
    "\n",
    "P(X=i)=∑j=0nP(X=i|N=j)P(N=j)=∑j=inP(X=i|N=j)P(N=j)=∑j=in(ji)si(1−s)j−i(nj)pj(1−p)n−j\n",
    "\n",
    "the probability that a egg hatches and chick survives is psps. \n",
    "We can consider each egg as a Bernoulli trial each with a success (hatching and surviving) \n",
    "probability psps. There are nn independent trials, so X∼Bin(n,ps)X∼Bin(n,ps).\n",
    "\n",
    "But I am trying to prove this more rigorously.\n",
    "\n",
    "For any 1≤i≤n1≤i≤n we have\n",
    "\n",
    "P(X=i)=∑j=0nP(X=i|N=j)P(N=j)=∑j=inP(X=i|N=j)P(N=j)=∑j=in(ji)si(1−s)j−i(nj)pj(1−p)n−j"
   ]
  }
 ],
 "metadata": {
  "kernelspec": {
   "display_name": "Python 3",
   "language": "python",
   "name": "python3"
  },
  "language_info": {
   "codemirror_mode": {
    "name": "ipython",
    "version": 3
   },
   "file_extension": ".py",
   "mimetype": "text/x-python",
   "name": "python",
   "nbconvert_exporter": "python",
   "pygments_lexer": "ipython3",
   "version": "3.8.8"
  }
 },
 "nbformat": 4,
 "nbformat_minor": 5
}
