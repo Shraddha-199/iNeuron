{
 "cells": [
  {
   "cell_type": "markdown",
   "id": "38759574",
   "metadata": {},
   "source": [
    "## Power BI Assignment 3"
   ]
  },
  {
   "cell_type": "markdown",
   "id": "12b7ad9d",
   "metadata": {},
   "source": [
    "#### 1.  List and explain different PowerBi products?"
   ]
  },
  {
   "cell_type": "markdown",
   "id": "41c01ec3",
   "metadata": {},
   "source": [
    "Power BI Products and Pricing\n",
    "\n",
    "    Creating and editing customized reports for every level of expertise.\n",
    "    Data ingestion from hundreds of supported data sources.\n",
    "    Data transformation, cleaning, data model creation with built-in Power Query Editor.\n",
    "    AI-driven analytics.\n",
    "    Interactive reporting with pre-built or custom visuals."
   ]
  },
  {
   "cell_type": "markdown",
   "id": "a61c4c39",
   "metadata": {},
   "source": [
    "#### 3. Explain PowerQuery?"
   ]
  },
  {
   "cell_type": "markdown",
   "id": "10b5bfb4",
   "metadata": {},
   "source": [
    "Power query is a ETL Tool used to shape, clean and transform data using intuitive interfaces without having to use coding. It helps the user to:\n",
    "\n",
    "    1. Import Data from wide range of sources from files, databases, big data, social media data, etc.\n",
    "    2. Join and append data from multiple data sources.\n",
    "    3. Shape data as per requirement by removing and adding data."
   ]
  },
  {
   "cell_type": "markdown",
   "id": "d87cfe3d",
   "metadata": {},
   "source": [
    "#### 4. Explain PowerMap?"
   ]
  },
  {
   "cell_type": "markdown",
   "id": "f9ae16e3",
   "metadata": {},
   "source": [
    "Power Map is an Excel add-in that provides you with a powerful set of tools to help you visualize and gain insight into large sets of data that have a geo-coded component. It can help you produce 3D visualizations by plotting upto a million data points in the form of column, heat, and bubble maps on top of a Bing map. If the data is time stamped, it can also produce interactive views that display, how the data changes over space and time."
   ]
  }
 ],
 "metadata": {
  "kernelspec": {
   "display_name": "Python 3",
   "language": "python",
   "name": "python3"
  },
  "language_info": {
   "codemirror_mode": {
    "name": "ipython",
    "version": 3
   },
   "file_extension": ".py",
   "mimetype": "text/x-python",
   "name": "python",
   "nbconvert_exporter": "python",
   "pygments_lexer": "ipython3",
   "version": "3.8.8"
  }
 },
 "nbformat": 4,
 "nbformat_minor": 5
}
