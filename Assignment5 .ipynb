{
 "cells": [
  {
   "cell_type": "markdown",
   "id": "9d1e5ec9",
   "metadata": {},
   "source": [
    "#### 1. Python program to print all negative numbers in a range."
   ]
  },
  {
   "cell_type": "code",
   "execution_count": 1,
   "id": "460f6718",
   "metadata": {},
   "outputs": [
    {
     "name": "stdout",
     "output_type": "stream",
     "text": [
      "-4 -3 -2 -1 "
     ]
    }
   ],
   "source": [
    "start , end = -4,19\n",
    "for num in range (start, end + 1):\n",
    "    if num < 0:\n",
    "        print(num, end = \" \")"
   ]
  },
  {
   "cell_type": "markdown",
   "id": "1a345c47",
   "metadata": {},
   "source": [
    "#### 2. Remove multiple elements from a list in Python."
   ]
  },
  {
   "cell_type": "code",
   "execution_count": 2,
   "id": "671c9ee3",
   "metadata": {},
   "outputs": [
    {
     "name": "stdout",
     "output_type": "stream",
     "text": [
      "new list after removing all even numbers:  [11, 5, 17, 23, 20]\n"
     ]
    }
   ],
   "source": [
    "list = [11,5,17,18,23,50,20]\n",
    "for ele in list:\n",
    "    if ele % 2 == 0:\n",
    "        list.remove(ele)\n",
    "print(\"new list after removing all even numbers: \", list)"
   ]
  },
  {
   "cell_type": "markdown",
   "id": "1415c81f",
   "metadata": {},
   "source": [
    "#### 3. Write a python program to Remove empty list from list."
   ]
  },
  {
   "cell_type": "code",
   "execution_count": 3,
   "id": "7b0d79de",
   "metadata": {},
   "outputs": [
    {
     "name": "stdout",
     "output_type": "stream",
     "text": [
      "The original list is : [5, 6, [], 3, [], [], [], 9]\n",
      "List after empty list removal : [5, 6, 3, 9]\n"
     ]
    }
   ],
   "source": [
    "list = [5,6,[],3,[],[],[],9]\n",
    "print(\"The original list is : \" + str(list))\n",
    "res = [ele for ele in list if ele != []]\n",
    "print(\"List after empty list removal : \" + str(res))"
   ]
  },
  {
   "cell_type": "markdown",
   "id": "a1ce8629",
   "metadata": {},
   "source": [
    "#### 4. Write a python program to cloning or copying a list."
   ]
  },
  {
   "cell_type": "code",
   "execution_count": 4,
   "id": "1da28040",
   "metadata": {},
   "outputs": [
    {
     "name": "stdout",
     "output_type": "stream",
     "text": [
      "Original List:  [4, 8, 2, 10, 15, 18]\n",
      "After Cloning:  [4, 8, 2, 10, 15, 18]\n"
     ]
    }
   ],
   "source": [
    "def Cloning(li1):\n",
    "    li_copy = li1[:]\n",
    "    return li_copy\n",
    "\n",
    "li1 = [4,8,2,10,15,18]\n",
    "li2 = Cloning(li1)\n",
    "print(\"Original List: \", li1)\n",
    "print(\"After Cloning: \", li2)"
   ]
  },
  {
   "cell_type": "markdown",
   "id": "2c40522f",
   "metadata": {},
   "source": [
    "#### 5. Write a python program to Count occurences of an elements in a list."
   ]
  },
  {
   "cell_type": "code",
   "execution_count": 5,
   "id": "f69fcb41",
   "metadata": {},
   "outputs": [
    {
     "data": {
      "text/plain": [
       "2"
      ]
     },
     "execution_count": 5,
     "metadata": {},
     "output_type": "execute_result"
    }
   ],
   "source": [
    "list = [1,2,2,3,4,5,6,7]\n",
    "list.count(2)"
   ]
  },
  {
   "cell_type": "markdown",
   "id": "e42870ba",
   "metadata": {},
   "source": [
    "#### 6. Write a python program to Remove empty tuples from a list."
   ]
  },
  {
   "cell_type": "code",
   "execution_count": 6,
   "id": "46cf8f12",
   "metadata": {},
   "outputs": [
    {
     "name": "stdout",
     "output_type": "stream",
     "text": [
      "[('ram', '15', '8'), ('laxman', 'sita')]\n"
     ]
    }
   ],
   "source": [
    "tuple = [(), ('ram', '15','8'), (), ('laxman', 'sita')]\n",
    "def Remove (tuple):\n",
    "    tuple = [t for t in tuple if t]\n",
    "    return tuple\n",
    "\n",
    "print(Remove(tuple))"
   ]
  },
  {
   "cell_type": "markdown",
   "id": "f3e82a92",
   "metadata": {},
   "source": [
    "#### 7. Write a python program to Program to print duplicates from a list of integers."
   ]
  },
  {
   "cell_type": "code",
   "execution_count": 1,
   "id": "88344e60",
   "metadata": {},
   "outputs": [
    {
     "name": "stdout",
     "output_type": "stream",
     "text": [
      "Counter({3: 2, 2: 2, 6: 2, 5: 2, 1: 1, 4: 1})\n",
      "[3, 2, 6, 5]\n"
     ]
    }
   ],
   "source": [
    "from collections import Counter\n",
    "\n",
    "li = [1,3,2,6,2,3,5,6,4,5]\n",
    "d = Counter (li)\n",
    "print(d)\n",
    "\n",
    "repeated_list = list([num for num in d if d[num]>1])\n",
    "print(repeated_list)"
   ]
  },
  {
   "cell_type": "markdown",
   "id": "89413a25",
   "metadata": {},
   "source": [
    "#### 8. Write a python program to find Cumulative sum of a list."
   ]
  },
  {
   "cell_type": "code",
   "execution_count": 8,
   "id": "c27ca182",
   "metadata": {},
   "outputs": [
    {
     "name": "stdout",
     "output_type": "stream",
     "text": [
      "[10, 30, 60, 100, 150]\n"
     ]
    }
   ],
   "source": [
    "def Cumulative (lists):\n",
    "    cu_list = []\n",
    "    length = len(lists)\n",
    "    cu_list = [sum(lists[0:x:1]) for x in range(0, length+1)]\n",
    "    return cu_list[1:]\n",
    "lists = [10,20,30,40,50]\n",
    "print(Cumulative(lists))"
   ]
  },
  {
   "cell_type": "markdown",
   "id": "941d28ce",
   "metadata": {},
   "source": [
    "#### 9. Write a python program to sum of number digits in list."
   ]
  },
  {
   "cell_type": "code",
   "execution_count": 9,
   "id": "aee97683",
   "metadata": {},
   "outputs": [
    {
     "name": "stdout",
     "output_type": "stream",
     "text": [
      "The original list is : [12, 67, 98, 34]\n",
      "List Integer Summation : [3, 13, 17, 7]\n"
     ]
    }
   ],
   "source": [
    "list = [12,67,98,34]\n",
    "print(\"The original list is : \"+ str(list))\n",
    "res = []\n",
    "for ele in list:\n",
    "    sum = 0\n",
    "    for digit in str(ele):\n",
    "        sum+= int(digit)\n",
    "    res.append(sum)\n",
    "print(\"List Integer Summation : \" + str(res))"
   ]
  },
  {
   "cell_type": "markdown",
   "id": "4b2f7fc0",
   "metadata": {},
   "source": [
    "#### 10. Write a python program to Break a list into chunks of size N."
   ]
  },
  {
   "cell_type": "code",
   "execution_count": 10,
   "id": "a6a2361a",
   "metadata": {},
   "outputs": [
    {
     "name": "stdout",
     "output_type": "stream",
     "text": [
      "[[1, 2, 3, 4], [5, 6, 7, 8], [9]]\n"
     ]
    }
   ],
   "source": [
    "list = [1,2,3,4,5,6,7,8,9]\n",
    "n = 4\n",
    "final = [list[i * n:(i +1) * n] for i in range ((len(list) + n - 1 ) // n )]\n",
    "print(final)"
   ]
  },
  {
   "cell_type": "markdown",
   "id": "6db19622",
   "metadata": {},
   "source": [
    "#### 11. Write a python program to Sort the values of list using second list."
   ]
  },
  {
   "cell_type": "code",
   "execution_count": 11,
   "id": "9caba467",
   "metadata": {},
   "outputs": [
    {
     "name": "stdout",
     "output_type": "stream",
     "text": [
      "['a', 'd', 'h', 'b', 'c', 'e', 'i', 'f', 'g']\n",
      "['g', 'j', 's', 'e', 'e', 'h', 't', 'o', 'p']\n"
     ]
    }
   ],
   "source": [
    "def sort_list(list1, list2):\n",
    "    zipped_pairs = zip(list2, list1)\n",
    "    z = [x for _, x in sorted (zipped_pairs)]\n",
    "    \n",
    "    return z\n",
    "x = ['a', 'b', 'c', 'd', 'e', 'f', 'g', 'h', 'i']\n",
    "y = [0 , 1 , 1 , 0 , 1 , 2 , 2 , 0 , 1] \n",
    "\n",
    "print(sort_list(x,y))\n",
    "\n",
    "x = ['g', 'e', 'e', 'j', 'h', 'o', 'p', 's', 't']\n",
    "y = [0 , 1 , 1 , 0 , 1 , 2 , 2 , 0 , 1]\n",
    "\n",
    "print(sort_list(x,y))"
   ]
  }
 ],
 "metadata": {
  "kernelspec": {
   "display_name": "Python 3",
   "language": "python",
   "name": "python3"
  },
  "language_info": {
   "codemirror_mode": {
    "name": "ipython",
    "version": 3
   },
   "file_extension": ".py",
   "mimetype": "text/x-python",
   "name": "python",
   "nbconvert_exporter": "python",
   "pygments_lexer": "ipython3",
   "version": "3.8.8"
  }
 },
 "nbformat": 4,
 "nbformat_minor": 5
}
