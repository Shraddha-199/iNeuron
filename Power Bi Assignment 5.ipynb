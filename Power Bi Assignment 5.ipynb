{
 "cells": [
  {
   "cell_type": "markdown",
   "id": "6f26b4cf",
   "metadata": {},
   "source": [
    "## Power BI Assignment 5"
   ]
  },
  {
   "cell_type": "markdown",
   "id": "95286176",
   "metadata": {},
   "source": [
    "#### 1. Explain DAX."
   ]
  },
  {
   "cell_type": "markdown",
   "id": "20b2f42e",
   "metadata": {},
   "source": [
    "To do basic calculation and data analysis on data in power pivot, we use Data Analysis Expression (DAX). It is formula language used to compute calculated column and calculated field.\n",
    "\n",
    "    DAX works on column values.\n",
    "    DAX can not modify or insert data.\n",
    "    We can create calculated column and measures with DAX but we can not calculate rows using DAX.\n",
    "\n",
    "Sample DAX formula syntax:\n",
    "\n",
    "For the measure named Total Sales, calculate (=) the SUM of values in the [SalesAmount] column in the Sales table."
   ]
  },
  {
   "cell_type": "markdown",
   "id": "97885346",
   "metadata": {},
   "source": [
    "#### 2. Explain datasets, reports, and dashboards and how they relate to each other?"
   ]
  },
  {
   "cell_type": "markdown",
   "id": "06099f5a",
   "metadata": {},
   "source": [
    "Dataset: The source used to create reports and visuals/tiles.\n",
    "\n",
    "    1. A data model (local to PBIX or XLSX) or model in an Analysis Services Server\n",
    "    2. Data could be inside of model (imported) or a Direct Query connection to a source.\n",
    "\n",
    "Report: An individual Power BI Desktop file (PBIX) containing one or more report pages.\n",
    "\n",
    "    1. Built for deep, interactive analysis experience for a given dataset (filters, formatting).\n",
    "    2. Each Report is connected to atleast one dataset\n",
    "    3. Each page containing one or more visuals or tiles.\n",
    "\n",
    "Dashboard: a collection of visuals or tiles from different reports and, optionally, a pinned.\n",
    "\n",
    "    1. Built to aggregate primary visuals and metrics from multiple datasets."
   ]
  },
  {
   "cell_type": "markdown",
   "id": "b55ad32a",
   "metadata": {},
   "source": [
    "#### 3. How reports can be created in power BI, explain two ways with Navigation of each."
   ]
  },
  {
   "cell_type": "code",
   "execution_count": null,
   "id": "bff4d344",
   "metadata": {},
   "outputs": [],
   "source": []
  },
  {
   "cell_type": "markdown",
   "id": "63bd5048",
   "metadata": {},
   "source": [
    "#### 4. How to connect to data in Power BI? How to use the content pack to connect to google analytics? Mention the steps."
   ]
  },
  {
   "cell_type": "markdown",
   "id": "5c75df18",
   "metadata": {},
   "source": [
    "Launch Power BI Desktop. On the ribbon, in the External Data group, click Get Data. In the Get Data window, click Other. From the list of other data sources, click Google Analytics, and then click Connect.\n",
    "\n"
   ]
  },
  {
   "cell_type": "markdown",
   "id": "e178d4c7",
   "metadata": {},
   "source": [
    "#### 5. How to import Local files in Power BI? Mention the Steps."
   ]
  },
  {
   "cell_type": "markdown",
   "id": "9a94dabc",
   "metadata": {},
   "source": [
    "Manually import data to Power BI\n",
    "\n",
    "    1. In Power BI, click Get Data in the lower left screen.\n",
    "    2. Under Import or Connect to Data > Files, click Get.\n",
    "    3. Click Local File.\n",
    "    4. Choose which file to upload and click Open.\n",
    "    5. Click Upload under Upload your Excel file to Power BI.\n",
    "    6. The message “Your file has been uploaded” should appear."
   ]
  },
  {
   "cell_type": "markdown",
   "id": "6d869ccf",
   "metadata": {},
   "source": [
    "#### 6. In Power BI visualization, what are Reading View and Editing view?"
   ]
  },
  {
   "cell_type": "markdown",
   "id": "43cb6034",
   "metadata": {},
   "source": [
    "There are two modes for interacting with reports in the Power BI service: Editing view and Reading view. If you are a business user, then you are more likely to use Reading view to consume reports created by others. Editing view is used by report designers, who create the reports and share them with you."
   ]
  }
 ],
 "metadata": {
  "kernelspec": {
   "display_name": "Python 3",
   "language": "python",
   "name": "python3"
  },
  "language_info": {
   "codemirror_mode": {
    "name": "ipython",
    "version": 3
   },
   "file_extension": ".py",
   "mimetype": "text/x-python",
   "name": "python",
   "nbconvert_exporter": "python",
   "pygments_lexer": "ipython3",
   "version": "3.8.8"
  }
 },
 "nbformat": 4,
 "nbformat_minor": 5
}
