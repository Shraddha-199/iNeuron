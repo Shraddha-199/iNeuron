{
 "cells": [
  {
   "cell_type": "markdown",
   "id": "3b429146",
   "metadata": {},
   "source": [
    "#### 1. Python Program for n-th Fibonacci number."
   ]
  },
  {
   "cell_type": "code",
   "execution_count": 3,
   "id": "6663f44f",
   "metadata": {},
   "outputs": [
    {
     "name": "stdout",
     "output_type": "stream",
     "text": [
      "2\n"
     ]
    }
   ],
   "source": [
    "n = int(input())\n",
    "a = 1\n",
    "b = 1\n",
    "c = 0\n",
    "i = 3\n",
    "while i<=n:\n",
    "    c = a +b\n",
    "    a = b \n",
    "    b = c\n",
    "    i = i + 1\n",
    "    print(c)"
   ]
  },
  {
   "cell_type": "markdown",
   "id": "cd12eade",
   "metadata": {},
   "source": [
    "#### 2. Python Program for How to check if a given number is Fibonacci number?"
   ]
  },
  {
   "cell_type": "code",
   "execution_count": 4,
   "id": "8511b07e",
   "metadata": {},
   "outputs": [
    {
     "name": "stdout",
     "output_type": "stream",
     "text": [
      "enter the number:5\n",
      "5 is fibonacci number\n"
     ]
    }
   ],
   "source": [
    "import math\n",
    "def PerfectSquare (x):\n",
    "    s = int(math.sqrt(x))\n",
    "    return s*s==x\n",
    "\n",
    "n = int(input(\"enter the number:\"))\n",
    "result1 = 5*(n*n) + 4\n",
    "result2 = 5*(n*n) - 4\n",
    "\n",
    "if PerfectSquare(result1) or PerfectSquare(result2) :\n",
    "    print(n,\"is fibonacci number\")\n",
    "else:\n",
    "    print(n,\"is not fibonacci number\")"
   ]
  },
  {
   "cell_type": "code",
   "execution_count": 5,
   "id": "e21f5178",
   "metadata": {},
   "outputs": [
    {
     "name": "stdout",
     "output_type": "stream",
     "text": [
      "enter the number:10\n",
      "10 is not fibonacci number\n"
     ]
    }
   ],
   "source": [
    "import math\n",
    "def PerfectSquare (x):\n",
    "    s = int(math.sqrt(x))\n",
    "    return s*s==x\n",
    "\n",
    "n = int(input(\"enter the number:\"))\n",
    "result1 = 5*(n*n) + 4\n",
    "result2 = 5*(n*n) - 4\n",
    "\n",
    "if PerfectSquare(result1) or PerfectSquare(result2) :\n",
    "    print(n,\"is fibonacci number\")\n",
    "else:\n",
    "    print(n,\"is not fibonacci number\")"
   ]
  },
  {
   "cell_type": "markdown",
   "id": "7aa8deca",
   "metadata": {},
   "source": [
    "#### 3. Python Program for n\\'th multiple of a number in Fibonacci series."
   ]
  },
  {
   "cell_type": "code",
   "execution_count": 6,
   "id": "8f02bc6b",
   "metadata": {},
   "outputs": [
    {
     "name": "stdout",
     "output_type": "stream",
     "text": [
      "Position of n'th multiple of k in Fibonacci Series is 30\n"
     ]
    }
   ],
   "source": [
    "def findPosition(k,n):\n",
    "    f1 = 0\n",
    "    f2 = 1\n",
    "    i = 2;\n",
    "    while i!= 0:\n",
    "        f3 = f1+f2\n",
    "        f1 = f2\n",
    "        f2 = f3\n",
    "        \n",
    "        if f2%k == 0:\n",
    "            return n*i\n",
    "        \n",
    "        i+=1\n",
    "        \n",
    "    return\n",
    "n = 5;\n",
    "k = 4;\n",
    "print(\"Position of n\\'th multiple of k in\" , \"Fibonacci Series is\" , findPosition (k,n));"
   ]
  },
  {
   "cell_type": "markdown",
   "id": "e10c972c",
   "metadata": {},
   "source": [
    "#### 4. Program to print ASCIL Value of a character."
   ]
  },
  {
   "cell_type": "code",
   "execution_count": 7,
   "id": "16867f36",
   "metadata": {},
   "outputs": [
    {
     "name": "stdout",
     "output_type": "stream",
     "text": [
      "Enter the characteri\n",
      "The ASCIL value is 105:"
     ]
    }
   ],
   "source": [
    "string = (input(\"Enter the character\"))\n",
    "for c in string:\n",
    "    print(\"The ASCIL value is\", ord(c), end=':')"
   ]
  },
  {
   "cell_type": "markdown",
   "id": "a4b2c69d",
   "metadata": {},
   "source": [
    "#### 5. Python Program for Sum of squares of first n natural number."
   ]
  },
  {
   "cell_type": "code",
   "execution_count": 8,
   "id": "3065b79f",
   "metadata": {},
   "outputs": [
    {
     "name": "stdout",
     "output_type": "stream",
     "text": [
      "enter the number of terms;5\n",
      "55\n"
     ]
    }
   ],
   "source": [
    "n = int(input(\"enter the number of terms;\"))\n",
    "sum = 0 \n",
    "for i in range(1,n+1):\n",
    "    sum+=(i*i)\n",
    "print(sum)"
   ]
  },
  {
   "cell_type": "markdown",
   "id": "0a99e0d4",
   "metadata": {},
   "source": [
    "#### 6.Python Program for cube sum of first n natural numbers."
   ]
  },
  {
   "cell_type": "code",
   "execution_count": 9,
   "id": "1feb036f",
   "metadata": {},
   "outputs": [
    {
     "name": "stdout",
     "output_type": "stream",
     "text": [
      "Enter the number:5\n",
      "the sum of first  5  natural number is: 225\n"
     ]
    }
   ],
   "source": [
    "def natural(n):\n",
    "    sum = 0\n",
    "    for i in range (1,n+1):\n",
    "        sum=sum+i*i*i\n",
    "    print(\"the sum of first \", n , \" natural number is:\",sum)\n",
    "n = int(input(\"Enter the number:\"))\n",
    "natural(n)"
   ]
  },
  {
   "cell_type": "markdown",
   "id": "e4026ff6",
   "metadata": {},
   "source": [
    "#### 7. Python Program to find sum of array."
   ]
  },
  {
   "cell_type": "code",
   "execution_count": 1,
   "id": "383726da",
   "metadata": {},
   "outputs": [
    {
     "name": "stdout",
     "output_type": "stream",
     "text": [
      "15\n"
     ]
    }
   ],
   "source": [
    "arr = [1,2,3,4,5]\n",
    "print(sum(arr))"
   ]
  },
  {
   "cell_type": "markdown",
   "id": "b9dacc00",
   "metadata": {},
   "source": [
    "#### 8. Python Program to find largest element in an array."
   ]
  },
  {
   "cell_type": "code",
   "execution_count": 2,
   "id": "5474065f",
   "metadata": {},
   "outputs": [
    {
     "name": "stdout",
     "output_type": "stream",
     "text": [
      "40\n"
     ]
    }
   ],
   "source": [
    "arr = [30,20,40,10]\n",
    "max = arr[0]\n",
    "n = len(arr)\n",
    "for i in range(1,n):\n",
    "    if arr [i]>max:\n",
    "        max = arr [i]\n",
    "print(max)"
   ]
  },
  {
   "cell_type": "markdown",
   "id": "491602f6",
   "metadata": {},
   "source": [
    "#### 9. Python Program for array rotation."
   ]
  },
  {
   "cell_type": "code",
   "execution_count": 3,
   "id": "4c8e3e63",
   "metadata": {},
   "outputs": [
    {
     "name": "stdout",
     "output_type": "stream",
     "text": [
      "1\n",
      "2\n",
      "3\n",
      "4\n",
      "1\n",
      "1\n",
      "2\n",
      "3\n",
      "4\n",
      "1\n"
     ]
    }
   ],
   "source": [
    "arr = [1,2,3,4,5]\n",
    "shift = 2\n",
    "\n",
    "for i in range (0,shift):\n",
    "    temp = arr[0]\n",
    "    \n",
    "    for j in range (0, len(arr) == 1):\n",
    "        arr[j] = arr[j+1]\n",
    "    arr[len(arr)-1] = temp\n",
    "\n",
    "    for i in range(0,len(arr)):\n",
    "        print(arr[i])"
   ]
  },
  {
   "cell_type": "code",
   "execution_count": 4,
   "id": "a85705a8",
   "metadata": {},
   "outputs": [
    {
     "name": "stdout",
     "output_type": "stream",
     "text": [
      "Array Before Rotation:\n",
      "12345\n",
      " Array after left rotation: \n",
      "23411"
     ]
    }
   ],
   "source": [
    "arr = [1,2,3,4,5]\n",
    "shift = 2\n",
    "\n",
    "def printarr(arr):\n",
    "    for i in range(0, len(arr)):\n",
    "        print(arr[i], end='')\n",
    "        \n",
    "def leftRotation (arr, shift):\n",
    "    for i in range (0, shift):\n",
    "        temp = arr[0]\n",
    "        for j in range(0, len(arr)-1):\n",
    "            arr[j] = arr[j+1]\n",
    "            \n",
    "            arr[len(arr) - 1] = temp\n",
    "        return arr\n",
    "    \n",
    "print(\"Array Before Rotation:\")\n",
    "printarr(arr)\n",
    "rotatedArray = leftRotation(arr, shift)\n",
    "print(\"\\n Array after left rotation: \")\n",
    "printarr(rotatedArray)"
   ]
  },
  {
   "cell_type": "markdown",
   "id": "1f6debfc",
   "metadata": {},
   "source": [
    "#### 10. Python Program for Reversal algorithm for array rotation."
   ]
  },
  {
   "cell_type": "code",
   "execution_count": 5,
   "id": "f2db1cb6",
   "metadata": {},
   "outputs": [
    {
     "name": "stdout",
     "output_type": "stream",
     "text": [
      "[6, 7, 8, 1, 2, 3, 4, 5]\n"
     ]
    }
   ],
   "source": [
    "arr = [1,2,3,4,5,6,7,8]\n",
    "def reverse(arr , start, end):\n",
    "    while start < end:\n",
    "        arr[start], arr[end] = arr[end], arr[start]\n",
    "        start,end = start + 1, end - 1\n",
    "        \n",
    "def rotation (arr, k):\n",
    "    n = len(arr)\n",
    "    k%=n\n",
    "    reverse(arr,0,n-1)\n",
    "    reverse(arr,0,k-1)\n",
    "    reverse(arr,k,n-1)\n",
    "    return arr\n",
    "\n",
    "print(rotation(arr,3))"
   ]
  },
  {
   "cell_type": "markdown",
   "id": "818c67d7",
   "metadata": {},
   "source": [
    "#### 11. Python Program to Split the array and add the first part to the end."
   ]
  },
  {
   "cell_type": "code",
   "execution_count": 6,
   "id": "385a7dda",
   "metadata": {},
   "outputs": [
    {
     "name": "stdout",
     "output_type": "stream",
     "text": [
      "25 30 40 15 20 "
     ]
    }
   ],
   "source": [
    "def splitArray(arr, n, k):\n",
    "    for i in range (0, k):\n",
    "        x = arr[0]\n",
    "        for j in range (0,n-1):\n",
    "            arr[j]=arr[j+1]\n",
    "        arr[n-1]=x\n",
    "        \n",
    "arr = [15,20,25,30,40]\n",
    "n = len(arr)\n",
    "position=2\n",
    "splitArray(arr, n, position)\n",
    "\n",
    "for i in range (0,n):\n",
    "    print(arr[i],end=' ')"
   ]
  }
 ],
 "metadata": {
  "kernelspec": {
   "display_name": "Python 3",
   "language": "python",
   "name": "python3"
  },
  "language_info": {
   "codemirror_mode": {
    "name": "ipython",
    "version": 3
   },
   "file_extension": ".py",
   "mimetype": "text/x-python",
   "name": "python",
   "nbconvert_exporter": "python",
   "pygments_lexer": "ipython3",
   "version": "3.8.8"
  }
 },
 "nbformat": 4,
 "nbformat_minor": 5
}
