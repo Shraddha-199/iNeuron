{
 "cells": [
  {
   "cell_type": "markdown",
   "id": "4dc773be",
   "metadata": {},
   "source": [
    "## SQL ASSIGNMENT - 5"
   ]
  },
  {
   "cell_type": "markdown",
   "id": "b69e5ae0",
   "metadata": {},
   "source": [
    "#### 1. Explain how SQL Query keyword statements are executed in order."
   ]
  },
  {
   "cell_type": "markdown",
   "id": "8a30b869",
   "metadata": {},
   "source": [
    "The SQL order of execution defines the order in which the clauses of a query are evaluated. Some of the most common query challenges people run into could be easily avoided with a clearer understanding of the SQL order of execution, sometimes called the SQL order of operations."
   ]
  },
  {
   "cell_type": "markdown",
   "id": "d7d5cb7b",
   "metadata": {},
   "source": [
    "#### 2. Explain the advantages of stored procedures and their syntax in relation to recompiling stored procedures."
   ]
  },
  {
   "cell_type": "markdown",
   "id": "609709dd",
   "metadata": {},
   "source": [
    "Advantages :\n",
    "The main advantages of stored procedure are given below:\n",
    "\n",
    "    Better Performance –\n",
    "    The procedure calls are quick and efficient as stored procedures are compiled once and stored in executable form.Hence the response is quick. The executable code is automatically cached, hence lowers the memory requirements.\n",
    "    Higher Productivity –\n",
    "    Since the same piece of code is used again and again so, it results in higher productivity.\n",
    "    Ease of Use –\n",
    "    To create a stored procedure, one can use any Java Integrated Development Environment (IDE). Then, they can be deployed on any tier of network architecture.\n",
    "    Scalability –\n",
    "    Stored procedures increase scalability by isolating application processing on the server.\n",
    "    Maintainability –\n",
    "    Maintaining a procedure on a server is much easier then maintaining copies on various client machines, this is because scripts are in one location.\n",
    "    Security –\n",
    "    Access to the Oracle data can be restricted by allowing users to manipulate the data only through stored procedures that execute with their definer’s privile\n",
    "    \n",
    "    \n",
    "Syntax :\n",
    "\n",
    "CREATE PROCEDURE procedure_name\n",
    "AS\n",
    "sql_statement\n",
    "GO;     "
   ]
  },
  {
   "cell_type": "markdown",
   "id": "fafa6e7f",
   "metadata": {},
   "source": [
    "#### 3. Give an example of the derived table."
   ]
  },
  {
   "cell_type": "markdown",
   "id": "5fa5204c",
   "metadata": {},
   "source": [
    "A derived table is an expression that generates a table within the scope of a query FROM clause. For example, a subquery in a SELECT statement FROM clause is a derived table"
   ]
  },
  {
   "cell_type": "markdown",
   "id": "11ab2627",
   "metadata": {},
   "source": [
    "#### 4. What is the database's trigger? Explain the different forms of triggers that can be found in the database."
   ]
  },
  {
   "cell_type": "markdown",
   "id": "1636fa7a",
   "metadata": {},
   "source": [
    "A database trigger is procedural code that is automatically executed in response to certain events on a particular table or view in a database. The trigger is mostly used for maintaining the integrity of the information on the database\n",
    "\n",
    "There are three types of triggers in SQL Server.\n",
    "\n",
    "    DDL Trigger.\n",
    "    DML Trigger.\n",
    "    Logon Trigger\n",
    "\n",
    "    DML (data manipulation language) triggers – We’ve already mentioned them, and they react to DML commands. These are – INSERT, UPDATE, and DELETE\n",
    "    DDL (data definition language) triggers – As expected, triggers of this type shall react to DDL commands like – CREATE, ALTER, and DROP\n",
    "    Logon triggers – The name says it all. This type reacts to LOGON events"
   ]
  },
  {
   "cell_type": "markdown",
   "id": "2bd4ab6b",
   "metadata": {},
   "source": [
    "#### 5. What are the benefits and drawbacks of triggers?"
   ]
  },
  {
   "cell_type": "code",
   "execution_count": null,
   "id": "30dab713",
   "metadata": {},
   "outputs": [],
   "source": [
    "Some of the prominent advantages of triggers are as follows:\n",
    "\n",
    "    Helps us to automate the data alterations.\n",
    "    Allows us to reuse the queries once written.\n",
    "    Provides a method to check the data integrity of the database.\n",
    "    Helps us to detect errors on the database level.\n",
    "    Allows easy auditing of data.\n",
    "  \n",
    "Some of the prominent drawbacks of triggers are as follows:\n",
    "\n",
    "Difficult to locate unless proper documentation.\n",
    "they can't be traced and are invisible to applications.\n",
    "Triggers are fired whenever a modification is made to a table; they thus slow down the performance of DML statements.\n",
    "It's difficult to track triggers logic.    "
   ]
  },
  {
   "cell_type": "markdown",
   "id": "1aa337d7",
   "metadata": {},
   "source": [
    "#### 6. Create a stored procedure to call other stored procedures."
   ]
  },
  {
   "cell_type": "code",
   "execution_count": null,
   "id": "3fd6f8e2",
   "metadata": {},
   "outputs": [],
   "source": []
  }
 ],
 "metadata": {
  "kernelspec": {
   "display_name": "Python 3",
   "language": "python",
   "name": "python3"
  },
  "language_info": {
   "codemirror_mode": {
    "name": "ipython",
    "version": 3
   },
   "file_extension": ".py",
   "mimetype": "text/x-python",
   "name": "python",
   "nbconvert_exporter": "python",
   "pygments_lexer": "ipython3",
   "version": "3.8.8"
  }
 },
 "nbformat": 4,
 "nbformat_minor": 5
}
