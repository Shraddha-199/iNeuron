{
 "cells": [
  {
   "cell_type": "markdown",
   "id": "5a6b917d",
   "metadata": {},
   "source": [
    "## SQL ASSIGNMENT - 03"
   ]
  },
  {
   "cell_type": "markdown",
   "id": "638d5997",
   "metadata": {},
   "source": [
    "###### 1. Write an SQL query to print the FIRST_NAME from Worker table after removing white spaces from the right side."
   ]
  },
  {
   "cell_type": "code",
   "execution_count": null,
   "id": "e6bf701a",
   "metadata": {},
   "outputs": [],
   "source": [
    "Select RTRIM(First_Name) from Worker;"
   ]
  },
  {
   "cell_type": "markdown",
   "id": "fc902cdf",
   "metadata": {},
   "source": [
    "###### 2. Write an SQL query that fetches the unique values of DEPARTMENT from Workertable and prints its length."
   ]
  },
  {
   "cell_type": "code",
   "execution_count": null,
   "id": "18c45c3b",
   "metadata": {},
   "outputs": [],
   "source": [
    "Select distinct length(Department) from Worker;"
   ]
  },
  {
   "cell_type": "markdown",
   "id": "6b42a9a2",
   "metadata": {},
   "source": [
    "###### 3. Write an SQL query to fetch nth max salaries from a table."
   ]
  },
  {
   "cell_type": "code",
   "execution_count": null,
   "id": "17c112fa",
   "metadata": {},
   "outputs": [],
   "source": []
  }
 ],
 "metadata": {
  "kernelspec": {
   "display_name": "Python 3",
   "language": "python",
   "name": "python3"
  },
  "language_info": {
   "codemirror_mode": {
    "name": "ipython",
    "version": 3
   },
   "file_extension": ".py",
   "mimetype": "text/x-python",
   "name": "python",
   "nbconvert_exporter": "python",
   "pygments_lexer": "ipython3",
   "version": "3.8.8"
  }
 },
 "nbformat": 4,
 "nbformat_minor": 5
}
