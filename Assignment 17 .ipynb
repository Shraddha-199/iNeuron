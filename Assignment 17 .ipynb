{
 "cells": [
  {
   "cell_type": "markdown",
   "id": "5dff5b64",
   "metadata": {},
   "source": [
    "#### 1. Python program to find difference between current time and given time."
   ]
  },
  {
   "cell_type": "code",
   "execution_count": 1,
   "id": "f147c95e",
   "metadata": {},
   "outputs": [
    {
     "name": "stdout",
     "output_type": "stream",
     "text": [
      "The current times:  4 : 5\n",
      "The given times: 6 : 7\n",
      "The difference:  2 : 2 \n",
      "\n",
      "The current times:  1 : 1\n",
      "The given times: 1 : 1\n",
      "The difference: Both are same !\n"
     ]
    }
   ],
   "source": [
    "def time_difference(h1, m1, h2, m2):\n",
    "    print(\"The current times: \", h1, \":\", m1)\n",
    "    t1 = h1 * 60 + m1\n",
    "    print(\"The given times:\", h2, \":\",m2)\n",
    "    t2 = h2 * 60 + m2\n",
    "    if(t1 == t2):\n",
    "        print(\"The difference: Both are same !\")\n",
    "        return\n",
    "    else:\n",
    "        difference = t2 - t1\n",
    "    h = (int(difference/60))%24\n",
    "    m = difference % 60\n",
    "    print(\"The difference: \", h, \":\", m, \"\\n\")\n",
    "time_difference(4,5,6,7)\n",
    "time_difference(1,1,1,1)"
   ]
  },
  {
   "cell_type": "markdown",
   "id": "eb83ff61",
   "metadata": {},
   "source": [
    "#### 2. Python program to Create a Lap Timer."
   ]
  },
  {
   "cell_type": "code",
   "execution_count": 9,
   "id": "c0589919",
   "metadata": {},
   "outputs": [
    {
     "name": "stdout",
     "output_type": "stream",
     "text": [
      "Press ENTER to count lap timer.\n",
      "Press CTRL + C to stop\n",
      "1\n",
      "Lap number 1\n",
      "Total Time Taken: 3.04\n",
      "Lap time: 3.04\n",
      "********************\n",
      "2\n",
      "Lap number 2\n",
      "Total Time Taken: 4.54\n",
      "Lap time: 1.5\n",
      "********************\n",
      "3\n",
      "Lap number 3\n",
      "Total Time Taken: 6.15\n",
      "Lap time: 1.61\n",
      "********************\n",
      "CTRL+C\n",
      "Lap number 4\n",
      "Total Time Taken: 20.76\n",
      "Lap time: 14.61\n",
      "********************\n",
      "Process Stopped\n"
     ]
    }
   ],
   "source": [
    "import time \n",
    "start=time.time()\n",
    "last=start\n",
    "num=1\n",
    "print(\"Press ENTER to count lap timer.\\nPress CTRL + C to stop\")\n",
    "try:\n",
    "    while True:\n",
    "        input()\n",
    "        lap=round((time.time() - last), 2)\n",
    "        total=round((time.time() - start), 2)\n",
    "        print(\"Lap number \"+str(num))\n",
    "        print(\"Total Time Taken: \"+str(total))\n",
    "        print(\"Lap time: \"+str(lap))\n",
    "        print(\"*\"*20)\n",
    "        last=time.time()\n",
    "        num+=1\n",
    "except KeyboardInterrupt:\n",
    "    print(\"Process Stopped\")"
   ]
  },
  {
   "cell_type": "markdown",
   "id": "eb224db0",
   "metadata": {},
   "source": [
    "#### 3. Convert date string to timestamp in Python."
   ]
  },
  {
   "cell_type": "code",
   "execution_count": 1,
   "id": "aa611c82",
   "metadata": {},
   "outputs": [
    {
     "name": "stdout",
     "output_type": "stream",
     "text": [
      "1640415600.0\n"
     ]
    }
   ],
   "source": [
    "import time \n",
    "import datetime\n",
    "string = \"25/12/2021\"\n",
    "print(time.mktime(datetime.datetime.strptime(string,\"%d/%m/%Y\").timetuple()))"
   ]
  },
  {
   "cell_type": "markdown",
   "id": "d17401a8",
   "metadata": {},
   "source": [
    "#### 4. How to convert timestamp string to datetime object in Python."
   ]
  },
  {
   "cell_type": "code",
   "execution_count": 2,
   "id": "0a353a86",
   "metadata": {},
   "outputs": [
    {
     "name": "stdout",
     "output_type": "stream",
     "text": [
      "Current date/time: 2021-12-25 20:50:24.664411\n"
     ]
    }
   ],
   "source": [
    "from datetime import datetime\n",
    "print('Current date/time: {}'.format(datetime.now()))"
   ]
  },
  {
   "cell_type": "markdown",
   "id": "4964adea",
   "metadata": {},
   "source": [
    "#### 5. Find number of times every day occure in a year."
   ]
  },
  {
   "cell_type": "code",
   "execution_count": 3,
   "id": "6e3d406d",
   "metadata": {},
   "outputs": [
    {
     "name": "stdout",
     "output_type": "stream",
     "text": [
      "Monday   4\n",
      "Tuesday   4\n",
      "Wednesday   4\n",
      "Thursday   5\n",
      "Friday   5\n",
      "Saturday   5\n",
      "Sunday   4\n"
     ]
    }
   ],
   "source": [
    "import math\n",
    "def num_of_occurrence( n, firstday):\n",
    "    my_days = [\"Monday\", \"Tuesday\", \"Wednesday\", \"Thursday\", \"Friday\", \"Saturday\", \"Sunday\"]\n",
    "    my_count = [4 for i in range(0,7)]\n",
    "    my_position = -1\n",
    "    for i in range(0,7):\n",
    "        if (first_day == my_days[i]):\n",
    "            my_position = i\n",
    "            break\n",
    "    inc = n - 28\n",
    "    for i in range(my_position, my_position + inc):\n",
    "        if (i > 6):\n",
    "            my_count[i % 7] = 5\n",
    "        else:\n",
    "            my_count[i] = 5\n",
    "    for i in range(0,7):\n",
    "        print(my_days[i], \" \", my_count[i])\n",
    "num = 31\n",
    "first_day = \"Thursday\"\n",
    "num_of_occurrence(num, first_day)"
   ]
  },
  {
   "cell_type": "markdown",
   "id": "e21d59cb",
   "metadata": {},
   "source": [
    "#### 6. Python program to check if string contain only defined characters using Regex."
   ]
  },
  {
   "cell_type": "code",
   "execution_count": 4,
   "id": "ad3e686f",
   "metadata": {},
   "outputs": [
    {
     "name": "stdout",
     "output_type": "stream",
     "text": [
      "Valid String\n",
      "InValid String\n",
      "InValid String\n"
     ]
    }
   ],
   "source": [
    "import re\n",
    "def check(str,pattern):\n",
    "    if re.search(pattern, str):\n",
    "        print(\"Valid String\")\n",
    "    else:\n",
    "        print(\"InValid String\")\n",
    "pattern = re.compile('[A-Z]+$')\n",
    "check('ABCDE' , pattern)\n",
    "check('2134' , pattern)\n",
    "check('12ABCda' , pattern)"
   ]
  },
  {
   "cell_type": "markdown",
   "id": "0411770f",
   "metadata": {},
   "source": [
    "#### 7. Python program to Count Uppercase, Lowercase, Special Characters and numeric values using Regex."
   ]
  },
  {
   "cell_type": "code",
   "execution_count": 5,
   "id": "28d74b2a",
   "metadata": {},
   "outputs": [
    {
     "name": "stdout",
     "output_type": "stream",
     "text": [
      "The no. of uppercase characters is 2\n",
      "The no. of lowercase characters is 8\n",
      "The no. of numerical characters is 3\n",
      "The no. of special characters is 2\n"
     ]
    }
   ],
   "source": [
    "import re\n",
    "string = \"HelloWorld !, 145\"\n",
    "uppercase_characters = re.findall(r\"[A-Z]\", string)\n",
    "lowercase_characters = re.findall(r\"[a-z]\", string)\n",
    "numerical_characters = re.findall(r\"[0-9]\", string)\n",
    "special_characters = re.findall(r\"[,.!?]\", string)\n",
    "print(\"The no. of uppercase characters is\", len(uppercase_characters))\n",
    "print(\"The no. of lowercase characters is\", len(lowercase_characters))\n",
    "print(\"The no. of numerical characters is\", len(numerical_characters))\n",
    "print(\"The no. of special characters is\", len(special_characters))"
   ]
  },
  {
   "cell_type": "markdown",
   "id": "0568a580",
   "metadata": {},
   "source": [
    "#### 8. Python program to find the most occuring number in a string using Regex."
   ]
  },
  {
   "cell_type": "code",
   "execution_count": 6,
   "id": "9a84a626",
   "metadata": {},
   "outputs": [
    {
     "name": "stdout",
     "output_type": "stream",
     "text": [
      "max value 1\n"
     ]
    }
   ],
   "source": [
    "import re\n",
    "import collections\n",
    "string='ABC12ED13we14'\n",
    "number = re.findall(r\"[0-9]\", string)\n",
    "counter = collections.Counter(number)\n",
    "max_count = 0\n",
    "max_value = None\n",
    "for key in list(counter.keys()):\n",
    "    if(counter[key]>max_count):\n",
    "        max_count = counter[key]\n",
    "        max_value = int(key)\n",
    "print(\"max value\", max_value)"
   ]
  },
  {
   "cell_type": "markdown",
   "id": "d7542811",
   "metadata": {},
   "source": [
    "#### 9. Python program to extract maximum numeric value from a string."
   ]
  },
  {
   "cell_type": "code",
   "execution_count": 7,
   "id": "79a12ea6",
   "metadata": {},
   "outputs": [
    {
     "name": "stdout",
     "output_type": "stream",
     "text": [
      "Max_value: 123\n"
     ]
    }
   ],
   "source": [
    "import re\n",
    "string = 'ab12cd123ef23'\n",
    "number = re.findall('\\d+', string)\n",
    "number = map(int, number)\n",
    "print(\"Max_value:\",max(number))"
   ]
  },
  {
   "cell_type": "markdown",
   "id": "615a4aae",
   "metadata": {},
   "source": [
    "#### 10. Python program to put spaces between words starting with capital letters using Regex."
   ]
  },
  {
   "cell_type": "code",
   "execution_count": 8,
   "id": "1f487362",
   "metadata": {},
   "outputs": [
    {
     "name": "stdout",
     "output_type": "stream",
     "text": [
      "Hello World Of Python\n"
     ]
    }
   ],
   "source": [
    "import re\n",
    "string = \"HelloWorldOfPython\"\n",
    "words = re.findall('[A-Z][a-z]*', string)\n",
    "print(' '.join((words)))"
   ]
  }
 ],
 "metadata": {
  "kernelspec": {
   "display_name": "Python 3",
   "language": "python",
   "name": "python3"
  },
  "language_info": {
   "codemirror_mode": {
    "name": "ipython",
    "version": 3
   },
   "file_extension": ".py",
   "mimetype": "text/x-python",
   "name": "python",
   "nbconvert_exporter": "python",
   "pygments_lexer": "ipython3",
   "version": "3.8.8"
  }
 },
 "nbformat": 4,
 "nbformat_minor": 5
}
