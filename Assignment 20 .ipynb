{
 "cells": [
  {
   "cell_type": "markdown",
   "id": "78ec9770",
   "metadata": {},
   "source": [
    "#### 1. Python Program to obtain the line number in which given word is present."
   ]
  },
  {
   "cell_type": "code",
   "execution_count": 1,
   "id": "c126dbb0",
   "metadata": {},
   "outputs": [
    {
     "data": {
      "text/plain": [
       "'Utilitatis causa amicitia est quaesita.\\nLorem ipsum dolor sit amet, consectetur adipiscing elit. Collatio igitur ista te nihil iuvat. Honesta oratio, Socratica, Platonis etiam. Primum in nostrane potestate est, quid meminerimus? Duo Reges: constructio interrete. Quid, si etiam iucunda memoria est praeteritorum malorum? Si quidem, inquit, tollerem, sed relinquo. An nisi populari fama?\\n\\nQuamquam id quidem licebit iis existimare, qui legerint. Summum a vobis bonum voluptas dicitur. At hoc in eo M. Refert tamen, quo modo. Quid sequatur, quid repugnet, vident. Iam id ipsum absurdum, maximum malum neglegi.'"
      ]
     },
     "execution_count": 1,
     "metadata": {},
     "output_type": "execute_result"
    }
   ],
   "source": [
    "df = open(\"Downloads\\\\sample1.txt\")\n",
    "read = df.read()\n",
    "df.seek(0)\n",
    "read"
   ]
  },
  {
   "cell_type": "markdown",
   "id": "d2401047",
   "metadata": {},
   "source": [
    "#### 2. Count number of lines in a text file in Python."
   ]
  },
  {
   "cell_type": "code",
   "execution_count": 2,
   "id": "dad24824",
   "metadata": {},
   "outputs": [
    {
     "name": "stdout",
     "output_type": "stream",
     "text": [
      "This is the number of lines in the file\n",
      "3\n"
     ]
    }
   ],
   "source": [
    "file = open(\"Downloads\\\\sample1.txt\",\"r\")\n",
    "Counter = 0\n",
    "Content = file.read()\n",
    "CoList = Content.split(\"\\n\")\n",
    "for i in CoList:\n",
    "    if i:\n",
    "        Counter += 1\n",
    "print(\"This is the number of lines in the file\")\n",
    "print(Counter)"
   ]
  },
  {
   "cell_type": "markdown",
   "id": "ec3be1ce",
   "metadata": {},
   "source": [
    "#### 3. Python Program to remove lines starting with any prefix."
   ]
  },
  {
   "cell_type": "code",
   "execution_count": 4,
   "id": "249d9a46",
   "metadata": {},
   "outputs": [
    {
     "name": "stdout",
     "output_type": "stream",
     "text": [
      "Utilitatis causa amicitia est quaesita.\n",
      "\n",
      "Lorem ipsum dolor sit amet, consectetur adipiscing elit. Collatio igitur ista te nihil iuvat. Honesta oratio, Socratica, Platonis etiam. Primum in nostrane potestate est, quid meminerimus? Duo Reges: constructio interrete. Quid, si etiam iucunda memoria est praeteritorum malorum? Si quidem, inquit, tollerem, sed relinquo. An nisi populari fama?\n",
      "\n",
      "\n",
      "\n",
      "Quamquam id quidem licebit iis existimare, qui legerint. Summum a vobis bonum voluptas dicitur. At hoc in eo M. Refert tamen, quo modo. Quid sequatur, quid repugnet, vident. Iam id ipsum absurdum, maximum malum neglegi.\n"
     ]
    }
   ],
   "source": [
    "import re \n",
    "openFile = open('Downloads\\\\sample1.txt','r')\n",
    "writeFile = open('updatedFile.txt','w')  \n",
    "for txtLine in openFile.readlines():\n",
    "    search = re.findall(\"^Python\", txtLine)      \n",
    "    if not search: \n",
    "        print(txtLine) \n",
    "        writeFile.write(txtLine) \n",
    "openFile.close() \n",
    "writeFile.close()"
   ]
  },
  {
   "cell_type": "markdown",
   "id": "245013c2",
   "metadata": {},
   "source": [
    "#### 4. Python Program to Eliminate repeated lines from a file."
   ]
  },
  {
   "cell_type": "code",
   "execution_count": 8,
   "id": "39d8e56f",
   "metadata": {},
   "outputs": [],
   "source": [
    "openFile = open(\"Downloads\\\\sample1.txt\", \"r\") \n",
    "writeFile = open(\"updatedFile\", \"w\") \n",
    "tmp = set() \n",
    "for txtLine in openFile: \n",
    "    if txtLine not in tmp: \n",
    "        writeFile.write(txtLine) \n",
    "        tmp.add(txtLine)         \n",
    "openFile.close() \n",
    "writeFile.close()"
   ]
  },
  {
   "cell_type": "markdown",
   "id": "4b0023fc",
   "metadata": {},
   "source": [
    "#### 5. Python Program to read list of dictionaries from file."
   ]
  },
  {
   "cell_type": "code",
   "execution_count": 4,
   "id": "f7210dac",
   "metadata": {},
   "outputs": [
    {
     "name": "stdout",
     "output_type": "stream",
     "text": [
      "Something unexpected occurred!\n"
     ]
    }
   ],
   "source": [
    "import pickle\n",
    "try:\n",
    "    geeky_file = open('Downloads\\\\sample1.txt', 'r')\n",
    "    dictionary_list = pickle.load(geeky_file)\n",
    "    for d in dictionary_list:\n",
    "        print(d)\n",
    "    geeky_file.close()\n",
    "except:\n",
    "    print(\"Something unexpected occurred!\")\n"
   ]
  },
  {
   "cell_type": "markdown",
   "id": "2156c883",
   "metadata": {},
   "source": [
    "#### 6. Python - Append content of one lines of one file to another."
   ]
  },
  {
   "cell_type": "code",
   "execution_count": 7,
   "id": "075228ef",
   "metadata": {},
   "outputs": [
    {
     "name": "stdout",
     "output_type": "stream",
     "text": [
      "Enter the name of first file Downloads\\\\sample1.txt\n",
      "Enter the name of second file Downloads\\\\sample2.txt\n",
      "content of first file before appending - \n",
      "content of second file before appending - Aeque enim contingit omnibus fidibus, ut incontentae sint.\n",
      "Lorem ipsum dolor sit amet, consectetur adipiscing elit. Quae cum ita sint, effectum est nihil esse malum, quod turpe non sit. Itaque nostrum est-quod nostrum dico, artis est-ad ea principia, quae accepimus. Quod totum contra est. Duo Reges: constructio interrete. Atqui iste locus est, Piso, tibi etiam atque etiam confirmandus, inquam; Quamvis enim depravatae non sint, pravae tamen esse possunt. Duarum enim vitarum nobis erunt instituta capienda.\n",
      "\n",
      "Non igitur de improbo, sed de callido improbo quaerimus, qualis Q. Audio equidem philosophi vocem, Epicure, sed quid tibi dicendum sit oblitus es. Ex ea difficultate illae fallaciloquae, ut ait Accius, malitiae natae sunt. At multis malis affectus. Nam quibus rebus efficiuntur voluptates, eae non sunt in potestate sapientis. Quis est tam dissimile homini. Ut proverbia non nulla veriora sint quam vestra dogmata. Si quicquam extra virtutem habeatur in bonis. Sed plane dicit quod intellegit. Paulum, cum regem Persem captum adduceret, eodem flumine invectio?\n",
      "\n",
      "Qui ita affectus, beatum esse numquam probabis; Sed nimis multa. Nam prius a se poterit quisque discedere quam appetitum earum rerum, quae sibi conducant, amittere. Familiares nostros, credo, Sironem dicis et Philodemum, cum optimos viros, tum homines doctissimos. Quod iam a me expectare noli. Quid ergo?\n",
      "\n",
      "Eademne, quae restincta siti? Ita relinquet duas, de quibus etiam atque etiam consideret. Illa videamus, quae a te de amicitia dicta sunt. Eaedem res maneant alio modo. Quid ergo attinet gloriose loqui, nisi constanter loquare? Prioris generis est docilitas, memoria; Portenta haec esse dicit, neque ea ratione ullo modo posse vivi; Beatum, inquit. Bestiarum vero nullum iudicium puto.\n",
      "\n",
      "Quem Tiberina descensio festo illo die tanto gaudio affecit, quanto L. Quorum sine causa fieri nihil putandum est. Tria genera bonorum; Nunc dicam de voluptate, nihil scilicet novi, ea tamen, quae te ipsum probaturum esse confidam. Illud dico, ea, quae dicat, praeclare inter se cohaerere. Fortemne possumus dicere eundem illum Torquatum? Hoc tu nunc in illo probas. Cur post Tarentum ad Archytam?\n",
      "\n",
      "Indicant pueri, in quibus ut in speculis natura cernitur.\n",
      "Sed tamen est aliquid, quod nobis non liceat, liceat illis. Virtutis, magnitudinis animi, patientiae, fortitudinis fomentis dolor mitigari solet. Piso igitur hoc modo, vir optimus tuique, ut scis, amantissimus. Non prorsus, inquit, omnisque, qui sine dolore sint, in voluptate, et ea quidem summa, esse dico. Potius inflammat, ut coercendi magis quam dedocendi esse videantur. Virtutis, magnitudinis animi, patientiae, fortitudinis fomentis dolor mitigari solet. Quae fere omnia appellantur uno ingenii nomine, easque virtutes qui habent, ingeniosi vocantur. Nec enim, dum metuit, iustus est, et certe, si metuere destiterit, non erit;\n",
      "content of first file after appending - Aeque enim contingit omnibus fidibus, ut incontentae sint.\n",
      "Lorem ipsum dolor sit amet, consectetur adipiscing elit. Quae cum ita sint, effectum est nihil esse malum, quod turpe non sit. Itaque nostrum est-quod nostrum dico, artis est-ad ea principia, quae accepimus. Quod totum contra est. Duo Reges: constructio interrete. Atqui iste locus est, Piso, tibi etiam atque etiam confirmandus, inquam; Quamvis enim depravatae non sint, pravae tamen esse possunt. Duarum enim vitarum nobis erunt instituta capienda.\n",
      "\n",
      "Non igitur de improbo, sed de callido improbo quaerimus, qualis Q. Audio equidem philosophi vocem, Epicure, sed quid tibi dicendum sit oblitus es. Ex ea difficultate illae fallaciloquae, ut ait Accius, malitiae natae sunt. At multis malis affectus. Nam quibus rebus efficiuntur voluptates, eae non sunt in potestate sapientis. Quis est tam dissimile homini. Ut proverbia non nulla veriora sint quam vestra dogmata. Si quicquam extra virtutem habeatur in bonis. Sed plane dicit quod intellegit. Paulum, cum regem Persem captum adduceret, eodem flumine invectio?\n",
      "\n",
      "Qui ita affectus, beatum esse numquam probabis; Sed nimis multa. Nam prius a se poterit quisque discedere quam appetitum earum rerum, quae sibi conducant, amittere. Familiares nostros, credo, Sironem dicis et Philodemum, cum optimos viros, tum homines doctissimos. Quod iam a me expectare noli. Quid ergo?\n",
      "\n",
      "Eademne, quae restincta siti? Ita relinquet duas, de quibus etiam atque etiam consideret. Illa videamus, quae a te de amicitia dicta sunt. Eaedem res maneant alio modo. Quid ergo attinet gloriose loqui, nisi constanter loquare? Prioris generis est docilitas, memoria; Portenta haec esse dicit, neque ea ratione ullo modo posse vivi; Beatum, inquit. Bestiarum vero nullum iudicium puto.\n",
      "\n",
      "Quem Tiberina descensio festo illo die tanto gaudio affecit, quanto L. Quorum sine causa fieri nihil putandum est. Tria genera bonorum; Nunc dicam de voluptate, nihil scilicet novi, ea tamen, quae te ipsum probaturum esse confidam. Illud dico, ea, quae dicat, praeclare inter se cohaerere. Fortemne possumus dicere eundem illum Torquatum? Hoc tu nunc in illo probas. Cur post Tarentum ad Archytam?\n",
      "\n",
      "Indicant pueri, in quibus ut in speculis natura cernitur.\n",
      "Sed tamen est aliquid, quod nobis non liceat, liceat illis. Virtutis, magnitudinis animi, patientiae, fortitudinis fomentis dolor mitigari solet. Piso igitur hoc modo, vir optimus tuique, ut scis, amantissimus. Non prorsus, inquit, omnisque, qui sine dolore sint, in voluptate, et ea quidem summa, esse dico. Potius inflammat, ut coercendi magis quam dedocendi esse videantur. Virtutis, magnitudinis animi, patientiae, fortitudinis fomentis dolor mitigari solet. Quae fere omnia appellantur uno ingenii nomine, easque virtutes qui habent, ingeniosi vocantur. Nec enim, dum metuit, iustus est, et certe, si metuere destiterit, non erit;\n",
      "content of second file after appending - Aeque enim contingit omnibus fidibus, ut incontentae sint.\n",
      "Lorem ipsum dolor sit amet, consectetur adipiscing elit. Quae cum ita sint, effectum est nihil esse malum, quod turpe non sit. Itaque nostrum est-quod nostrum dico, artis est-ad ea principia, quae accepimus. Quod totum contra est. Duo Reges: constructio interrete. Atqui iste locus est, Piso, tibi etiam atque etiam confirmandus, inquam; Quamvis enim depravatae non sint, pravae tamen esse possunt. Duarum enim vitarum nobis erunt instituta capienda.\n",
      "\n",
      "Non igitur de improbo, sed de callido improbo quaerimus, qualis Q. Audio equidem philosophi vocem, Epicure, sed quid tibi dicendum sit oblitus es. Ex ea difficultate illae fallaciloquae, ut ait Accius, malitiae natae sunt. At multis malis affectus. Nam quibus rebus efficiuntur voluptates, eae non sunt in potestate sapientis. Quis est tam dissimile homini. Ut proverbia non nulla veriora sint quam vestra dogmata. Si quicquam extra virtutem habeatur in bonis. Sed plane dicit quod intellegit. Paulum, cum regem Persem captum adduceret, eodem flumine invectio?\n",
      "\n",
      "Qui ita affectus, beatum esse numquam probabis; Sed nimis multa. Nam prius a se poterit quisque discedere quam appetitum earum rerum, quae sibi conducant, amittere. Familiares nostros, credo, Sironem dicis et Philodemum, cum optimos viros, tum homines doctissimos. Quod iam a me expectare noli. Quid ergo?\n",
      "\n",
      "Eademne, quae restincta siti? Ita relinquet duas, de quibus etiam atque etiam consideret. Illa videamus, quae a te de amicitia dicta sunt. Eaedem res maneant alio modo. Quid ergo attinet gloriose loqui, nisi constanter loquare? Prioris generis est docilitas, memoria; Portenta haec esse dicit, neque ea ratione ullo modo posse vivi; Beatum, inquit. Bestiarum vero nullum iudicium puto.\n",
      "\n",
      "Quem Tiberina descensio festo illo die tanto gaudio affecit, quanto L. Quorum sine causa fieri nihil putandum est. Tria genera bonorum; Nunc dicam de voluptate, nihil scilicet novi, ea tamen, quae te ipsum probaturum esse confidam. Illud dico, ea, quae dicat, praeclare inter se cohaerere. Fortemne possumus dicere eundem illum Torquatum? Hoc tu nunc in illo probas. Cur post Tarentum ad Archytam?\n",
      "\n",
      "Indicant pueri, in quibus ut in speculis natura cernitur.\n",
      "Sed tamen est aliquid, quod nobis non liceat, liceat illis. Virtutis, magnitudinis animi, patientiae, fortitudinis fomentis dolor mitigari solet. Piso igitur hoc modo, vir optimus tuique, ut scis, amantissimus. Non prorsus, inquit, omnisque, qui sine dolore sint, in voluptate, et ea quidem summa, esse dico. Potius inflammat, ut coercendi magis quam dedocendi esse videantur. Virtutis, magnitudinis animi, patientiae, fortitudinis fomentis dolor mitigari solet. Quae fere omnia appellantur uno ingenii nomine, easque virtutes qui habent, ingeniosi vocantur. Nec enim, dum metuit, iustus est, et certe, si metuere destiterit, non erit;\n"
     ]
    }
   ],
   "source": [
    "firstfile = input(\"Enter the name of first file \")\n",
    "secondfile = input(\"Enter the name of second file \")\n",
    "f1 = open(firstfile, 'r')\n",
    "f2 = open(secondfile, 'r')\n",
    "print('content of first file before appending -', f1.read())\n",
    "print('content of second file before appending -', f2.read())\n",
    "f1.close()\n",
    "f2.close()\n",
    "f1 = open(firstfile, 'a+')\n",
    "f2 = open(secondfile, 'r')\n",
    "f1.write(f2.read())\n",
    "f1.seek(0)\n",
    "f2.seek(0)\n",
    "print('content of first file after appending -', f1.read())\n",
    "print('content of second file after appending -', f2.read())\n",
    "f1.close()\n",
    "f2.close()"
   ]
  },
  {
   "cell_type": "markdown",
   "id": "ab33789a",
   "metadata": {},
   "source": [
    "#### 7. Python Program to copy odd lines of one file to other."
   ]
  },
  {
   "cell_type": "code",
   "execution_count": 10,
   "id": "17479a15",
   "metadata": {},
   "outputs": [
    {
     "name": "stdout",
     "output_type": "stream",
     "text": [
      "Lorem ipsum dolor sit amet, consectetur adipiscing elit. Quae cum ita sint, effectum est nihil esse malum, quod turpe non sit. Itaque nostrum est-quod nostrum dico, artis est-ad ea principia, quae accepimus. Quod totum contra est. Duo Reges: constructio interrete. Atqui iste locus est, Piso, tibi etiam atque etiam confirmandus, inquam; Quamvis enim depravatae non sint, pravae tamen esse possunt. Duarum enim vitarum nobis erunt instituta capienda.\n",
      "Non igitur de improbo, sed de callido improbo quaerimus, qualis Q. Audio equidem philosophi vocem, Epicure, sed quid tibi dicendum sit oblitus es. Ex ea difficultate illae fallaciloquae, ut ait Accius, malitiae natae sunt. At multis malis affectus. Nam quibus rebus efficiuntur voluptates, eae non sunt in potestate sapientis. Quis est tam dissimile homini. Ut proverbia non nulla veriora sint quam vestra dogmata. Si quicquam extra virtutem habeatur in bonis. Sed plane dicit quod intellegit. Paulum, cum regem Persem captum adduceret, eodem flumine invectio?\n",
      "Qui ita affectus, beatum esse numquam probabis; Sed nimis multa. Nam prius a se poterit quisque discedere quam appetitum earum rerum, quae sibi conducant, amittere. Familiares nostros, credo, Sironem dicis et Philodemum, cum optimos viros, tum homines doctissimos. Quod iam a me expectare noli. Quid ergo?\n",
      "Eademne, quae restincta siti? Ita relinquet duas, de quibus etiam atque etiam consideret. Illa videamus, quae a te de amicitia dicta sunt. Eaedem res maneant alio modo. Quid ergo attinet gloriose loqui, nisi constanter loquare? Prioris generis est docilitas, memoria; Portenta haec esse dicit, neque ea ratione ullo modo posse vivi; Beatum, inquit. Bestiarum vero nullum iudicium puto.\n",
      "Quem Tiberina descensio festo illo die tanto gaudio affecit, quanto L. Quorum sine causa fieri nihil putandum est. Tria genera bonorum; Nunc dicam de voluptate, nihil scilicet novi, ea tamen, quae te ipsum probaturum esse confidam. Illud dico, ea, quae dicat, praeclare inter se cohaerere. Fortemne possumus dicere eundem illum Torquatum? Hoc tu nunc in illo probas. Cur post Tarentum ad Archytam?\n",
      "Indicant pueri, in quibus ut in speculis natura cernitur.\n",
      "\n"
     ]
    }
   ],
   "source": [
    "fn = open('Downloads\\\\sample1.txt', 'r')\n",
    "fn1 = open('Downloads\\\\sample2.txt', 'w')\n",
    "cont = fn.readlines()\n",
    "type(cont)\n",
    "for i in range(0, len(cont)):\n",
    "    if(i % 2 != 0):\n",
    "        fn1.write(cont[i])\n",
    "    else:\n",
    "        pass\n",
    "fn1.close()\n",
    "fn1 = open('Downloads\\\\sample2.txt', 'r')\n",
    "cont1 = fn1.read()\n",
    "print(cont1)\n",
    "fn.close()\n",
    "fn1.close()"
   ]
  },
  {
   "cell_type": "markdown",
   "id": "9a2cdd08",
   "metadata": {},
   "source": [
    "#### 8. Python Program to Reverse a single line of a text file."
   ]
  },
  {
   "cell_type": "code",
   "execution_count": 12,
   "id": "347c6dfd",
   "metadata": {},
   "outputs": [],
   "source": [
    "f = open('Downloads\\\\sample1.txt', 'r')\n",
    "lines = f.readlines()\n",
    "f.close()\n",
    "choice = 1\n",
    "line = lines[choice].split()\n",
    "Reversed = \" \".join(line[::-1])\n",
    "lines.pop(choice)\n",
    "lines.insert(choice, Reversed)\n",
    "u = open('Downloads\\\\sample1.txt', 'w')\n",
    "u.writelines(lines)\n",
    "u.close()"
   ]
  },
  {
   "cell_type": "markdown",
   "id": "64b70d4d",
   "metadata": {},
   "source": [
    "#### 9. Python Program to reverse the content of a file and store it in another file."
   ]
  },
  {
   "cell_type": "code",
   "execution_count": 1,
   "id": "20ceda21",
   "metadata": {},
   "outputs": [],
   "source": [
    "f1 = open(\"Downloads\\\\sample1.txt\", \"w\")\n",
    "with open(\"Downloads\\\\sample2.txt\", \"r\") as myfile:\n",
    "    data = myfile.read()\n",
    "data_1 = data[::-1]\n",
    "f1.write(data_1)\n",
    "f1.close()"
   ]
  },
  {
   "cell_type": "code",
   "execution_count": 3,
   "id": "25c2399b",
   "metadata": {},
   "outputs": [],
   "source": [
    "writeFile = open(\"updated.txt\", \"w\") \n",
    "\n",
    "with open(\"Downloads\\\\sample1.txt\", \"r\") as readFile: \n",
    "\n",
    "    txt = readFile.read() \n",
    "\n",
    "reversedContent = txt[::-1] \n",
    "\n",
    "writeFile.write(reversedContent) \n",
    "\n",
    "writeFile.close()"
   ]
  },
  {
   "cell_type": "markdown",
   "id": "c255ec0d",
   "metadata": {},
   "source": [
    "#### 10. Python Program to reverse the content of a file using Stack."
   ]
  },
  {
   "cell_type": "code",
   "execution_count": 2,
   "id": "c224eee4",
   "metadata": {},
   "outputs": [
    {
     "name": "stdout",
     "output_type": "stream",
     "text": [
      ".adneipac atutitsni tnure sibon murativ mine murauD .tnussop esse nemat eavarp ,tnis non eatavarped mine sivmauQ ;mauqni ,sudnamrifnoc maite euqta maite ibit ,osiP ,tse sucol etsi iuqtA .eterretni oitcurtsnoc :segeR ouD .tse artnoc mutot douQ .sumipecca eauq ,aipicnirp ae da-tse sitra ,ocid murtson douq-tse murtson euqatI .tis non eprut douq ,mulam esse lihin tse mutceffe ,tnis ati muc eauQ .tile gnicsipida rutetcesnoc ,tema tis rolod muspi meroL\n",
      "?oitcevni enimulf medoe ,terecudda mutpac mesreP meger muc ,muluaP .tigelletni douq ticid enalp deS .sinob ni rutaebah metutriv artxe mauqciuq iS .atamgod artsev mauq tnis aroirev allun non aibrevorp tU .inimoh elimissid mat tse siuQ .sitneipas etatsetop ni tnus non eae ,setatpulov rutnuiciffe suber subiuq maN .sutceffa silam sitlum tA .tnus eatan eaitilam ,suiccA tia tu ,eauqolicallaf ealli etatluciffid ae xE .se sutilbo tis mudnecid ibit diuq des ,erucipE ,mecov ihposolihp mediuqe oiduA .Q silauq ,sumireauq oborpmi odillac ed des ,oborpmi ed rutigi noN\n",
      "?ogre diuQ .ilon eratcepxe em a mai douQ .somissitcod senimoh mut ,soriv somitpo muc ,mumedolihP te sicid menoriS ,oderc ,sortson serailimaF .erettima ,tnacudnoc ibis eauq ,murer murae mutiteppa mauq eredecsid euqsiuq tiretop es a suirp maN .atlum simin deS ;sibaborp mauqmun esse mutaeb ,sutceffa ati iuQ\n",
      ".otup muicidui mullun orev muraitseB .tiuqni ,mutaeB ;iviv essop odom ollu enoitar ae euqen ,ticid esse ceah atnetroP ;airomem ,satilicod tse sireneg siroirP ?erauqol retnatsnoc isin ,iuqol esoirolg tenitta ogre diuQ .odom oila tnaenam ser medeaE .tnus atcid aiticima ed et a eauq ,sumaediv allI .teredisnoc maite euqta maite subiuq ed ,saud teuqniler atI ?itis atcnitser eauq ,enmedaE\n",
      "?matyhcrA da mutneraT tsop ruC .saborp olli ni cnun ut coH ?mutauqroT mulli mednue erecid sumussop enmetroF .erereahoc es retni eralcearp ,tacid eauq ,ae ,ocid dullI .madifnoc esse murutaborp muspi et eauq ,nemat ae ,ivon tecilics lihin ,etatpulov ed macid cnuN ;muronob areneg airT .tse mudnatup lihin ireif asuac enis murouQ .L otnauq ,ticeffa oiduag otnat eid olli otsef oisnecsed anirebiT meuQ\n",
      ".rutinrec arutan siluceps ni tu subiuq ni ,ireup tnacidnI\n",
      "\n"
     ]
    }
   ],
   "source": [
    "class Stack:\n",
    "    def __init__(self):\n",
    "        self._arr = []\n",
    "    def push(self, val):\n",
    "        self._arr.append(val)\n",
    "    def is_empty(self):\n",
    "        return len(self._arr) == 0\n",
    "    def pop(self):\n",
    "        if self.is_empty():\n",
    "            print(\"Stack is empty\")\n",
    "            return\n",
    "        return self._arr.pop()\n",
    "def reverse_file(filename):\n",
    "    S = Stack()\n",
    "    original = open(filename)\n",
    "    for line in original:\n",
    "        S.push(line.rstrip(\"\\n\"))\n",
    "    original.close()\n",
    "    output = open(filename, 'w')\n",
    "    while not S.is_empty():\n",
    "        output.write(S.pop()+\"\\n\")\n",
    "    output.close()\n",
    "filename = \"Downloads\\\\sample1.txt\"\n",
    "reverse_file(filename)\n",
    "with open(filename) as file:\n",
    "        for f in file.readlines():\n",
    "            print(f, end =\"\")\n"
   ]
  }
 ],
 "metadata": {
  "kernelspec": {
   "display_name": "Python 3",
   "language": "python",
   "name": "python3"
  },
  "language_info": {
   "codemirror_mode": {
    "name": "ipython",
    "version": 3
   },
   "file_extension": ".py",
   "mimetype": "text/x-python",
   "name": "python",
   "nbconvert_exporter": "python",
   "pygments_lexer": "ipython3",
   "version": "3.8.8"
  }
 },
 "nbformat": 4,
 "nbformat_minor": 5
}
