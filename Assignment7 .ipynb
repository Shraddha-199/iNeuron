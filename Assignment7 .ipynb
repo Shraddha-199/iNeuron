{
 "cells": [
  {
   "cell_type": "markdown",
   "id": "38e425ab",
   "metadata": {},
   "source": [
    "#### 1. Reverse words in a given String in Python."
   ]
  },
  {
   "cell_type": "code",
   "execution_count": 1,
   "id": "586d7d6c",
   "metadata": {},
   "outputs": [
    {
     "name": "stdout",
     "output_type": "stream",
     "text": [
      "World Hello\n"
     ]
    }
   ],
   "source": [
    "string = \"Hello World\"\n",
    "words = string.split()\n",
    "words = list(reversed(words))\n",
    "print(\" \".join(words))"
   ]
  },
  {
   "cell_type": "markdown",
   "id": "e3c49904",
   "metadata": {},
   "source": [
    "#### 2. Ways to remove i'th character from string in Python."
   ]
  },
  {
   "cell_type": "code",
   "execution_count": 2,
   "id": "fd33f2da",
   "metadata": {},
   "outputs": [
    {
     "name": "stdout",
     "output_type": "stream",
     "text": [
      "The original string is: Hello World\n",
      "The string after removal of i'th character :  Helo World\n"
     ]
    }
   ],
   "source": [
    "string = \"Hello World\"\n",
    "print(\"The original string is: \" + string)\n",
    "new_string = \" \"\n",
    "for i in range(len(string)):\n",
    "    if i !=2:\n",
    "        new_string = new_string + string[i]\n",
    "print(\"The string after removal of i'th character : \" + new_string)"
   ]
  },
  {
   "cell_type": "markdown",
   "id": "d4203e9c",
   "metadata": {},
   "source": [
    "#### 3. Python | Check if a Substring is Present in a Given String."
   ]
  },
  {
   "cell_type": "code",
   "execution_count": 4,
   "id": "6703576f",
   "metadata": {},
   "outputs": [
    {
     "name": "stdout",
     "output_type": "stream",
     "text": [
      "YES\n"
     ]
    }
   ],
   "source": [
    "def check(string, sub_str):\n",
    "    if (string.find(sub_str) == -1):\n",
    "        print(\"NO\")\n",
    "    else:\n",
    "        print(\"YES\")\n",
    "string = \"hello world\"\n",
    "sub_str = \"hello\"\n",
    "check(string,sub_str)"
   ]
  },
  {
   "cell_type": "markdown",
   "id": "933a5383",
   "metadata": {},
   "source": [
    "#### 4. Python-Words Frequency in String Shorthands."
   ]
  },
  {
   "cell_type": "code",
   "execution_count": 5,
   "id": "88cd457b",
   "metadata": {},
   "outputs": [
    {
     "name": "stdout",
     "output_type": "stream",
     "text": [
      "The original string is : string\n",
      "The words frequency : {'Gfg': 2, 'is': 1, 'best': 1, '.': 1, 'Geeks': 2, 'are': 1, 'good': 1, 'and': 1, 'like': 1}\n"
     ]
    }
   ],
   "source": [
    "test_str = 'Gfg is best . Geeks are good and Geeks like Gfg'\n",
    "print(\"The original string is : \" + (\"string\") )\n",
    "res = {key: test_str.count(key) for key in test_str.split()}\n",
    "\n",
    "print(\"The words frequency : \" + str(res))"
   ]
  },
  {
   "cell_type": "markdown",
   "id": "5bff8b5d",
   "metadata": {},
   "source": [
    "#### 5. Python-Convert Snake case to Pascal case."
   ]
  },
  {
   "cell_type": "code",
   "execution_count": 5,
   "id": "b2039f8d",
   "metadata": {},
   "outputs": [
    {
     "name": "stdout",
     "output_type": "stream",
     "text": [
      "The original string is : hello world_Welcome\n",
      "The string after changing case : Hello World Welcome\n"
     ]
    }
   ],
   "source": [
    "string = \"hello world_Welcome\"\n",
    "print(\"The original string is : \" + string )\n",
    "res = string.replace(\"_\", \" \").title().replace(\" \", \" \")\n",
    "print(\"The string after changing case : \" + str(res))"
   ]
  },
  {
   "cell_type": "markdown",
   "id": "191bb494",
   "metadata": {},
   "source": [
    "#### 6. Find length of a string in Python (4 ways)."
   ]
  },
  {
   "cell_type": "code",
   "execution_count": 6,
   "id": "bafa30cb",
   "metadata": {},
   "outputs": [
    {
     "name": "stdout",
     "output_type": "stream",
     "text": [
      "11\n"
     ]
    }
   ],
   "source": [
    "str = \"hello world\"\n",
    "print(len(str))"
   ]
  },
  {
   "cell_type": "code",
   "execution_count": 7,
   "id": "d4c30d44",
   "metadata": {},
   "outputs": [
    {
     "name": "stdout",
     "output_type": "stream",
     "text": [
      "11\n"
     ]
    }
   ],
   "source": [
    "def findlen(str):\n",
    "    counter = 0\n",
    "    for i in str:\n",
    "        counter += 1\n",
    "    return counter\n",
    "str = \"hello world\"\n",
    "print(findlen(str))"
   ]
  },
  {
   "cell_type": "code",
   "execution_count": 8,
   "id": "dc781f92",
   "metadata": {},
   "outputs": [
    {
     "name": "stdout",
     "output_type": "stream",
     "text": [
      "11\n"
     ]
    }
   ],
   "source": [
    "def findlen(str):\n",
    "    counter = 0\n",
    "    while str[counter:]:\n",
    "        counter += 1\n",
    "    return counter \n",
    "str = \"hello world\"\n",
    "print(findlen(str))"
   ]
  },
  {
   "cell_type": "code",
   "execution_count": 9,
   "id": "53e6f8eb",
   "metadata": {},
   "outputs": [
    {
     "name": "stdout",
     "output_type": "stream",
     "text": [
      "11\n"
     ]
    }
   ],
   "source": [
    "def findlen(str):\n",
    "    if not str:\n",
    "        return 0\n",
    "    else:\n",
    "        some_random_str = 'py'\n",
    "        return((some_random_str).join(str)).count(some_random_str) + 1\n",
    "str = \"Hello world\"\n",
    "print(findlen(str))"
   ]
  },
  {
   "cell_type": "markdown",
   "id": "38221039",
   "metadata": {},
   "source": [
    "#### 7. Python Program to print even length words in a string."
   ]
  },
  {
   "cell_type": "code",
   "execution_count": 11,
   "id": "2353c0be",
   "metadata": {},
   "outputs": [
    {
     "name": "stdout",
     "output_type": "stream",
     "text": [
      "am\n",
      "girl\n"
     ]
    }
   ],
   "source": [
    "def printwords(s):\n",
    "    s = s.split(' ')\n",
    "    for word in s:\n",
    "        if len(word)%2==0:\n",
    "            print(word)\n",
    "s = \"i am girl\"\n",
    "printwords(s)"
   ]
  },
  {
   "cell_type": "markdown",
   "id": "99e3dcc2",
   "metadata": {},
   "source": [
    "#### 8. Python Program to accept the string which contains all vowels."
   ]
  },
  {
   "cell_type": "code",
   "execution_count": 13,
   "id": "30f26f4a",
   "metadata": {},
   "outputs": [
    {
     "name": "stdout",
     "output_type": "stream",
     "text": [
      "not accepted\n"
     ]
    }
   ],
   "source": [
    "def check(string):\n",
    "    if len(set(string.lower()).intersection(\"aeiou\"))>= 5:\n",
    "        return ('accepted')\n",
    "    else:\n",
    "        return('not accepted')\n",
    "if __name__ == \"__main__\":\n",
    "    string = \"hello world\"\n",
    "    print(check(string))"
   ]
  },
  {
   "cell_type": "markdown",
   "id": "15dbecb4",
   "metadata": {},
   "source": [
    "#### 9. Python Count the number of matching characters in a pair of string."
   ]
  },
  {
   "cell_type": "code",
   "execution_count": 14,
   "id": "c3d4b727",
   "metadata": {},
   "outputs": [
    {
     "name": "stdout",
     "output_type": "stream",
     "text": [
      "No. of matching characters are  1\n",
      "No. of matching characters are  2\n",
      "No. of matching characters are  3\n",
      "No. of matching characters are  4\n",
      "No. of matching characters are  5\n"
     ]
    }
   ],
   "source": [
    "import re \n",
    "ip1 = \"hello\"\n",
    "ip2 = \"helloworld\"\n",
    "\n",
    "c = 0\n",
    "for i in ip1:\n",
    "    if re.search(i,ip2):\n",
    "        c=c+1\n",
    "        print(\"No. of matching characters are \", c)"
   ]
  },
  {
   "cell_type": "markdown",
   "id": "8b5ca9bd",
   "metadata": {},
   "source": [
    "#### 10. Remove all duplicates from a given string in Python."
   ]
  },
  {
   "cell_type": "code",
   "execution_count": 21,
   "id": "7352717a",
   "metadata": {},
   "outputs": [
    {
     "name": "stdout",
     "output_type": "stream",
     "text": [
      "Without order:  l o w r h d   e\n",
      "With order:   h\n",
      "With order:   he\n",
      "With order:   hel\n",
      "With order:   helo\n",
      "With order:   helow\n",
      "With order:   helowr\n",
      "With order:   helowrd\n"
     ]
    }
   ],
   "source": [
    "def removeDuplicate(str):\n",
    "    s = set(str)\n",
    "    s = \" \".join(s)\n",
    "    print(\"Without order: \", s)\n",
    "    t = \" \"\n",
    "    for i in str:\n",
    "        if(i in t):\n",
    "            pass\n",
    "        else:\n",
    "            t=t+i\n",
    "            print(\"With order: \",t)\n",
    "str = \"hello world\"\n",
    "removeDuplicate(str)"
   ]
  }
 ],
 "metadata": {
  "kernelspec": {
   "display_name": "Python 3",
   "language": "python",
   "name": "python3"
  },
  "language_info": {
   "codemirror_mode": {
    "name": "ipython",
    "version": 3
   },
   "file_extension": ".py",
   "mimetype": "text/x-python",
   "name": "python",
   "nbconvert_exporter": "python",
   "pygments_lexer": "ipython3",
   "version": "3.8.8"
  }
 },
 "nbformat": 4,
 "nbformat_minor": 5
}
