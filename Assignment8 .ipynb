{
 "cells": [
  {
   "cell_type": "markdown",
   "id": "051adf53",
   "metadata": {},
   "source": [
    "#### 1. Python-Least Frequent Character in String."
   ]
  },
  {
   "cell_type": "code",
   "execution_count": 2,
   "id": "7a81e5f7",
   "metadata": {},
   "outputs": [
    {
     "name": "stdout",
     "output_type": "stream",
     "text": [
      "The original string is : Hello world\n",
      "The minimum of all characters in Hello world is : H\n"
     ]
    }
   ],
   "source": [
    "str = \"Hello world\"\n",
    "print(\"The original string is : \" + str)\n",
    "all_freq = {}\n",
    "for i in str:\n",
    "    if i in all_freq:\n",
    "        all_freq[i] += 1\n",
    "    else:\n",
    "        all_freq[i] = 1\n",
    "    res = min(all_freq, key = all_freq.get)\n",
    "print(\"The minimum of all characters in Hello world is : \" + (res))"
   ]
  },
  {
   "cell_type": "markdown",
   "id": "781afa4b",
   "metadata": {},
   "source": [
    "#### 2. Python | Maximum frequency character in String."
   ]
  },
  {
   "cell_type": "code",
   "execution_count": 3,
   "id": "fd82dd94",
   "metadata": {},
   "outputs": [
    {
     "name": "stdout",
     "output_type": "stream",
     "text": [
      "The original string is : Hello world\n",
      "The maximum of all characters in Hello world is : l\n"
     ]
    }
   ],
   "source": [
    "str = \"Hello world\"\n",
    "print(\"The original string is : \" + str)\n",
    "all_freq = {}\n",
    "for i in str:\n",
    "    if i in all_freq:\n",
    "        all_freq[i] += 1\n",
    "    else:\n",
    "        all_freq[i] = 1\n",
    "    res = max(all_freq, key = all_freq.get)\n",
    "print(\"The maximum of all characters in Hello world is : \" + (res))"
   ]
  },
  {
   "cell_type": "markdown",
   "id": "49455c96",
   "metadata": {},
   "source": [
    "#### 3. Python | Program to check if a string contains any special character."
   ]
  },
  {
   "cell_type": "code",
   "execution_count": 5,
   "id": "d7269e9f",
   "metadata": {},
   "outputs": [
    {
     "name": "stdout",
     "output_type": "stream",
     "text": [
      "string is accepted\n"
     ]
    }
   ],
   "source": [
    "import re\n",
    "def run(string):\n",
    "    regex = re.compile('[@_!#$%^&*()<>|{}:]')\n",
    "    if(regex.search(string) == None):\n",
    "        print(\"string is accepted\")\n",
    "    else:\n",
    "        print(\"string is not accepted\")\n",
    "if __name__ == '__main__' :\n",
    "    string = \"Hello world\"\n",
    "    run(string)"
   ]
  },
  {
   "cell_type": "markdown",
   "id": "b6476e3d",
   "metadata": {},
   "source": [
    "#### 4. Generating random strings until a given string is generated."
   ]
  },
  {
   "cell_type": "code",
   "execution_count": 22,
   "id": "2085e9c2",
   "metadata": {},
   "outputs": [
    {
     "name": "stdout",
     "output_type": "stream",
     "text": [
      "JjPwz\n",
      "kP5A:\n",
      "w8wU:\n",
      "hlZf;\n",
      "hs EJ\n",
      "hvJGn\n",
      "hqO0W\n",
      "h4iFk\n",
      "hgvEG\n",
      "hH,M:\n",
      "hJ6v5\n",
      "h,6cv\n",
      "h0GHN\n",
      "hdYOy\n",
      "huM7Z\n",
      "hz9uK\n",
      "hC1lt\n",
      "h4elP\n",
      "hEAl2\n",
      "htilK\n",
      "hIilb\n",
      "hRblg\n",
      "hcol.\n",
      "hWLl5\n",
      "hWklS\n",
      "h5llp\n",
      "hqllh\n",
      "h:lld\n",
      "hUllD\n",
      "hvll:\n",
      "hMllk\n",
      "hbll2\n",
      "hIllm\n",
      "h:llU\n",
      "hxllE\n",
      "hkllU\n",
      "holl0\n",
      "h9llD\n",
      "hUll \n",
      "h0ll8\n",
      "h7llo\n",
      "hjllo\n",
      "htllo\n",
      "hVllo\n",
      "hrllo\n",
      "hHllo\n",
      "hXllo\n",
      "hOllo\n",
      "hillo\n",
      "hollo\n",
      "hUllo\n",
      "hfllo\n",
      "hollo\n",
      "hhllo\n",
      "hRllo\n",
      "hNllo\n",
      "h8llo\n",
      "hmllo\n",
      "hrllo\n",
      "hGllo\n",
      "hNllo\n",
      "h7llo\n",
      "h,llo\n",
      "hMllo\n",
      "htllo\n",
      "hpllo\n",
      "hVllo\n",
      "h7llo\n",
      "h;llo\n",
      "hallo\n",
      "hDllo\n",
      "hillo\n",
      "hdllo\n",
      "hdllo\n",
      "hsllo\n",
      "hdllo\n",
      "h,llo\n",
      "h9llo\n",
      "hsllo\n",
      "hkllo\n",
      "h5llo\n",
      "hsllo\n",
      "h?llo\n",
      "hLllo\n",
      "hxllo\n",
      "hFllo\n",
      "hEllo\n",
      "h8llo\n",
      "hsllo\n",
      "hOllo\n",
      "hkllo\n",
      "hrllo\n",
      "hnllo\n",
      "hDllo\n",
      "hyllo\n",
      "hAllo\n",
      "h llo\n",
      "hVllo\n",
      "htllo\n",
      "h llo\n",
      "hhllo\n",
      "hVllo\n",
      "h,llo\n",
      "h;llo\n",
      "h;llo\n",
      "hKllo\n",
      "hbllo\n",
      "hCllo\n",
      "h:llo\n",
      "hBllo\n",
      "hGllo\n",
      "hMllo\n",
      "h1llo\n",
      "hpllo\n",
      "hnllo\n",
      "hsllo\n",
      "hillo\n",
      "h2llo\n",
      "h5llo\n",
      "hallo\n",
      "h6llo\n",
      "hCllo\n",
      "h8llo\n",
      "h5llo\n",
      "hLllo\n",
      "h?llo\n",
      "hQllo\n",
      "hEllo\n",
      "h.llo\n",
      "h0llo\n",
      "hUllo\n",
      "hBllo\n",
      "hAllo\n",
      "h1llo\n",
      "hmllo\n",
      "hallo\n",
      "h1llo\n",
      "hYllo\n",
      "h llo\n",
      "hKllo\n",
      "hfllo\n",
      "h:llo\n",
      "h!llo\n",
      "h:llo\n",
      "hNllo\n",
      "hzllo\n",
      "hwllo\n",
      "hgllo\n",
      "h!llo\n",
      "hcllo\n",
      "hQllo\n",
      "hLllo\n",
      "hFllo\n",
      "hSllo\n",
      "h!llo\n",
      "hpllo\n",
      "hPllo\n",
      "hsllo\n",
      "hFllo\n",
      "h!llo\n",
      "h.llo\n",
      "hPllo\n",
      "h5llo\n",
      "hYllo\n",
      "hHllo\n",
      "hIllo\n",
      "hTllo\n",
      "hello\n",
      "Target matched after  168  iterations\n"
     ]
    }
   ],
   "source": [
    "import string\n",
    "import random\n",
    "import time\n",
    "\n",
    "possibleCharacters = string.ascii_lowercase + string.digits + string.ascii_uppercase + ' ., !?;:'\n",
    "t = \"hello\"\n",
    "attemptThis = ''.join(random.choice(possibleCharacters) for i in range(len(t)))\n",
    "attemptNext = ''\n",
    "completed = False\n",
    "iteration = 0\n",
    "while completed == False:\n",
    "    print(attemptThis)\n",
    "    \n",
    "    attemptNext = ''\n",
    "    completed = True\n",
    "    \n",
    "    for i in range(len(t)):\n",
    "        if attemptThis[i] != t[i]:\n",
    "            completed = False\n",
    "            attemptNext += random.choice(possibleCharacters)\n",
    "        else:\n",
    "            attemptNext += t[i]\n",
    "    iteration = iteration + 1\n",
    "    attemptThis = attemptNext\n",
    "    time.sleep(0.1)\n",
    "print(\"Target matched after \", iteration,\" iterations\")"
   ]
  },
  {
   "cell_type": "markdown",
   "id": "6564c7aa",
   "metadata": {},
   "source": [
    "#### 5. Find words which are greater than given length k."
   ]
  },
  {
   "cell_type": "code",
   "execution_count": 4,
   "id": "20e1484d",
   "metadata": {},
   "outputs": [
    {
     "name": "stdout",
     "output_type": "stream",
     "text": [
      "None\n"
     ]
    }
   ],
   "source": [
    "def string_k(k,str):\n",
    "    string = []\n",
    "    text = str.split(\" \")\n",
    "    for x in text:\n",
    "        if len(x) > k:\n",
    "            string.append(x)\n",
    "        return string\n",
    "k = 3\n",
    "string = \"Hello world\"\n",
    "print(string_k(k, str))"
   ]
  },
  {
   "cell_type": "markdown",
   "id": "652adf45",
   "metadata": {},
   "source": [
    "#### 6. Python Program for removing i-th character from a string."
   ]
  },
  {
   "cell_type": "code",
   "execution_count": 5,
   "id": "a9375faa",
   "metadata": {},
   "outputs": [
    {
     "name": "stdout",
     "output_type": "stream",
     "text": [
      "hell world\n"
     ]
    }
   ],
   "source": [
    "def remove(string, i):\n",
    "    a = string[ : i]\n",
    "    b = string[i + 1: ]\n",
    "    return a + b\n",
    "if __name__ == '__main__':\n",
    "    string = \"hello world\"\n",
    "    i = 4\n",
    "    print(remove(string, i))"
   ]
  },
  {
   "cell_type": "markdown",
   "id": "9c649180",
   "metadata": {},
   "source": [
    "#### 7. Python program to split and join a string."
   ]
  },
  {
   "cell_type": "code",
   "execution_count": 6,
   "id": "fa17a410",
   "metadata": {},
   "outputs": [
    {
     "name": "stdout",
     "output_type": "stream",
     "text": [
      "['I', 'have', 'a', 'Dog']\n",
      "I-have-a-Dog\n"
     ]
    }
   ],
   "source": [
    "def split_string(string):\n",
    "    list_string = string.split(' ')\n",
    "    return list_string\n",
    "def join_string(list_string):\n",
    "    string = '-'.join(list_string)\n",
    "    return string\n",
    "if __name__ == '__main__':\n",
    "    string = 'I have a Dog'\n",
    "    list_string = split_string(string)\n",
    "    print(list_string)\n",
    "    new_string = join_string(list_string)\n",
    "    print(new_string)"
   ]
  },
  {
   "cell_type": "markdown",
   "id": "1338f71b",
   "metadata": {},
   "source": [
    "#### 8.Python | Check if a given string is binary string or not."
   ]
  },
  {
   "cell_type": "code",
   "execution_count": 8,
   "id": "d13237c2",
   "metadata": {},
   "outputs": [
    {
     "name": "stdout",
     "output_type": "stream",
     "text": [
      "Yes\n"
     ]
    }
   ],
   "source": [
    "def check(string):\n",
    "    p = set(string)\n",
    "    s = {'0', '1'}\n",
    "    if s == p or p == {'0'} or p == {'1'}:\n",
    "        print(\"Yes\")\n",
    "    else :\n",
    "        print(\"No\")\n",
    "if __name__ == \"__main__\" :\n",
    "    string = \"10101000111\"\n",
    "    check(string)"
   ]
  },
  {
   "cell_type": "markdown",
   "id": "77f26217",
   "metadata": {},
   "source": [
    "#### 9. Python Program to find uncommon words from two strings."
   ]
  },
  {
   "cell_type": "code",
   "execution_count": 9,
   "id": "3850e1d1",
   "metadata": {},
   "outputs": [
    {
     "name": "stdout",
     "output_type": "stream",
     "text": [
      "['welcome', 'to', 'Python', 'class', 'I', 'have', 'a', 'cat']\n"
     ]
    }
   ],
   "source": [
    "def UncommonWords(A, B) :\n",
    "    count = {}\n",
    "    for word in A.split():\n",
    "        count[word] = count.get(word, 0) + 1\n",
    "    for word in B.split():\n",
    "        count[word] = count.get(word, 0) + 1\n",
    "    return [word for word in count if count[word] == 1]\n",
    "A = \"Hello world, welcome to Python class\"\n",
    "B = \"Hello world, I have a cat\"\n",
    "print(UncommonWords(A, B))"
   ]
  },
  {
   "cell_type": "markdown",
   "id": "838ce900",
   "metadata": {},
   "source": [
    "#### 10. Python-Replace duplicate Occurance in string."
   ]
  },
  {
   "cell_type": "code",
   "execution_count": 11,
   "id": "f5dfc363",
   "metadata": {},
   "outputs": [
    {
     "name": "stdout",
     "output_type": "stream",
     "text": [
      "The original string is : Gfg is best . Gfg also has Classes now. \\ Classes help understand better\n",
      "The string after replacing : It is best . It also has They now. \\ They help understand better\n"
     ]
    }
   ],
   "source": [
    "string = 'Gfg is best . Gfg also has Classes now. \\ Classes help understand better'\n",
    "print(\"The original string is : \" + str(string))\n",
    "repl_dict = {'Gfg' : 'It', 'Classes' : 'They'}\n",
    "list = string.split(' ')\n",
    "res = set()\n",
    "for idx, ele in enumerate(list):\n",
    "    if ele in repl_dict:\n",
    "        list[idx] = repl_dict[ele]\n",
    "    else:\n",
    "        res.add(ele)\n",
    "res = ' '.join(list)\n",
    "print(\"The string after replacing : \" + str(res))"
   ]
  }
 ],
 "metadata": {
  "kernelspec": {
   "display_name": "Python 3",
   "language": "python",
   "name": "python3"
  },
  "language_info": {
   "codemirror_mode": {
    "name": "ipython",
    "version": 3
   },
   "file_extension": ".py",
   "mimetype": "text/x-python",
   "name": "python",
   "nbconvert_exporter": "python",
   "pygments_lexer": "ipython3",
   "version": "3.8.8"
  }
 },
 "nbformat": 4,
 "nbformat_minor": 5
}
