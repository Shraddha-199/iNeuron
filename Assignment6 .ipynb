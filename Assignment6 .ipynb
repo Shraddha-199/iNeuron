{
 "cells": [
  {
   "cell_type": "markdown",
   "id": "0d843df3",
   "metadata": {},
   "source": [
    "#### 1. Python program to add two matrices."
   ]
  },
  {
   "cell_type": "code",
   "execution_count": 5,
   "id": "91d68861",
   "metadata": {},
   "outputs": [
    {
     "name": "stdout",
     "output_type": "stream",
     "text": [
      "[10, 10, 10]\n",
      "[10, 10, 10]\n",
      "[10, 10, 10]\n"
     ]
    }
   ],
   "source": [
    "x = [[1,2,3],\n",
    "    [4,5,6],\n",
    "    [7,8,9]]\n",
    "y = [[9,8,7],\n",
    "    [6,5,4],\n",
    "    [3,2,1]]\n",
    "\n",
    "result = [[0,0,0],\n",
    "         [0,0,0],\n",
    "         [0,0,0]]\n",
    "\n",
    "for i in range (len(x)):\n",
    "    for j in range (len(x[0])):\n",
    "        result[i][j] = x[i][j] + y[i][j]\n",
    "        \n",
    "for r in result:\n",
    "    print(r)"
   ]
  },
  {
   "cell_type": "markdown",
   "id": "e90091e1",
   "metadata": {},
   "source": [
    "#### 2. Python program to multiply two matrices."
   ]
  },
  {
   "cell_type": "code",
   "execution_count": 10,
   "id": "756c04df",
   "metadata": {},
   "outputs": [
    {
     "name": "stdout",
     "output_type": "stream",
     "text": [
      "[114, 160, 60, 27]\n",
      "[74, 97, 73, 14]\n",
      "[119, 157, 112, 23]\n"
     ]
    }
   ],
   "source": [
    "A = [[12,7,3],\n",
    "    [4,5,6],\n",
    "    [7,8,9]]\n",
    "B = [[5,8,1,2],\n",
    "    [6,7,3,0],\n",
    "    [4,5,9,1]]\n",
    "result = [[0,0,0,0],\n",
    "         [0,0,0,0],\n",
    "         [0,0,0,0]]\n",
    "for i in range(len(A)):\n",
    "    \n",
    "    for j in range(len(B[0])):\n",
    "    \n",
    "        for k in range(len(B)):\n",
    "            result[i][j] += A[i][k] * B[k][j]\n",
    "for r in result:\n",
    "    print(r)"
   ]
  },
  {
   "cell_type": "markdown",
   "id": "7485648b",
   "metadata": {},
   "source": [
    "#### 3. Python program for Matrix product."
   ]
  },
  {
   "cell_type": "code",
   "execution_count": 10,
   "id": "1e648c24",
   "metadata": {},
   "outputs": [
    {
     "name": "stdout",
     "output_type": "stream",
     "text": [
      "[114, 160, 60, 27]\n",
      "[74, 97, 73, 14]\n",
      "[119, 157, 112, 23]\n"
     ]
    }
   ],
   "source": [
    "A = [[12,7,3],\n",
    "    [4,5,6],\n",
    "    [7,8,9]]\n",
    "B = [[5,8,1,2],\n",
    "    [6,7,3,0],\n",
    "    [4,5,9,1]]\n",
    "result = [[0,0,0,0],\n",
    "         [0,0,0,0],\n",
    "         [0,0,0,0]]\n",
    "for i in range(len(A)):\n",
    "    \n",
    "    for j in range(len(B[0])):\n",
    "    \n",
    "        for k in range(len(B)):\n",
    "            result[i][j] += A[i][k] * B[k][j]\n",
    "for r in result:\n",
    "    print(r)"
   ]
  },
  {
   "cell_type": "markdown",
   "id": "790d2fdb",
   "metadata": {},
   "source": [
    "#### 4. Adding and Substracting Matrices in Python."
   ]
  },
  {
   "cell_type": "code",
   "execution_count": 2,
   "id": "f4a117a9",
   "metadata": {},
   "outputs": [
    {
     "name": "stdout",
     "output_type": "stream",
     "text": [
      "Printing elements of first matrix\n",
      "[[1 2]\n",
      " [3 4]]\n",
      "Printing elements of second matrix\n",
      "[[4 5]\n",
      " [6 7]]\n",
      "Addition of two matrix\n",
      "[[ 5  7]\n",
      " [ 9 11]]\n"
     ]
    }
   ],
   "source": [
    "# Adding\n",
    "\n",
    "import numpy as np\n",
    "\n",
    "A = np.array([[1,2],[3,4]])\n",
    "B = np.array([[4,5],[6,7]])\n",
    "\n",
    "print(\"Printing elements of first matrix\")\n",
    "print(A)\n",
    "print(\"Printing elements of second matrix\")\n",
    "print(B)\n",
    "\n",
    "print(\"Addition of two matrix\")\n",
    "print(np.add(A, B))"
   ]
  },
  {
   "cell_type": "code",
   "execution_count": 3,
   "id": "33fda3cf",
   "metadata": {},
   "outputs": [
    {
     "name": "stdout",
     "output_type": "stream",
     "text": [
      "Printing elements of first matrix\n",
      "[[1 2]\n",
      " [3 4]]\n",
      "Printing elements of second matrix\n",
      "[[4 5]\n",
      " [6 7]]\n",
      "Substraction of two matrix\n",
      "[[-3 -3]\n",
      " [-3 -3]]\n"
     ]
    }
   ],
   "source": [
    "# Substrating\n",
    "\n",
    "import numpy as np\n",
    "\n",
    "A = np.array([[1,2],[3,4]])\n",
    "B = np.array([[4,5],[6,7]])\n",
    "\n",
    "print(\"Printing elements of first matrix\")\n",
    "print(A)\n",
    "print(\"Printing elements of second matrix\")\n",
    "print(B)\n",
    "\n",
    "print(\"Substraction of two matrix\")\n",
    "print(np.subtract(A, B))"
   ]
  },
  {
   "cell_type": "markdown",
   "id": "6342690c",
   "metadata": {},
   "source": [
    "#### 5. Transepose a matrix in single line in Python."
   ]
  },
  {
   "cell_type": "code",
   "execution_count": 11,
   "id": "03453b28",
   "metadata": {},
   "outputs": [
    {
     "name": "stdout",
     "output_type": "stream",
     "text": [
      "[1, 2]\n",
      "[3, 4]\n",
      "[5, 6]\n",
      "\n",
      "\n",
      "[1, 3, 5]\n",
      "[2, 4, 6]\n"
     ]
    }
   ],
   "source": [
    "m = [[1,2],[3,4],[5,6]]\n",
    "for row in m :\n",
    "    print(row)\n",
    "rez = [[m[j][i] for j in range (len(m))] for i in range(len(m[0]))]\n",
    "print(\"\\n\")\n",
    "for row in rez:\n",
    "    print(row)"
   ]
  },
  {
   "cell_type": "markdown",
   "id": "4de3206b",
   "metadata": {},
   "source": [
    "#### 6. Python | Matrix creation of n*n."
   ]
  },
  {
   "cell_type": "code",
   "execution_count": 12,
   "id": "a385a4df",
   "metadata": {},
   "outputs": [
    {
     "name": "stdout",
     "output_type": "stream",
     "text": [
      "The dimension : 4\n",
      "The created matrix of N * N: [[1, 2, 3, 4], [5, 6, 7, 8], [9, 10, 11, 12], [13, 14, 15, 16]]\n"
     ]
    }
   ],
   "source": [
    "N = 4\n",
    "print(\"The dimension : \" + str(N))\n",
    "res = [list(range(1 +N * i, 1 + N * (i + 1)))\n",
    "      for i in range(N)]\n",
    "print(\"The created matrix of N * N: \" + str(res))"
   ]
  },
  {
   "cell_type": "markdown",
   "id": "c4dbba7e",
   "metadata": {},
   "source": [
    "#### 7. Python | Get kth Column of Matrix."
   ]
  },
  {
   "cell_type": "code",
   "execution_count": 13,
   "id": "67bc25d7",
   "metadata": {},
   "outputs": [
    {
     "name": "stdout",
     "output_type": "stream",
     "text": [
      "The original list is: [[4, 5, 6], [8, 1, 10], [7, 12, 5]]\n",
      "The Kth column of matrix is : [6, 10, 5]\n"
     ]
    }
   ],
   "source": [
    "list = [[4,5,6], [8,1,10], [7,12,5]]\n",
    "\n",
    "print(\"The original list is: \" + str(list))\n",
    "K = 2\n",
    "res = [sub[K] for sub in list]\n",
    "print(\"The Kth column of matrix is : \" + str(res))"
   ]
  },
  {
   "cell_type": "markdown",
   "id": "59ef42a3",
   "metadata": {},
   "source": [
    "#### 8. Python - Vertical Concatenation in Matrix."
   ]
  },
  {
   "cell_type": "code",
   "execution_count": 14,
   "id": "fd574aa4",
   "metadata": {},
   "outputs": [
    {
     "name": "stdout",
     "output_type": "stream",
     "text": [
      "The original list : [['Gfg', 'good'], ['is', 'for'], ['Best']]\n",
      "List after column Concatenation : ['GfgisBest', 'goodfor']\n"
     ]
    }
   ],
   "source": [
    "list = [[\"Gfg\", \"good\"], [\"is\", \"for\"], [\"Best\"]]\n",
    "print(\"The original list : \" + str(list))\n",
    "res = []\n",
    "N = 0\n",
    "while N != len(list):\n",
    "    temp = ''\n",
    "    for idx in list:\n",
    "        try: temp = temp + idx[N]\n",
    "        except IndexError: pass\n",
    "    res.append(temp)\n",
    "    N = N + 1\n",
    "res = [ele for ele in res if ele]\n",
    "print(\"List after column Concatenation : \" + str(res))"
   ]
  },
  {
   "cell_type": "markdown",
   "id": "1669fe6e",
   "metadata": {},
   "source": [
    "#### 9. Python program to check if a string is palindrome or not."
   ]
  },
  {
   "cell_type": "code",
   "execution_count": 15,
   "id": "af614298",
   "metadata": {},
   "outputs": [
    {
     "name": "stdout",
     "output_type": "stream",
     "text": [
      "Yes\n"
     ]
    }
   ],
   "source": [
    "def isPalindrome(s):\n",
    "    return s == s[::-1]\n",
    "s = \"malayalam\"\n",
    "ans = isPalindrome(s)\n",
    "if ans:\n",
    "    print(\"Yes\")\n",
    "else:\n",
    "    print(\"No\")"
   ]
  },
  {
   "cell_type": "markdown",
   "id": "ed2a7b30",
   "metadata": {},
   "source": [
    "#### 10. Python program to check wheather the string is Symmetrical or Palindrome."
   ]
  },
  {
   "cell_type": "code",
   "execution_count": 17,
   "id": "7e6e2902",
   "metadata": {},
   "outputs": [
    {
     "name": "stdout",
     "output_type": "stream",
     "text": [
      "amaama string is symmetrical\n",
      "amaama string is palindrome\n"
     ]
    }
   ],
   "source": [
    "string = 'amaama'\n",
    "half = int(len(string) / 2)\n",
    "\n",
    "if len(string) % 2 == 0: \n",
    "    first_str = string[:half]\n",
    "    second_str = string[half:]\n",
    "else:\n",
    "    first_str = string[:half]\n",
    "    second_str = string[half+1:]\n",
    "#symmetrical\n",
    "if first_str == second_str:\n",
    "    print(string, 'string is symmetrical')\n",
    "else:\n",
    "    print(string, 'string is not symmetrical')\n",
    "    \n",
    "#palindrome  \n",
    "if first_str == second_str[::-1]:\n",
    "    print(string, 'string is palindrome')\n",
    "else:\n",
    "    print(string, 'string is not palindrome')"
   ]
  }
 ],
 "metadata": {
  "kernelspec": {
   "display_name": "Python 3",
   "language": "python",
   "name": "python3"
  },
  "language_info": {
   "codemirror_mode": {
    "name": "ipython",
    "version": 3
   },
   "file_extension": ".py",
   "mimetype": "text/x-python",
   "name": "python",
   "nbconvert_exporter": "python",
   "pygments_lexer": "ipython3",
   "version": "3.8.8"
  }
 },
 "nbformat": 4,
 "nbformat_minor": 5
}
