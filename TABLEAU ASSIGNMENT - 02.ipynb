{
 "cells": [
  {
   "cell_type": "markdown",
   "id": "cf26e088",
   "metadata": {},
   "source": [
    "## TABLEAU ASSIGNMENT - 02"
   ]
  },
  {
   "cell_type": "markdown",
   "id": "320419fd",
   "metadata": {},
   "source": [
    "###### 1. What is Tableau Data Engine?"
   ]
  },
  {
   "cell_type": "markdown",
   "id": "83d64ec8",
   "metadata": {},
   "source": [
    "Hyper is Tableau's in-memory Data Engine technology optimized for fast data ingests and analytical query processing on large or complex data sets. ... The Data Engine is used when creating, refreshing or querying extracts. It is also used for cross-database joins to support federated data sources with multiple connections."
   ]
  },
  {
   "cell_type": "markdown",
   "id": "cd0cc5bc",
   "metadata": {},
   "source": [
    "###### 2. How to create a calculated field in Tableau?"
   ]
  },
  {
   "cell_type": "markdown",
   "id": "97f19387",
   "metadata": {},
   "source": [
    "Click the drop down to the right of Dimensions on the Data pane and select “Create > Calculated Field” to open the calculation editor.\n",
    "Name the new field and create a formula."
   ]
  },
  {
   "cell_type": "markdown",
   "id": "4837d3fd",
   "metadata": {},
   "source": [
    "###### 3. Can you tell the differences between TreeMap and Heat Map?"
   ]
  },
  {
   "cell_type": "markdown",
   "id": "c217f5e7",
   "metadata": {},
   "source": [
    "A heat map can be used for comparing categories with color and size. With heat maps, you can compare two different measures together.\n",
    "A tree map also does the same except it is considered a very powerful visualization as it can be used for illustrating hierarchical data and part-to-whole relationships."
   ]
  }
 ],
 "metadata": {
  "kernelspec": {
   "display_name": "Python 3",
   "language": "python",
   "name": "python3"
  },
  "language_info": {
   "codemirror_mode": {
    "name": "ipython",
    "version": 3
   },
   "file_extension": ".py",
   "mimetype": "text/x-python",
   "name": "python",
   "nbconvert_exporter": "python",
   "pygments_lexer": "ipython3",
   "version": "3.8.8"
  }
 },
 "nbformat": 4,
 "nbformat_minor": 5
}
