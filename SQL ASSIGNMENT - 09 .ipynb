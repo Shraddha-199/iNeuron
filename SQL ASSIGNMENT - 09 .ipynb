{
 "cells": [
  {
   "cell_type": "markdown",
   "id": "379c8fe5",
   "metadata": {},
   "source": [
    "## SQL ASSIGNMENT - 09"
   ]
  },
  {
   "cell_type": "markdown",
   "id": "98a63c15",
   "metadata": {},
   "source": [
    "###### 1. Write an SQL query to show the top n (say 10) records of a table."
   ]
  },
  {
   "cell_type": "code",
   "execution_count": null,
   "id": "15f0d016",
   "metadata": {},
   "outputs": [],
   "source": [
    "SELECT * FROM Worker ORDER BY Salary DESC LIMIT 10;\n",
    "ELECT TOP 10 * FROM Worker ORDER BY Salary DESC;\n",
    "SELECT * FROM (SELECT * FROM Worker ORDER BY Salary DESC)\n",
    "WHERE ROWNUM <= 10;"
   ]
  },
  {
   "cell_type": "markdown",
   "id": "ba24b64c",
   "metadata": {},
   "source": [
    "###### 2. Write an SQL query to determine the nth (say n=5) highest salary from a table."
   ]
  },
  {
   "cell_type": "code",
   "execution_count": null,
   "id": "2052dbef",
   "metadata": {},
   "outputs": [],
   "source": [
    "SELECT Salary FROM Worker ORDER BY Salary DESC LIMIT n-1,1;\n",
    "SELECT TOP 1 Salary\n",
    "FROM (\n",
    " SELECT DISTINCT TOP n Salary\n",
    " FROM Worker \n",
    " ORDER BY Salary DESC\n",
    " )\n",
    "ORDER BY Salary ASC;"
   ]
  }
 ],
 "metadata": {
  "kernelspec": {
   "display_name": "Python 3",
   "language": "python",
   "name": "python3"
  },
  "language_info": {
   "codemirror_mode": {
    "name": "ipython",
    "version": 3
   },
   "file_extension": ".py",
   "mimetype": "text/x-python",
   "name": "python",
   "nbconvert_exporter": "python",
   "pygments_lexer": "ipython3",
   "version": "3.8.8"
  }
 },
 "nbformat": 4,
 "nbformat_minor": 5
}
