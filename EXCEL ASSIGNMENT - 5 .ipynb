{
 "cells": [
  {
   "cell_type": "markdown",
   "id": "55c147c0",
   "metadata": {},
   "source": [
    "## EXCEL ASSIGNMENT - 5"
   ]
  },
  {
   "cell_type": "markdown",
   "id": "dbf6dfbf",
   "metadata": {},
   "source": [
    "###### 1. What is a ribbon in Excel?"
   ]
  },
  {
   "cell_type": "markdown",
   "id": "19804c93",
   "metadata": {},
   "source": [
    "First introduced in Excel 2007, the ribbon is the strip of buttons and icons located above the work area. The ribbon replaces the menus and toolbars found in earlier versions of Excel"
   ]
  },
  {
   "cell_type": "markdown",
   "id": "8c2af49d",
   "metadata": {},
   "source": [
    "###### 2. What is the order of operations used for evaluating formulas in excel?"
   ]
  },
  {
   "cell_type": "markdown",
   "id": "711837b7",
   "metadata": {},
   "source": [
    "When evaluating a formula, Excel follows a standard math protocol called \"order of operations\". In general, Excel's order of operation follows the acronym PEMDAS (Parentheses, Exponents, Multiplication, Division, Addition, Subtraction) but with some customization to handle the formula syntax in a spreadsheet."
   ]
  },
  {
   "cell_type": "markdown",
   "id": "4eac6ab8",
   "metadata": {},
   "source": [
    "###### 3. Is it possible to protect value from being copied from the cell? If yes, then how to implement it."
   ]
  },
  {
   "cell_type": "markdown",
   "id": "89292e8f",
   "metadata": {},
   "source": [
    "Yes, it is possible. In order to protect your worksheet from getting copied, you need to go into Menu bar >Review > Protect sheet > Password. By entering password, you can secure your worksheet from getting copied by others."
   ]
  },
  {
   "cell_type": "markdown",
   "id": "361d5aa8",
   "metadata": {},
   "source": [
    "###### 4. What is the use of Name Box in MS-Excel?"
   ]
  },
  {
   "cell_type": "markdown",
   "id": "91b00906",
   "metadata": {},
   "source": [
    "In Excel, the Name Box refers to an input box directly to the left of the formula bar. The Name Box normally displays the address of the \"active cell\" on the worksheet. You can also use the name box to quickly create a named range. Another use for the Name Box is to navigate quickly to any range in a worksheet."
   ]
  }
 ],
 "metadata": {
  "kernelspec": {
   "display_name": "Python 3",
   "language": "python",
   "name": "python3"
  },
  "language_info": {
   "codemirror_mode": {
    "name": "ipython",
    "version": 3
   },
   "file_extension": ".py",
   "mimetype": "text/x-python",
   "name": "python",
   "nbconvert_exporter": "python",
   "pygments_lexer": "ipython3",
   "version": "3.8.8"
  }
 },
 "nbformat": 4,
 "nbformat_minor": 5
}
