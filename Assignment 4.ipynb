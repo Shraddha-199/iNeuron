{
 "cells": [
  {
   "cell_type": "markdown",
   "id": "fd5f369a",
   "metadata": {},
   "source": [
    "#### 1. Python program to find smallest number in the list."
   ]
  },
  {
   "cell_type": "code",
   "execution_count": 1,
   "id": "17222bc5",
   "metadata": {},
   "outputs": [
    {
     "name": "stdout",
     "output_type": "stream",
     "text": [
      "[1, 10, 20, 20, 100]\n",
      "smallest element is: 1\n"
     ]
    }
   ],
   "source": [
    "list = [20,100,20,1,10]\n",
    "list.sort()\n",
    "print(list)\n",
    "\n",
    "print(\"smallest element is:\",list[0])"
   ]
  },
  {
   "cell_type": "code",
   "execution_count": 2,
   "id": "b83690e1",
   "metadata": {},
   "outputs": [
    {
     "name": "stdout",
     "output_type": "stream",
     "text": [
      "1\n"
     ]
    }
   ],
   "source": [
    "list = [20,100,20,1,10]\n",
    "print(min(list))"
   ]
  },
  {
   "cell_type": "markdown",
   "id": "857e5a82",
   "metadata": {},
   "source": [
    "#### 2. Python program to find largest number in the list."
   ]
  },
  {
   "cell_type": "code",
   "execution_count": 3,
   "id": "b3a6e0c1",
   "metadata": {},
   "outputs": [
    {
     "name": "stdout",
     "output_type": "stream",
     "text": [
      "[1, 10, 20, 20, 100]\n",
      "largestest element is: 100\n"
     ]
    }
   ],
   "source": [
    "list = [20,100,20,1,10]\n",
    "list.sort()\n",
    "print(list)\n",
    "\n",
    "print(\"largestest element is:\",list[-1])"
   ]
  },
  {
   "cell_type": "code",
   "execution_count": 4,
   "id": "657773ad",
   "metadata": {},
   "outputs": [
    {
     "name": "stdout",
     "output_type": "stream",
     "text": [
      "100\n"
     ]
    }
   ],
   "source": [
    "list = [20,100,20,1,10]\n",
    "print(max(list))"
   ]
  },
  {
   "cell_type": "markdown",
   "id": "d41d09fc",
   "metadata": {},
   "source": [
    "#### 3. Python program to find second largest number in a list."
   ]
  },
  {
   "cell_type": "code",
   "execution_count": 5,
   "id": "4f146d2c",
   "metadata": {},
   "outputs": [
    {
     "name": "stdout",
     "output_type": "stream",
     "text": [
      "[4, 10, 20, 45, 99]\n",
      "largest number is: 99\n",
      " second largest number is: 45\n"
     ]
    }
   ],
   "source": [
    "list = [10,20,4,45,99]\n",
    "list.sort()\n",
    "print(list)\n",
    "\n",
    "print(\"largest number is:\", list[-1])\n",
    "print(\" second largest number is:\", list[-2])"
   ]
  },
  {
   "cell_type": "markdown",
   "id": "d7f00422",
   "metadata": {},
   "source": [
    "#### 4. Python program to find N largest elements from a list"
   ]
  },
  {
   "cell_type": "code",
   "execution_count": 6,
   "id": "814665ec",
   "metadata": {},
   "outputs": [
    {
     "name": "stdout",
     "output_type": "stream",
     "text": [
      "[298, 900, 1000, 3579]\n"
     ]
    }
   ],
   "source": [
    "l = [1000,298,3579,100,200,-45,900]\n",
    "n = 4\n",
    "\n",
    "l.sort()\n",
    "print(l[-n:])"
   ]
  },
  {
   "cell_type": "markdown",
   "id": "5876fdb7",
   "metadata": {},
   "source": [
    "#### 5. Python program to print even numbers in a list. "
   ]
  },
  {
   "cell_type": "code",
   "execution_count": 7,
   "id": "6cfb32ad",
   "metadata": {},
   "outputs": [
    {
     "name": "stdout",
     "output_type": "stream",
     "text": [
      "2\n",
      "4\n",
      "6\n",
      "6\n",
      "78\n"
     ]
    }
   ],
   "source": [
    "list = [1,2,3,4,5,5,6,6,78,101]\n",
    "\n",
    "for x in list:\n",
    "    if x == 100:\n",
    "        print(x)\n",
    "        break;\n",
    "    elif x % 2 ==0:\n",
    "        print(x)"
   ]
  },
  {
   "cell_type": "markdown",
   "id": "39769a5e",
   "metadata": {},
   "source": [
    "#### 6. Python program to print odd numbers in a list."
   ]
  },
  {
   "cell_type": "code",
   "execution_count": 8,
   "id": "d7e89672",
   "metadata": {},
   "outputs": [
    {
     "name": "stdout",
     "output_type": "stream",
     "text": [
      "21 45 93 "
     ]
    }
   ],
   "source": [
    "list = [10,21,4,45,66,93]\n",
    "for num in list:\n",
    "    if num % 2 != 0:\n",
    "        print(num, end = \" \") "
   ]
  },
  {
   "cell_type": "markdown",
   "id": "f70c86ff",
   "metadata": {},
   "source": [
    "#### 7. Python program to print all even numbers in a range."
   ]
  },
  {
   "cell_type": "code",
   "execution_count": 9,
   "id": "f09457b0",
   "metadata": {},
   "outputs": [
    {
     "name": "stdout",
     "output_type": "stream",
     "text": [
      "enter the starting point0\n",
      "enter the ending point20\n",
      "resultant list= [0, 2, 4, 6, 8, 10, 12, 14, 16, 18, 20]\n"
     ]
    }
   ],
   "source": [
    "start = int(input(\"enter the starting point\"))\n",
    "end = int(input(\"enter the ending point\"))\n",
    "result = []\n",
    "def Even (n):\n",
    "    if(n%2==0):\n",
    "        result.append(n)\n",
    "        \n",
    "for i in range (start,end+1):\n",
    "    Even (i)\n",
    "    \n",
    "print(\"resultant list=\",result)"
   ]
  },
  {
   "cell_type": "markdown",
   "id": "adfe8c0c",
   "metadata": {},
   "source": [
    "#### 8. Python program to print all odd numbers in a range."
   ]
  },
  {
   "cell_type": "code",
   "execution_count": 10,
   "id": "65731944",
   "metadata": {},
   "outputs": [
    {
     "name": "stdout",
     "output_type": "stream",
     "text": [
      "enter the starting point1\n",
      "enter the ending point20\n",
      "resultant list= [1, 3, 5, 7, 9, 11, 13, 15, 17, 19]\n"
     ]
    }
   ],
   "source": [
    "start = int(input(\"enter the starting point\"))\n",
    "end = int(input(\"enter the ending point\"))\n",
    "result = []\n",
    "def Odd (n):\n",
    "    if(n%2!=0):\n",
    "        result.append(n)\n",
    "        \n",
    "for i in range (start,end+1):\n",
    "    Odd (i)\n",
    "    \n",
    "print(\"resultant list=\",result)"
   ]
  },
  {
   "cell_type": "markdown",
   "id": "8dc8a580",
   "metadata": {},
   "source": [
    "#### 9. Python program to print positive numbers in a list."
   ]
  },
  {
   "cell_type": "code",
   "execution_count": 11,
   "id": "bc02cdee",
   "metadata": {},
   "outputs": [
    {
     "name": "stdout",
     "output_type": "stream",
     "text": [
      "11 0 45 66 23 "
     ]
    }
   ],
   "source": [
    "list = [11,-21,0,45,66,-96,23,-1]\n",
    "for num in list:\n",
    "    if num>=0:\n",
    "        print(num, end = \" \")"
   ]
  },
  {
   "cell_type": "markdown",
   "id": "f3ed08cf",
   "metadata": {},
   "source": [
    "#### 10. Python program to print negative numbers in a list."
   ]
  },
  {
   "cell_type": "code",
   "execution_count": 12,
   "id": "dbaf2bd6",
   "metadata": {},
   "outputs": [
    {
     "name": "stdout",
     "output_type": "stream",
     "text": [
      "-11 -45 -64 -22 -11 "
     ]
    }
   ],
   "source": [
    "list = [-11,23,-45,23,-64,-22,-11,24]\n",
    "for num in list:\n",
    "    if num < 0:\n",
    "        print(num, end = \" \")"
   ]
  },
  {
   "cell_type": "markdown",
   "id": "2584335a",
   "metadata": {},
   "source": [
    "#### 11. Python program to print all positive numbers in a range."
   ]
  },
  {
   "cell_type": "code",
   "execution_count": 13,
   "id": "8e55b134",
   "metadata": {},
   "outputs": [
    {
     "name": "stdout",
     "output_type": "stream",
     "text": [
      "0 1 2 3 4 5 6 7 8 9 10 11 12 13 14 15 16 17 18 19 "
     ]
    }
   ],
   "source": [
    "start , end = -4, 19\n",
    "\n",
    "for num in range (start, end + 1):\n",
    "    if num >=0:\n",
    "        print(num, end = \" \")"
   ]
  }
 ],
 "metadata": {
  "kernelspec": {
   "display_name": "Python 3",
   "language": "python",
   "name": "python3"
  },
  "language_info": {
   "codemirror_mode": {
    "name": "ipython",
    "version": 3
   },
   "file_extension": ".py",
   "mimetype": "text/x-python",
   "name": "python",
   "nbconvert_exporter": "python",
   "pygments_lexer": "ipython3",
   "version": "3.8.8"
  }
 },
 "nbformat": 4,
 "nbformat_minor": 5
}
