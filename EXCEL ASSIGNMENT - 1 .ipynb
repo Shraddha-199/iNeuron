{
 "cells": [
  {
   "cell_type": "markdown",
   "id": "3763bac5",
   "metadata": {},
   "source": [
    "## EXCEL ASSIGNMENT - 1"
   ]
  },
  {
   "cell_type": "markdown",
   "id": "77139ef0",
   "metadata": {},
   "source": [
    "###### 1. What is Excel? Why do we use Excel?"
   ]
  },
  {
   "cell_type": "markdown",
   "id": "9457fe80",
   "metadata": {},
   "source": [
    "Excel is used for organizing, filtering, and visualizing large amounts of data. It is most often used in accounting, but can be used by virtually any professional to manage long and unwieldy datasets. Examples of Excel applications include balance sheets, budgets, editorial calendars, and data calculators."
   ]
  },
  {
   "cell_type": "markdown",
   "id": "2614df23",
   "metadata": {},
   "source": [
    "###### 2. List all the versions of Microsoft excel. Compare excel software provided from multiple vendors."
   ]
  },
  {
   "cell_type": "markdown",
   "id": "c92a5bad",
   "metadata": {},
   "source": [
    "versions of Microsoft excel: \n",
    "Excel 2.0 (1987)\n",
    "Excel 3.0 (1990)\n",
    "Excel 4.0 (1992)\n",
    "Excel 5.0 (1993)\n",
    "Excel 95 (v7.0)\n",
    "Excel 97 (v8.0)\n",
    "Excel 2000 (v9.0)\n",
    "Excel 2002 (v10.0)\n",
    "Excel 2003 (v11.0)\n",
    "Excel 2007 (v12.0)\n",
    "Excel 95 (v7.0)\n",
    "Excel 97 (v8.0)\n",
    "Excel 2000 (v9.0)\n",
    "Excel 2002 (v10.0)\n",
    "Excel 2003 (v11.0)\n",
    "Excel 2007 (v12.0)\n"
   ]
  },
  {
   "attachments": {},
   "cell_type": "markdown",
   "id": "33f81f54",
   "metadata": {},
   "source": [
    "###### 3. How to create bar charts in excel, demonstrated with practical examples."
   ]
  },
  {
   "cell_type": "markdown",
   "id": "0b02b496",
   "metadata": {},
   "source": [
    "Go to the “Insert” tab and move the cursor to the insert bar chart option. Under the 2D bar chart, select the stacked bar chart, as shown in the below-mentioned figure. The stacked bar chart will be displayed, as shown below. Add “Data Labels” to the data series in the plotted area."
   ]
  },
  {
   "cell_type": "markdown",
   "id": "043b34d5",
   "metadata": {},
   "source": [
    "###### 4. How to connect Excel with the databases."
   ]
  },
  {
   "cell_type": "markdown",
   "id": "1c7f4430",
   "metadata": {},
   "source": [
    "To connect Excel to a database in SQL Database, open Excel and then create a new workbook or open an existing Excel workbook. In the menu bar at the top of the page, select the Data tab, select Get Data, select From Azure, and then select From Azure SQL Database."
   ]
  }
 ],
 "metadata": {
  "kernelspec": {
   "display_name": "Python 3",
   "language": "python",
   "name": "python3"
  },
  "language_info": {
   "codemirror_mode": {
    "name": "ipython",
    "version": 3
   },
   "file_extension": ".py",
   "mimetype": "text/x-python",
   "name": "python",
   "nbconvert_exporter": "python",
   "pygments_lexer": "ipython3",
   "version": "3.8.8"
  }
 },
 "nbformat": 4,
 "nbformat_minor": 5
}
