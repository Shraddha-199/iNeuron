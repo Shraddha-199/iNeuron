{
 "cells": [
  {
   "cell_type": "markdown",
   "id": "507294b8",
   "metadata": {},
   "source": [
    "## SQL ASSIGNMENT - 07"
   ]
  },
  {
   "cell_type": "markdown",
   "id": "7b61d4a4",
   "metadata": {},
   "source": [
    "###### 1. Write an SQL query to show only odd rows from a table."
   ]
  },
  {
   "cell_type": "markdown",
   "id": "3a1e3f30",
   "metadata": {},
   "source": [
    "SELECT * FROM Worker WHERE MOD (WORKER_ID, 2) <> 0;"
   ]
  },
  {
   "cell_type": "markdown",
   "id": "a5d6acf2",
   "metadata": {},
   "source": [
    "###### 2. Write an SQL query to clone a new table from another table."
   ]
  },
  {
   "cell_type": "markdown",
   "id": "d6005371",
   "metadata": {},
   "source": [
    "SELECT * INTO WorkerClone FROM Worker;\n",
    "SELECT * INTO WorkerClone FROM Worker WHERE 1 = 0;\n",
    "CREATE TABLE WorkerClone LIKE Worker;"
   ]
  },
  {
   "cell_type": "code",
   "execution_count": null,
   "id": "3c007807",
   "metadata": {},
   "outputs": [],
   "source": []
  }
 ],
 "metadata": {
  "kernelspec": {
   "display_name": "Python 3",
   "language": "python",
   "name": "python3"
  },
  "language_info": {
   "codemirror_mode": {
    "name": "ipython",
    "version": 3
   },
   "file_extension": ".py",
   "mimetype": "text/x-python",
   "name": "python",
   "nbconvert_exporter": "python",
   "pygments_lexer": "ipython3",
   "version": "3.8.8"
  }
 },
 "nbformat": 4,
 "nbformat_minor": 5
}
