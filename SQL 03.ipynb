{
 "cells": [
  {
   "cell_type": "markdown",
   "id": "9c64dac9",
   "metadata": {},
   "source": [
    "## SQL ASSIGNMENT - 3"
   ]
  },
  {
   "cell_type": "markdown",
   "id": "d5e00fad",
   "metadata": {},
   "source": [
    "#### 2. How to inspect the query's execution plan? "
   ]
  },
  {
   "cell_type": "markdown",
   "id": "f82eba5b",
   "metadata": {},
   "source": [
    "Use SQL Server Profiler\n",
    "\n",
    "    Start SQL Server Profiler.\n",
    "    In the File menu, select New Trace.\n",
    "    In the Events Section tab, check Show all events.\n",
    "    Expand the Performance node.\n",
    "    Select Showplan XML.\n",
    "    Execute the query you want to see the query plan for.\n",
    "    Stop the trace. ...\n",
    "    Select the query plan in the grid."
   ]
  },
  {
   "cell_type": "markdown",
   "id": "56a89197",
   "metadata": {},
   "source": [
    "#### 3. What is the purpose of the MAXDOP and recompiling keywords in SQL queries?"
   ]
  },
  {
   "cell_type": "markdown",
   "id": "27a76e9d",
   "metadata": {},
   "source": [
    "The maximum degree of parallelism (MAXDOP) is a server configuration option for running SQL Server on multiple CPUs. It controls the number of processors used to run a single statement in parallel plan execution. The default value is 0, which enables SQL Server to use all available processors."
   ]
  },
  {
   "cell_type": "markdown",
   "id": "2539238e",
   "metadata": {},
   "source": [
    "#### 4. How to build DDL statements from an existing database table, write steps for it?"
   ]
  },
  {
   "cell_type": "markdown",
   "id": "b23c6296",
   "metadata": {},
   "source": [
    "To generate a DDL statement:\n",
    "\n",
    "    On the Workspace home page, click the SQL Workshop.\n",
    "    Click Utilities.\n",
    "    Click Generate DDL. The Generate DDL page appears.\n",
    "    Click Create Script. The Generate DDL Wizard appears.\n",
    "    Select a database schema and click Next.\n",
    "    Define the object type:\n",
    "    Click Generate DDL"
   ]
  },
  {
   "cell_type": "markdown",
   "id": "4173181c",
   "metadata": {},
   "source": [
    "#### 5. How to update data in a table using an inner join, write an example?"
   ]
  },
  {
   "cell_type": "markdown",
   "id": "28d12b21",
   "metadata": {},
   "source": [
    "    UPDATE table 1.\n",
    "    SET Col 2 = t2.Col2,\n",
    "    Col 3 = t2.Col3.\n",
    "    FROM table1 t1.\n",
    "    INNER JOIN table 2 t2 ON t1.Col1 = t2.col1.\n",
    "    WHERE t1.Col1 IN (21,31)"
   ]
  },
  {
   "cell_type": "markdown",
   "id": "acceed22",
   "metadata": {},
   "source": [
    "#### 6. Differentiate between truncate, delete, and drop with a suitable example."
   ]
  },
  {
   "cell_type": "markdown",
   "id": "69f78f6e",
   "metadata": {},
   "source": [
    "If a table is dropped, all things associated with the tables are dropped as well. This includes - the relationships defined on the table with other tables, the integrity checks and constraints, access privileges and other grants that the table has. To create and use the table again in its original form, all these relations, checks, constraints, privileges and relationships need to be redefined. However, if a table is truncated, none of the above problems exist and the table retains its original structure\n",
    "\n",
    "The TRUNCATE command is used to delete all the rows from the table and free the space containing the table.\n",
    "The DELETE command deletes only the rows from the table based on the condition given in the where clause or deletes all the rows from the table if no condition is specified. But it does not free the space containing the table"
   ]
  }
 ],
 "metadata": {
  "kernelspec": {
   "display_name": "Python 3",
   "language": "python",
   "name": "python3"
  },
  "language_info": {
   "codemirror_mode": {
    "name": "ipython",
    "version": 3
   },
   "file_extension": ".py",
   "mimetype": "text/x-python",
   "name": "python",
   "nbconvert_exporter": "python",
   "pygments_lexer": "ipython3",
   "version": "3.8.8"
  }
 },
 "nbformat": 4,
 "nbformat_minor": 5
}
