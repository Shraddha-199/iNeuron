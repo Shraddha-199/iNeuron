{
 "cells": [
  {
   "cell_type": "markdown",
   "id": "40f2574a",
   "metadata": {},
   "source": [
    "## SQL ASSIGNMENT - 04"
   ]
  },
  {
   "cell_type": "markdown",
   "id": "d0e29a2e",
   "metadata": {},
   "source": [
    "###### 1. Write an SQL query to print the FIRST_NAME from Worker table after replacing ‘a’with ‘A’."
   ]
  },
  {
   "cell_type": "markdown",
   "id": "32c877f3",
   "metadata": {},
   "source": [
    "Select REPLACE(FIRST_NAME,'a','A') from Worker;"
   ]
  },
  {
   "cell_type": "markdown",
   "id": "11a6e1b3",
   "metadata": {},
   "source": [
    "###### 2. Write an SQL query to print all Worker details from the Worker table order byFIRST_NAME Ascending and DEPARTMENT Descending."
   ]
  },
  {
   "cell_type": "markdown",
   "id": "62a93717",
   "metadata": {},
   "source": [
    "Select * from Worker order by FIRST_NAME asc,DEPARTMENT desc;"
   ]
  },
  {
   "cell_type": "markdown",
   "id": "be413a0b",
   "metadata": {},
   "source": [
    "###### 3. Write an SQL query to fetch the names of workers who earn the highest salary."
   ]
  },
  {
   "cell_type": "markdown",
   "id": "e0a9bf3f",
   "metadata": {},
   "source": [
    "SELECT FIRST_NAME, SALARY from Worker WHERE SALARY=(SELECT max(SALARY) from Worker);"
   ]
  }
 ],
 "metadata": {
  "kernelspec": {
   "display_name": "Python 3",
   "language": "python",
   "name": "python3"
  },
  "language_info": {
   "codemirror_mode": {
    "name": "ipython",
    "version": 3
   },
   "file_extension": ".py",
   "mimetype": "text/x-python",
   "name": "python",
   "nbconvert_exporter": "python",
   "pygments_lexer": "ipython3",
   "version": "3.8.8"
  }
 },
 "nbformat": 4,
 "nbformat_minor": 5
}
