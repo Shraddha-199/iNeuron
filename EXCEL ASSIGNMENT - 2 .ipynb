{
 "cells": [
  {
   "cell_type": "markdown",
   "id": "6486d13d",
   "metadata": {},
   "source": [
    "## EXCEL ASSIGNMENT - 2"
   ]
  },
  {
   "cell_type": "markdown",
   "id": "e101f5cc",
   "metadata": {},
   "source": [
    "###### 1. What is macro? Create a macro to store product detail."
   ]
  },
  {
   "cell_type": "markdown",
   "id": "beb8762d",
   "metadata": {},
   "source": [
    "A macro is an action or a set of actions that you can run as many times as you want. ... When you create a macro, you are recording your mouse clicks and keystrokes. After you create a macro, you can edit it to make minor changes to the way it works"
   ]
  },
  {
   "cell_type": "markdown",
   "id": "b77ac3b5",
   "metadata": {},
   "source": [
    "###### 2. Explain Excel formatting."
   ]
  },
  {
   "cell_type": "markdown",
   "id": "7518fa99",
   "metadata": {},
   "source": [
    "Formatting in Excel means a trick that we can use to modify the data's appearance in a worksheet. We can format the data in various ways, like we can format the font of the cells or the table with the help of the styles and format tab present in the Home tab."
   ]
  },
  {
   "cell_type": "markdown",
   "id": "0b4bd137",
   "metadata": {},
   "source": [
    "###### 3. Perform data analysis using Excel. List various functions available to perform data analysis in excel."
   ]
  },
  {
   "cell_type": "markdown",
   "id": "684a4bcb",
   "metadata": {},
   "source": [
    "Whether you dabble in Excel or use it heavily at your job, there is a function for everyone in this list.\n",
    "\n",
    "    CONCATENATE. =CONCATENATE is one of the easiest to learn but most powerful formulas when conducting data analysis. ...\n",
    "    LEN.\n",
    "    COUNTA.\n",
    "    DAYS/NETWORKDAYS.\n",
    "    SUMIFS.\n",
    "    AVERAGEIFS.\n",
    "    VLOOKUP.\n",
    "    FIND/SEARCH\n",
    "    IFERROR\n",
    "    COUNTIFS\n",
    "    LEFT/RIGHT\n",
    "    RANK\n",
    "    MINIFS\n",
    "    MAXIFS\n",
    "    SUMPRODUCT"
   ]
  },
  {
   "cell_type": "markdown",
   "id": "e657756f",
   "metadata": {},
   "source": [
    "###### 4. List down excel functions and their examples"
   ]
  },
  {
   "cell_type": "markdown",
   "id": "7fea6d0f",
   "metadata": {},
   "source": [
    "Function name\tType and description\n",
    "COUNTA function\tStatistical: Counts how many values are in the list of arguments\n",
    "COUNTBLANK function\tStatistical: Counts the number of blank cells within a range\n",
    "COUNTIF function\tStatistical: Counts the number of cells within a range that meet the given criteria\n",
    "ABS function    \n",
    "    Math and trigonometry:    Returns the absolute value of a number\n",
    "ACCRINT function\n",
    "\tFinancial:    Returns the accrued interest for a security that pays periodic interest\n",
    "ACCRINTM function\n",
    "\tFinancial:    Returns the accrued interest for a security that pays interest at maturity    \n",
    " DATEVALUE function\n",
    "\tDate and time:    Converts a date in the form of text to a serial number\n",
    "DAVERAGE function\n",
    "\tDatabase:    Returns the average of selected database entries\n",
    "DAY function\n",
    "\tDate and time:    Converts a serial number to a day of the month  "
   ]
  },
  {
   "cell_type": "markdown",
   "id": "1de1eed3",
   "metadata": {},
   "source": [
    "###### 5. How to add annotations to a cell in Excel. "
   ]
  },
  {
   "cell_type": "markdown",
   "id": "eb6ce2b3",
   "metadata": {},
   "source": [
    "Right-click the cell and then click Insert Comment (or press Shift+F2). If you're using Excel for Office 365, right-click the cell and choose New Note. Type your annotation text. Click outside the cell."
   ]
  },
  {
   "cell_type": "code",
   "execution_count": null,
   "id": "d5fee29c",
   "metadata": {},
   "outputs": [],
   "source": []
  }
 ],
 "metadata": {
  "kernelspec": {
   "display_name": "Python 3",
   "language": "python",
   "name": "python3"
  },
  "language_info": {
   "codemirror_mode": {
    "name": "ipython",
    "version": 3
   },
   "file_extension": ".py",
   "mimetype": "text/x-python",
   "name": "python",
   "nbconvert_exporter": "python",
   "pygments_lexer": "ipython3",
   "version": "3.8.8"
  }
 },
 "nbformat": 4,
 "nbformat_minor": 5
}
