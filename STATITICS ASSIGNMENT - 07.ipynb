{
 "cells": [
  {
   "cell_type": "markdown",
   "id": "6dd2dfe0",
   "metadata": {},
   "source": [
    "## STATITICS ASSIGNMENT - 07"
   ]
  },
  {
   "cell_type": "markdown",
   "id": "cbc8ed55",
   "metadata": {},
   "source": [
    "A spam filter is designed by looking at commonly occurring phrases in spam. Suppose that\n",
    "80% of email is spam. In 10% of the spam emails, the phrase “free money” is used, whereas\n",
    "this phrase is only used in 1% of non-spam emails. A new email has just arrived, which does\n",
    "mention “free money”. What is the probability that it is spam?"
   ]
  },
  {
   "cell_type": "code",
   "execution_count": null,
   "id": "a7ef121d",
   "metadata": {},
   "outputs": [],
   "source": [
    "A:The event email is spam\n",
    "\n",
    "B: The event of email has free memory space\n",
    "\n",
    "P(A|B) = P(B|A) * P(A)/P(B)\n",
    "\n",
    "0.1/0.8/(0.1*0.8)+(0.01*0.2)\n",
    "\n",
    " = 80/82"
   ]
  }
 ],
 "metadata": {
  "kernelspec": {
   "display_name": "Python 3",
   "language": "python",
   "name": "python3"
  },
  "language_info": {
   "codemirror_mode": {
    "name": "ipython",
    "version": 3
   },
   "file_extension": ".py",
   "mimetype": "text/x-python",
   "name": "python",
   "nbconvert_exporter": "python",
   "pygments_lexer": "ipython3",
   "version": "3.8.8"
  }
 },
 "nbformat": 4,
 "nbformat_minor": 5
}
