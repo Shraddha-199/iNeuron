{
 "cells": [
  {
   "cell_type": "markdown",
   "id": "82ce02f4",
   "metadata": {},
   "source": [
    "#### 1. Python Program for Topological Sorting."
   ]
  },
  {
   "cell_type": "code",
   "execution_count": 5,
   "id": "6aeab354",
   "metadata": {},
   "outputs": [
    {
     "name": "stdout",
     "output_type": "stream",
     "text": [
      "Following is a Topological Sort of the given graph\n",
      "[5, 5, 4, 4, 2, 3]\n"
     ]
    }
   ],
   "source": [
    "from collections import defaultdict\n",
    "class Graph:\n",
    "    def __init__(self,vertices):\n",
    "        self.graph = defaultdict(list)\n",
    "        self.V = vertices\n",
    "    def addEdge(self,u,v):\n",
    "        self.graph[u].append(v)\n",
    "    def topologicalSortUtil(self,v,visited,stack):\n",
    "        visited[v] = True\n",
    "        for i in self.graph[v]:\n",
    "            if visited[i] == False:\n",
    "                self.topologicalSortUtil(i,visited,stack)\n",
    "            stack.insert(0,v)\n",
    "    def topologicalSort(self):\n",
    "        visited = [False]*self.V\n",
    "        stack = []\n",
    "        for i in range(self.V):\n",
    "            if visited[i] == False:\n",
    "                self.topologicalSortUtil(i,visited,stack)\n",
    "        print (stack)\n",
    "g= Graph(6)\n",
    "g.addEdge(5,2);\n",
    "g.addEdge(5,0);\n",
    "g.addEdge(4,0);\n",
    "g.addEdge(4,1);\n",
    "g.addEdge(2,3);\n",
    "g.addEdge(3,1);\n",
    "print(\"Following is a Topological Sort of the given graph\")\n",
    "g.topologicalSort()"
   ]
  },
  {
   "cell_type": "markdown",
   "id": "06508f6e",
   "metadata": {},
   "source": [
    "#### 2. Python Program for Radix Sort."
   ]
  },
  {
   "cell_type": "code",
   "execution_count": 23,
   "id": "b7b5012c",
   "metadata": {},
   "outputs": [
    {
     "name": "stdout",
     "output_type": "stream",
     "text": [
      "The original array is:  [354, 954, 411, 9]\n",
      "The sorted array is:  [9, 354, 411, 954]\n"
     ]
    }
   ],
   "source": [
    "def counting_Sort(arr, p):\n",
    "    s = len(arr)\n",
    "    result = [0] * s\n",
    "    c = [0] * 10\n",
    "    \n",
    "    # count of elements\n",
    "    for i in range(0, s):\n",
    "        index = arr[i] // p\n",
    "        c[index % 10] += 1\n",
    "        \n",
    "    # cumulative count\n",
    "    for i in range(1, 10):\n",
    "        c[i] += c[i - 1]\n",
    "    i = s - 1\n",
    "    while i >= 0:\n",
    "        index = arr[i] // p  \n",
    "        result[c[index % 10] - 1] = arr[i]\n",
    "        c[index % 10] -= 1\n",
    "        i -= 1\n",
    "        \n",
    "    for i in range(0, s):\n",
    "        arr[i] = result[i]\n",
    "def radix_Sort(arr):\n",
    "    maximum = max(arr)\n",
    "\n",
    "    p = 1\n",
    "    while maximum // p > 0:\n",
    "        counting_Sort(arr, p)\n",
    "        p *= 10\n",
    "\n",
    "#driver code\n",
    "array = [354, 954, 411, 9]\n",
    "print(\"The original array is: \", array)\n",
    "radix_Sort(array)\n",
    "print(\"The sorted array is: \", array)"
   ]
  },
  {
   "cell_type": "markdown",
   "id": "af90472f",
   "metadata": {},
   "source": [
    "#### 3. Python Program for Binary Insertion Sort."
   ]
  },
  {
   "cell_type": "code",
   "execution_count": 9,
   "id": "de22e431",
   "metadata": {},
   "outputs": [
    {
     "name": "stdout",
     "output_type": "stream",
     "text": [
      "Sorted array is:\n",
      "1 3 3 4 4 5 6 8 "
     ]
    }
   ],
   "source": [
    "def insertion_sort(arr):\n",
    "    for i in range(1, len(arr)):\n",
    "        temp = arr[i]\n",
    "        pos = binary_search(arr, temp, 0, i) + 1\n",
    "        for k in range(i, pos, -1):\n",
    "            arr[k] = arr[k - 1]\n",
    "        arr[pos] = temp\n",
    "def binary_search(arr, key, start, end):\n",
    "    if end - start <= 1:\n",
    "        if key < arr[start]:\n",
    "            return start - 1\n",
    "        else:\n",
    "            return start\n",
    "    mid = (start + end)//2\n",
    "    if arr[mid] < key:\n",
    "        return binary_search(arr, key, mid, end)\n",
    "    elif arr[mid] > key:\n",
    "        return binary_search(arr, key, start, mid)\n",
    "    else:\n",
    "        return mid\n",
    "arr = [1,5,3,4,8,6,3,4]\n",
    "n = len(arr)\n",
    "insertion_sort(arr)\n",
    "print(\"Sorted array is:\")\n",
    "for i in range(n):\n",
    "    print(arr[i],end=\" \")"
   ]
  },
  {
   "cell_type": "markdown",
   "id": "2644679d",
   "metadata": {},
   "source": [
    "#### 4. Python Program for Bitonic Sort."
   ]
  },
  {
   "cell_type": "code",
   "execution_count": 22,
   "id": "f5d89e5a",
   "metadata": {},
   "outputs": [
    {
     "name": "stdout",
     "output_type": "stream",
     "text": [
      "The original array is: [2, 10, 20, 5, 3, 4]\n",
      "Sorted array is [2, 3, 4, 5, 10, 20]\n"
     ]
    }
   ],
   "source": [
    "def c_swap(a, b, c, d):\n",
    "    if (d == 1 and a[b] > a[c]) or (d == 0 and a[b] < a[c]):\n",
    "        a[b], a[c] = a[c], a[b]\n",
    "\n",
    "def merge(a, b, cnt, d):\n",
    "    if cnt > 1:\n",
    "        k = int(cnt / 2)\n",
    "        for i in range(b, b + k):\n",
    "            c_swap(a, i, i + k, d)\n",
    "        merge(a, b, k, d)\n",
    "        merge(a, b + k, k, d)\n",
    "def bitonic_sort(a, b, cnt, d):\n",
    "    if cnt > 1:\n",
    "        k = int(cnt / 2)\n",
    "        bitonic_sort(a, b, k, 1)\n",
    "        bitonic_sort(a, b + k, k, 0)\n",
    "        merge(a, b, cnt, d)\n",
    "def sort(a, B, u):\n",
    "    bitonic_sort(a, 0, B, u)\n",
    "\n",
    "# driver code   \n",
    "a = [2, 10, 20, 5, 3, 4]\n",
    "n=len(a)\n",
    "print(\"The original array is:\", a)    \n",
    "u = 1\n",
    "  \n",
    "sort(a, n, u)\n",
    "print(\"Sorted array is\", a)"
   ]
  },
  {
   "cell_type": "markdown",
   "id": "80b4f19e",
   "metadata": {},
   "source": [
    "#### 5. Python Program for Comb Sort."
   ]
  },
  {
   "cell_type": "code",
   "execution_count": 20,
   "id": "04089fd2",
   "metadata": {},
   "outputs": [
    {
     "name": "stdout",
     "output_type": "stream",
     "text": [
      "The original array is:  [3, 1, 2, 5, 4]\n",
      "The sorted array is:   [1, 2, 3, 4, 5]\n"
     ]
    }
   ],
   "source": [
    "def comb_sort(number):\n",
    "    dist = len(number)\n",
    "    swap = True\n",
    "    while dist > 1 or swap:\n",
    "        dist = max(1, int(dist / 1.25)) \n",
    "        swap = False\n",
    "        for a in range(len(number) - dist):\n",
    "            b = a+dist\n",
    "            if number[a] > number[b]:\n",
    "                number[a], number[b] = number[b], number[a]\n",
    "                swap = True\n",
    " \n",
    "array = [3, 1, 2, 5, 4]\n",
    "print(\"The original array is: \", array)\n",
    "comb_sort(array)\n",
    "print(\"The sorted array is:  \", array)"
   ]
  },
  {
   "cell_type": "markdown",
   "id": "b360d792",
   "metadata": {},
   "source": [
    "#### 6. Python Program for Pigeonhole Sort."
   ]
  },
  {
   "cell_type": "code",
   "execution_count": 15,
   "id": "f8801d73",
   "metadata": {},
   "outputs": [
    {
     "name": "stdout",
     "output_type": "stream",
     "text": [
      "The original array is:  [9, 7, 2, 3, 4, 8, 6]\n",
      "The Sorted order is :  2 3 4 6 7 8 9 "
     ]
    }
   ],
   "source": [
    "def pigeonhole_sort(a):\n",
    "    minimum = min(a)\n",
    "    maximum = max(a)\n",
    "    s = maximum - minimum + 1\n",
    "    h = [0] * s #holes\n",
    "    for x in a:\n",
    "        assert type(x) is int, \"integers only please\"\n",
    "        h[x - minimum] += 1\n",
    "    i = 0\n",
    "    for c in range(s):\n",
    "        while h[c] > 0:\n",
    "            h[c] -= 1\n",
    "            a[i] = c + minimum\n",
    "            i += 1\n",
    "array = [9, 7, 2, 3, 4, 8, 6]\n",
    "print(\"The original array is: \", array)\n",
    "print(\"The Sorted order is : \", end = ' ')\n",
    "pigeonhole_sort(array)      \n",
    "for i in range(0, len(array)):\n",
    "    print(array[i], end = ' ')"
   ]
  },
  {
   "cell_type": "markdown",
   "id": "667f3be2",
   "metadata": {},
   "source": [
    "#### 7. Python Program for Cocktail Sort."
   ]
  },
  {
   "cell_type": "code",
   "execution_count": 24,
   "id": "d541761a",
   "metadata": {},
   "outputs": [
    {
     "name": "stdout",
     "output_type": "stream",
     "text": [
      "Sorted array is:\n",
      "2 3 3 4 4 5 6 8 "
     ]
    }
   ],
   "source": [
    "def cocktailSort(a):\n",
    "    n = len(a)\n",
    "    flag = True\n",
    "    start = 0\n",
    "    end = n-1\n",
    "    while (flag==True):\n",
    "        flag = False\n",
    "        for i in range (start, end):\n",
    "            if (a[i] > a[i+1]) :\n",
    "                a[i], a[i+1]= a[i+1], a[i]\n",
    "                flag=True\n",
    "        if (flag==False):\n",
    "            break\n",
    "        flag = False\n",
    "        end = end-1\n",
    "        for i in range(end-1, start-1,-1):\n",
    "            if (a[i] > a[i+1]):\n",
    "                a[i], a[i+1] = a[i+1], a[i]\n",
    "                flag = True\n",
    "        start = start+1\n",
    "a = [2,5,4,3,8,3,4,6]\n",
    "cocktailSort(a)\n",
    "print(\"Sorted array is:\")\n",
    "for i in range(len(a)):\n",
    "    print (a[i],end=\" \")"
   ]
  },
  {
   "cell_type": "markdown",
   "id": "5e14ef71",
   "metadata": {},
   "source": [
    "#### 8. Python Program for Gnome Sort."
   ]
  },
  {
   "cell_type": "code",
   "execution_count": 25,
   "id": "8c67c53e",
   "metadata": {},
   "outputs": [
    {
     "name": "stdout",
     "output_type": "stream",
     "text": [
      "Sorted sequence is:\n",
      "1 4 2 3 6 5 8 7 "
     ]
    }
   ],
   "source": [
    "def gnomeSort( arr, n):\n",
    "    index = 0\n",
    "    while index < n:\n",
    "        if index == 0:\n",
    "            index = index + 1\n",
    "        if arr[index] >= arr[index - 1]:\n",
    "            index = index + 1\n",
    "        else:\n",
    "            arr[index], arr[index-1] = arr[index-1], arr[index]\n",
    "            index = index - 1\n",
    "        return arr\n",
    "arr = [1,4,2,3,6,5,8,7]\n",
    "n = len(arr)\n",
    "arr = gnomeSort(arr, n)\n",
    "print (\"Sorted sequence is:\")\n",
    "for i in arr:\n",
    "    print (i,end=\" \")"
   ]
  },
  {
   "cell_type": "markdown",
   "id": "40f8b681",
   "metadata": {},
   "source": [
    "#### 9. Python Program for Odd-Even Sort / Brick Sort."
   ]
  },
  {
   "cell_type": "code",
   "execution_count": 18,
   "id": "a6820945",
   "metadata": {},
   "outputs": [
    {
     "name": "stdout",
     "output_type": "stream",
     "text": [
      "The original array is:  [5, 7, 3, 1, 4, 6, 2]\n",
      "The sorted array is:  [1, 2, 3, 4, 5, 6, 7]\n"
     ]
    }
   ],
   "source": [
    "def brick_sort(array, a):\n",
    "    # Unsorted array\n",
    "    Sorted = 0\n",
    "    while Sorted == 0:\n",
    "        Sorted = 1\n",
    "        temp = 0\n",
    "        for i in range(1, a-1, 2):\n",
    "            if array[i] > array[i+1]:\n",
    "                array[i], array[i+1] = array[i+1], array[i]\n",
    "                Sorted = 0\n",
    "                  \n",
    "        for i in range(0, a-1, 2):\n",
    "            if array[i] > array[i+1]:\n",
    "                array[i], array[i+1] = array[i+1], array[i]\n",
    "                Sorted = 0\n",
    "    return\n",
    "array = [5, 7, 3, 1, 4, 6, 2]\n",
    "print(\"The original array is: \", array)\n",
    "a = len(array)\n",
    "  \n",
    "brick_sort(array, a);\n",
    "print(\"The sorted array is: \" ,array)"
   ]
  },
  {
   "cell_type": "markdown",
   "id": "cf6f4b73",
   "metadata": {},
   "source": [
    "#### 10. Python Program for BogoSort or Permutation Sort."
   ]
  },
  {
   "cell_type": "code",
   "execution_count": 19,
   "id": "b0856b90",
   "metadata": {},
   "outputs": [
    {
     "name": "stdout",
     "output_type": "stream",
     "text": [
      "The original array is:  [9, 8, 7, 6, 5, 4, 3, 2, 1]\n",
      "The Sorted array is : [1, 2, 3, 4, 5, 6, 7, 8, 9]\n"
     ]
    }
   ],
   "source": [
    "import random\n",
    "\n",
    "def bogo_sort(array):\n",
    "    a = len(array)\n",
    "    while (sort(array)== False):\n",
    "        permutation(array)\n",
    "\n",
    "def sort(array):\n",
    "    a = len(array)\n",
    "    for i in range(0, a-1):\n",
    "        if (array[i] > array[i+1] ):\n",
    "            return False\n",
    "    return True\n",
    "def permutation(array):\n",
    "    a = len(array)\n",
    "    for i in range (0,a):\n",
    "        p = random.randint(0,a-1)\n",
    "        array[i], array[p] = array[p], array[i]\n",
    "\n",
    "array = [9,8,7,6,5,4,3,2,1]\n",
    "print(\"The original array is: \", array)\n",
    "bogo_sort(array)\n",
    "print(\"The Sorted array is :\", array)"
   ]
  }
 ],
 "metadata": {
  "kernelspec": {
   "display_name": "Python 3",
   "language": "python",
   "name": "python3"
  },
  "language_info": {
   "codemirror_mode": {
    "name": "ipython",
    "version": 3
   },
   "file_extension": ".py",
   "mimetype": "text/x-python",
   "name": "python",
   "nbconvert_exporter": "python",
   "pygments_lexer": "ipython3",
   "version": "3.8.8"
  }
 },
 "nbformat": 4,
 "nbformat_minor": 5
}
