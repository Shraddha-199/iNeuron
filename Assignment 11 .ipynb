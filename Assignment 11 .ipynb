{
 "cells": [
  {
   "cell_type": "markdown",
   "id": "115dbf3f",
   "metadata": {},
   "source": [
    "#### 1.Python-Sort Dictionary key and values List."
   ]
  },
  {
   "cell_type": "code",
   "execution_count": 1,
   "id": "6bf75142",
   "metadata": {},
   "outputs": [
    {
     "name": "stdout",
     "output_type": "stream",
     "text": [
      "The original dictionary is : {'India': [1, 2, 3], 'is': [4, 5, 6], 'best': [7, 8, 9]}\n",
      "The sorted dictionary : {'India': [1, 2, 3], 'is': [4, 5, 6], 'best': [7, 8, 9]}\n"
     ]
    }
   ],
   "source": [
    "dict = {'India' : [1,2,3],\n",
    "       'is' : [4,5,6],\n",
    "       'best' : [7,8,9]}\n",
    "print(\"The original dictionary is : \" + str(dict))\n",
    "res = (dict)\n",
    "for key in sorted(dict):\n",
    "    res[key] = sorted(dict[key])\n",
    "print(\"The sorted dictionary : \" + str(res))"
   ]
  },
  {
   "cell_type": "markdown",
   "id": "9a620c78",
   "metadata": {},
   "source": [
    "#### 2. Handling missing keys in Python dictionaries."
   ]
  },
  {
   "cell_type": "code",
   "execution_count": 2,
   "id": "c7ce7bd2",
   "metadata": {},
   "outputs": [
    {
     "name": "stdout",
     "output_type": "stream",
     "text": [
      "2\n",
      "Not found\n"
     ]
    }
   ],
   "source": [
    "d = { 'a' : 1, 'b' : 2}\n",
    "print(d.get('b','Not found'))\n",
    "print(d.get('c', 'Not found'))"
   ]
  },
  {
   "cell_type": "markdown",
   "id": "d9eca62c",
   "metadata": {},
   "source": [
    "#### 3. Python dictionary with keys having multiple inputs."
   ]
  },
  {
   "cell_type": "code",
   "execution_count": 3,
   "id": "b4282466",
   "metadata": {},
   "outputs": [
    {
     "name": "stdout",
     "output_type": "stream",
     "text": [
      "{(10, 20, 30): 0, (5, 2, 4): 3}\n"
     ]
    }
   ],
   "source": [
    "import random as rn\n",
    "dict ={}\n",
    "x, y, z = 10, 20, 30\n",
    "dict[x, y, z] = x + y - z;\n",
    "x, y, z = 5, 2, 4\n",
    "dict[x, y, z] = x + y - z;\n",
    "print(dict)"
   ]
  },
  {
   "cell_type": "markdown",
   "id": "09fd9f87",
   "metadata": {},
   "source": [
    "#### 4. Print anagrams together in Python using List and Dictionary."
   ]
  },
  {
   "cell_type": "code",
   "execution_count": 4,
   "id": "ce62c0d9",
   "metadata": {},
   "outputs": [
    {
     "name": "stdout",
     "output_type": "stream",
     "text": [
      "cat act dog god tag \n"
     ]
    }
   ],
   "source": [
    "def allAnagram(input):\n",
    "    dict = {}\n",
    "    for strVal in input:\n",
    "        key = ''.join(sorted(strVal))\n",
    "        if key in dict.keys():\n",
    "            dict[key].append(strVal)\n",
    "        else:\n",
    "            dict[key] = []\n",
    "            dict[key].append(strVal)\n",
    "    output = \"\"\n",
    "    for key,value in dict.items():\n",
    "        output = output + ' '.join(value) + ' '\n",
    "        \n",
    "    return output\n",
    "if __name__ == \"__main__\":\n",
    "    input = ['cat', 'dog', 'god', 'act', 'tag']\n",
    "    print(allAnagram(input))"
   ]
  },
  {
   "cell_type": "markdown",
   "id": "2f577df8",
   "metadata": {},
   "source": [
    "#### 5. K'th Non-repeating Character in Python using List Comprehension and OrderedDict."
   ]
  },
  {
   "cell_type": "code",
   "execution_count": 5,
   "id": "8f20a874",
   "metadata": {},
   "outputs": [
    {
     "name": "stdout",
     "output_type": "stream",
     "text": [
      "w\n"
     ]
    }
   ],
   "source": [
    "from collections import OrderedDict\n",
    "def kthRepeating(input,k):\n",
    "    dict = OrderedDict.fromkeys(input,0)\n",
    "    for ch in input:\n",
    "        dict[ch] += 1\n",
    "    nonRepeatDict = [key for (key, value) in dict.items() if value == 1]\n",
    "    if len(nonRepeatDict) < k:\n",
    "        return 'Less than k non-Repeating characters in input.'\n",
    "    else:\n",
    "        return nonRepeatDict[k - 1]\n",
    "if __name__ == \"__main__\":\n",
    "    input = \"hello world\"\n",
    "    k = 4\n",
    "    print(kthRepeating(input,k))"
   ]
  },
  {
   "cell_type": "markdown",
   "id": "5251f05e",
   "metadata": {},
   "source": [
    "#### 6. Check if binary representations of two numbers are anagram."
   ]
  },
  {
   "cell_type": "code",
   "execution_count": 6,
   "id": "4bb36d3f",
   "metadata": {},
   "outputs": [
    {
     "name": "stdout",
     "output_type": "stream",
     "text": [
      "1\n"
     ]
    }
   ],
   "source": [
    "SIZE = 8\n",
    "def bit_anagram_check(a, b):\n",
    "    global size\n",
    "    \n",
    "    i = 0\n",
    "    binary_a = [0] * SIZE\n",
    "    while (a > 0):\n",
    "        binary_a[i] = a % 2\n",
    "        a //= 2\n",
    "        i += 1\n",
    "    j = 0\n",
    "    binary_b = [0] * SIZE\n",
    "    while (b > 0):\n",
    "        binary_b[j] = b % 2\n",
    "        b //= 2\n",
    "        j += 1\n",
    "        \n",
    "    binary_a.sort()\n",
    "    binary_a.sort()\n",
    "    for i in range(SIZE):\n",
    "        if (binary_a[i] != binary_b[i]):\n",
    "            return 0\n",
    "        return 1\n",
    "if __name__ == \"__main__\":\n",
    "    a = 10\n",
    "    b = 20\n",
    "    print(bit_anagram_check(a,b))"
   ]
  },
  {
   "cell_type": "markdown",
   "id": "60849a1d",
   "metadata": {},
   "source": [
    "#### 7. Python counter to find the size of largest subset of anagram words."
   ]
  },
  {
   "cell_type": "code",
   "execution_count": 7,
   "id": "ca32dc7f",
   "metadata": {},
   "outputs": [
    {
     "name": "stdout",
     "output_type": "stream",
     "text": [
      "1\n"
     ]
    }
   ],
   "source": [
    "from collections import Counter\n",
    "def maxAnagramSize(input):\n",
    "    input = input.split(\" \")\n",
    "    for i in range(0,len(input)):\n",
    "        input[i] = ''.join(sorted(input[i]))\n",
    "    freqDict = Counter(input)\n",
    "    print(max(freqDict.values()))\n",
    "if __name__ == \"__main__\":\n",
    "    input = 'Hello world, I am from India'\n",
    "    maxAnagramSize(input)"
   ]
  },
  {
   "cell_type": "markdown",
   "id": "ca4e83ba",
   "metadata": {},
   "source": [
    "#### 8. Python | Remove all duplicates words from a given sentence."
   ]
  },
  {
   "cell_type": "code",
   "execution_count": 8,
   "id": "d15fffb6",
   "metadata": {},
   "outputs": [
    {
     "name": "stdout",
     "output_type": "stream",
     "text": [
      "I love dog and cat too\n"
     ]
    }
   ],
   "source": [
    "from collections import Counter\n",
    "def remov_duplicates(input):\n",
    "    input = input.split(\" \")\n",
    "    for i in range(0, len(input)):\n",
    "        input[i] = \"\".join(input[i])\n",
    "    UniqW = Counter(input)\n",
    "    s = \" \".join(UniqW.keys())\n",
    "    print(s)\n",
    "if __name__ == \"__main__\":\n",
    "    input = 'I love dog and I love cat too'\n",
    "    remov_duplicates(input)"
   ]
  },
  {
   "cell_type": "markdown",
   "id": "70ec2ebf",
   "metadata": {},
   "source": [
    "#### 9. Python Dictionary to find mirror characters in a string."
   ]
  },
  {
   "cell_type": "code",
   "execution_count": 1,
   "id": "fb28b26f",
   "metadata": {},
   "outputs": [
    {
     "name": "stdout",
     "output_type": "stream",
     "text": [
      "woiow\n"
     ]
    }
   ],
   "source": [
    "def mirrorChars(input,k):\n",
    "    original = 'abcdefghijklmnopqrstuvwxyz'\n",
    "    reverse = 'zyxwvutsrqponmlkjihgfedcba'\n",
    "    dictChars = (dict)(zip(original,reverse))\n",
    "    prefix = input[0:k-1]\n",
    "    suffix = input[k-1:]\n",
    "    mirror = ''\n",
    "    for i in range(0,len(suffix)):\n",
    "        mirror = mirror + dictChars[suffix[i]]\n",
    "    print(prefix+mirror)\n",
    "if __name__ == \"__main__\":\n",
    "    input = 'world'\n",
    "    k = 3\n",
    "    mirrorChars(input,k)"
   ]
  },
  {
   "cell_type": "markdown",
   "id": "d5bdca60",
   "metadata": {},
   "source": [
    "#### 10. Counting the frequencies in a list using dictionary in Python."
   ]
  },
  {
   "cell_type": "code",
   "execution_count": 2,
   "id": "544bec91",
   "metadata": {},
   "outputs": [
    {
     "name": "stdout",
     "output_type": "stream",
     "text": [
      "1 :  5\n",
      "5 :  2\n",
      "3 :  3\n",
      "4 :  3\n",
      "2 :  4\n"
     ]
    }
   ],
   "source": [
    "def CountFrequency(list):\n",
    "    freq = {}\n",
    "    for item in list:\n",
    "        if (item in freq):\n",
    "            freq[item] += 1\n",
    "        else:\n",
    "            freq[item] = 1\n",
    "    for key, value in freq.items():\n",
    "        print(\"%d : % d\"%(key, value))\n",
    "if __name__ == \"__main__\":\n",
    "    list = [1,1,1,5,5,3,1,3,3,1,4,4,4,2,2,2,2]\n",
    "    CountFrequency(list)\n"
   ]
  }
 ],
 "metadata": {
  "kernelspec": {
   "display_name": "Python 3",
   "language": "python",
   "name": "python3"
  },
  "language_info": {
   "codemirror_mode": {
    "name": "ipython",
    "version": 3
   },
   "file_extension": ".py",
   "mimetype": "text/x-python",
   "name": "python",
   "nbconvert_exporter": "python",
   "pygments_lexer": "ipython3",
   "version": "3.8.8"
  }
 },
 "nbformat": 4,
 "nbformat_minor": 5
}
