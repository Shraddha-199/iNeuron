{
 "cells": [
  {
   "cell_type": "markdown",
   "id": "0cabbb24",
   "metadata": {},
   "source": [
    "#### 1. Python | Ways to remove a key from dictionary."
   ]
  },
  {
   "cell_type": "code",
   "execution_count": 1,
   "id": "2c0006d0",
   "metadata": {},
   "outputs": [
    {
     "name": "stdout",
     "output_type": "stream",
     "text": [
      "The dictionary before performing remove is : {'Arushi': 22, 'Anuradha': 21, 'Mahi': 21, 'Haritha': 21}\n",
      "The dictionary after performing remove is : {'Arushi': 22, 'Anuradha': 21, 'Haritha': 21}\n"
     ]
    }
   ],
   "source": [
    "dict = {\"Arushi\" : 22, \"Anuradha\" : 21, \"Mahi\" : 21, \"Haritha\" : 21}\n",
    "print(\"The dictionary before performing remove is : \" + str(dict))\n",
    "del dict['Mahi']\n",
    "print(\"The dictionary after performing remove is : \" + str(dict))"
   ]
  },
  {
   "cell_type": "markdown",
   "id": "1e036ec0",
   "metadata": {},
   "source": [
    "#### 2. Ways to sort listof dictionaries by values in Python-Using itemgetter."
   ]
  },
  {
   "cell_type": "code",
   "execution_count": 2,
   "id": "29d01dcf",
   "metadata": {},
   "outputs": [
    {
     "name": "stdout",
     "output_type": "stream",
     "text": [
      "The list printed sorting by age:\n",
      "[{'name': 'Nikhil', 'age': 19}, {'name': 'Nandini', 'age': 20}, {'name': 'Manjeet', 'age': 20}]\n",
      "\r\n",
      "The list printed sorting by age and name:\n",
      "[{'name': 'Nikhil', 'age': 19}, {'name': 'Manjeet', 'age': 20}, {'name': 'Nandini', 'age': 20}]\n",
      "\r\n",
      "The list printed sorting by age in desceding order:\n",
      "[{'name': 'Nandini', 'age': 20}, {'name': 'Manjeet', 'age': 20}, {'name': 'Nikhil', 'age': 19}]\n"
     ]
    }
   ],
   "source": [
    "from operator import itemgetter\n",
    "lis = [{\"name\" : \"Nandini\", \"age\" : 20},\n",
    "{\"name\" : \"Manjeet\", \"age\" : 20},\n",
    "{\"name\" : \"Nikhil\", \"age\" : 19}]\n",
    "print (\"The list printed sorting by age:\")\n",
    "print (sorted(lis, key=itemgetter('age')))\n",
    "print(\"\\r\")\n",
    "print (\"The list printed sorting by age and name:\")\n",
    "print (sorted(lis, key=itemgetter('age', 'name')))\n",
    "print(\"\\r\")\n",
    "print (\"The list printed sorting by age in desceding order:\")\n",
    "print (sorted(lis, key=itemgetter('age'),reverse = True))"
   ]
  },
  {
   "cell_type": "markdown",
   "id": "6513357d",
   "metadata": {},
   "source": [
    "\n",
    "#### 3. Ways to sort listof dictionaries by values in Python-Using lambda function."
   ]
  },
  {
   "cell_type": "code",
   "execution_count": 3,
   "id": "2f47be3a",
   "metadata": {},
   "outputs": [
    {
     "name": "stdout",
     "output_type": "stream",
     "text": [
      "The list printed sorting by age:\n",
      "[{'name': 'Nikhil', 'age': 19}, {'name': 'Nandini', 'age': 20}, {'name': 'Manjeet', 'age': 20}]\n",
      "\r\n",
      "The list printed sorting by age and name:\n",
      "[{'name': 'Nikhil', 'age': 19}, {'name': 'Manjeet', 'age': 20}, {'name': 'Nandini', 'age': 20}]\n",
      "\r\n",
      "The list printed sorting by age in descending order:\n",
      "[{'name': 'Nandini', 'age': 20}, {'name': 'Manjeet', 'age': 20}, {'name': 'Nikhil', 'age': 19}]\n"
     ]
    }
   ],
   "source": [
    "lis = [{\"name\" : \"Nandini\", \"age\" : 20},\n",
    "{\"name\" : \"Manjeet\", \"age\" : 20},\n",
    "{\"name\" : \"Nikhil\", \"age\" : 19}]\n",
    "print (\"The list printed sorting by age:\")\n",
    "print (sorted(lis, key=lambda i: i['age']))\n",
    "print(\"\\r\")\n",
    "print (\"The list printed sorting by age and name:\")\n",
    "print (sorted(lis, key=lambda i: (i['age'], i['name'])))\n",
    "print(\"\\r\")\n",
    "print (\"The list printed sorting by age in descending order:\")\n",
    "print (sorted(lis, key=lambda i: i['age'],reverse=True))"
   ]
  },
  {
   "cell_type": "markdown",
   "id": "4ea14f62",
   "metadata": {},
   "source": [
    "#### 4. Python | Merging two dictinaries."
   ]
  },
  {
   "cell_type": "code",
   "execution_count": 4,
   "id": "cefd6c6e",
   "metadata": {},
   "outputs": [
    {
     "name": "stdout",
     "output_type": "stream",
     "text": [
      "None\n",
      "{'c': 6, 'd': 4, 'a': 10, 'b': 8}\n"
     ]
    }
   ],
   "source": [
    "def Merge(dict1, dict2):\n",
    "    return(dict2.update(dict1))\n",
    "dict1 = {'a': 10, 'b': 8}\n",
    "dict2 = {'c': 6,'d': 4}\n",
    "print(Merge(dict1, dict2))\n",
    "print(dict2)"
   ]
  },
  {
   "cell_type": "markdown",
   "id": "8c1decf1",
   "metadata": {},
   "source": [
    "#### 5. Python-Convert key values list to flat dictionary."
   ]
  },
  {
   "cell_type": "code",
   "execution_count": 8,
   "id": "6895ad4a",
   "metadata": {},
   "outputs": [
    {
     "name": "stdout",
     "output_type": "stream",
     "text": [
      "The original dictionary is : <class 'dict'>\n",
      "Flattened dictinary : <zip object at 0x000001328008E8C0>\n"
     ]
    }
   ],
   "source": [
    "from itertools import product\n",
    "test_dict = {'month' : [1,2,3],\n",
    "       'name' : ['Jan', 'Feb', 'March']}\n",
    "print(\"The original dictionary is : \" + str(dict))\n",
    "res = (zip(dict(), test_dict['name']))\n",
    "print(\"Flattened dictinary : \" + str(res))"
   ]
  },
  {
   "cell_type": "markdown",
   "id": "753434ae",
   "metadata": {},
   "source": [
    "#### 6. Python-Insertion at the begining in OrderedDict."
   ]
  },
  {
   "cell_type": "code",
   "execution_count": 8,
   "id": "748d78da",
   "metadata": {},
   "outputs": [
    {
     "name": "stdout",
     "output_type": "stream",
     "text": [
      "Resultant Dictionary : OrderedDict([('akshat', '1'), ('nikhil', '2'), ('manjeet', '3')])\n"
     ]
    }
   ],
   "source": [
    "from collections import OrderedDict\n",
    "iniordered_dict = OrderedDict([('akshat','1'),('nikhil','2')])\n",
    "iniordered_dict.update({'manjeet':'3'})\n",
    "print(\"Resultant Dictionary : \" + str(iniordered_dict))"
   ]
  },
  {
   "cell_type": "markdown",
   "id": "96a9c4ee",
   "metadata": {},
   "source": [
    "#### 7. Python | Check order of character in string using OrderedDict ()."
   ]
  },
  {
   "cell_type": "code",
   "execution_count": 9,
   "id": "74fee519",
   "metadata": {},
   "outputs": [
    {
     "name": "stdout",
     "output_type": "stream",
     "text": [
      "true\n"
     ]
    }
   ],
   "source": [
    "from collections import OrderedDict\n",
    "def checkOrder(input,pattern):\n",
    "    dict = OrderedDict.fromkeys(input)\n",
    "    ptrlen = 0\n",
    "    for key,value in dict.items():\n",
    "        if(key == pattern[ptrlen]):\n",
    "            ptrlen = ptrlen + 1\n",
    "        if(ptrlen == (len(pattern))):\n",
    "            return 'true'\n",
    "    return 'false'\n",
    "if __name__ == '__main__':\n",
    "    input = 'engineers rock'\n",
    "    pattern = 'egr'\n",
    "    print (checkOrder(input,pattern))"
   ]
  },
  {
   "cell_type": "markdown",
   "id": "4339767a",
   "metadata": {},
   "source": [
    "#### 8. Dictionary and counter in Python to find winner of election."
   ]
  },
  {
   "cell_type": "code",
   "execution_count": 10,
   "id": "763ba4e4",
   "metadata": {},
   "outputs": [
    {
     "name": "stdout",
     "output_type": "stream",
     "text": [
      "john\n"
     ]
    }
   ],
   "source": [
    "from collections import Counter\n",
    "def winner(input):\n",
    "    votes = Counter(input)\n",
    "    dict = {}\n",
    "    for value in votes.values():\n",
    "        dict[value] = []\n",
    "    for (key,value) in votes.items():\n",
    "        dict[value].append(key)\n",
    "    maxVote = sorted(dict.keys(),reverse=True)[0]\n",
    "    if len(dict[maxVote])>1:\n",
    "        print (sorted(dict[maxVote])[0])\n",
    "    else:\n",
    "        print(dict[maxVote][0])\n",
    "if __name__ == '__main__':\n",
    "    input = ['john','johnny','jackie','johnny',\n",
    "            'john','jackie','jamie','jamie',\n",
    "            'john','johnny','jamie','johnny',\n",
    "            'john']\n",
    "    winner(input)"
   ]
  },
  {
   "cell_type": "markdown",
   "id": "3f31a33f",
   "metadata": {},
   "source": [
    "#### 9. Python-Append dictionary keys and values ( In order ) in dictionary."
   ]
  },
  {
   "cell_type": "code",
   "execution_count": 11,
   "id": "4f759b20",
   "metadata": {},
   "outputs": [
    {
     "name": "stdout",
     "output_type": "stream",
     "text": [
      "The originl dictionary is : {'India': 1, 'is': 3, 'Best': 2}\n",
      "The ordered keys and values : ['India', 'is', 'Best', 1, 3, 2]\n"
     ]
    }
   ],
   "source": [
    "dict = {\"India\" : 1, \"is\" : 3, \"Best\" : 2}\n",
    "print(\"The originl dictionary is : \" + str(dict))\n",
    "res = list(dict.keys()) + list(dict.values())\n",
    "print(\"The ordered keys and values : \" + str(res))"
   ]
  },
  {
   "cell_type": "markdown",
   "id": "c9083740",
   "metadata": {},
   "source": [
    "#### 10. Python | Sort Python Dictionaries by key or value."
   ]
  },
  {
   "cell_type": "code",
   "execution_count": 12,
   "id": "447541a5",
   "metadata": {},
   "outputs": [
    {
     "name": "stdout",
     "output_type": "stream",
     "text": [
      "Task 1:-\n",
      "\n",
      "keys are\n",
      "1 2 3 4 5 6 "
     ]
    }
   ],
   "source": [
    "def dictionairy():\n",
    "    key_value = {}\n",
    "    key_value[2] = 56\n",
    "    key_value[1] = 2\n",
    "    key_value[5] = 12\n",
    "    key_value[4] = 24\n",
    "    key_value[6] = 18\n",
    "    key_value[3] = 323\n",
    "    print (\"Task 1:-\\n\")\n",
    "    print(\"keys are\")\n",
    "    for i in sorted (key_value.keys()):\n",
    "        print(i, end = \" \")\n",
    "def main():\n",
    "        dictionairy()\n",
    "if __name__ == '__main__':\n",
    "    main ()"
   ]
  }
 ],
 "metadata": {
  "kernelspec": {
   "display_name": "Python 3",
   "language": "python",
   "name": "python3"
  },
  "language_info": {
   "codemirror_mode": {
    "name": "ipython",
    "version": 3
   },
   "file_extension": ".py",
   "mimetype": "text/x-python",
   "name": "python",
   "nbconvert_exporter": "python",
   "pygments_lexer": "ipython3",
   "version": "3.8.8"
  }
 },
 "nbformat": 4,
 "nbformat_minor": 5
}
