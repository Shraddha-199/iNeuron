{
 "cells": [
  {
   "cell_type": "markdown",
   "id": "5bdd6e2a",
   "metadata": {},
   "source": [
    "#### 1. Python-Join Tuples if simplar initial elements."
   ]
  },
  {
   "cell_type": "code",
   "execution_count": 1,
   "id": "7bdfd01d",
   "metadata": {},
   "outputs": [
    {
     "name": "stdout",
     "output_type": "stream",
     "text": [
      "The original list is : <class 'list'>\n",
      "The extracted elements : [(5, 6, 7), (6, 8, 10), (7, 13)]\n"
     ]
    }
   ],
   "source": [
    "test_list = [(5,6), (5,7), (6,8), (6,10), (7,13)]\n",
    "print(\"The original list is : \" + str(test_list))\n",
    "res = []\n",
    "for sub in test_list:\n",
    "    if res and res[-1][0] == sub[0]:\n",
    "        res[-1].extend(sub[1:])\n",
    "    else:\n",
    "        res.append([ele for ele in sub])\n",
    "res = list(map(tuple, res))\n",
    "print(\"The extracted elements : \" + str(res))"
   ]
  },
  {
   "cell_type": "markdown",
   "id": "d88761b8",
   "metadata": {},
   "source": [
    "#### 2. Python-Extract digits from Tuples list."
   ]
  },
  {
   "cell_type": "code",
   "execution_count": 3,
   "id": "033d938f",
   "metadata": {},
   "outputs": [
    {
     "name": "stdout",
     "output_type": "stream",
     "text": [
      "The original list is : [(5, 6), (5, 7), (6, 8), (6, 10), (7, 13)]\n",
      "The extracted digits : {'1', '5', '7', '3', '0', '6', '8'}\n"
     ]
    }
   ],
   "source": [
    "from itertools import chain\n",
    "test_list = [(5,6), (5,7), (6,8), (6,10), (7,13)]\n",
    "print(\"The original list is : \" + str(test_list))\n",
    "temp = map(lambda ele: str(ele), chain.from_iterable(test_list))\n",
    "res = set()\n",
    "for sub in temp:\n",
    "    for ele in sub:\n",
    "        res.add(ele)\n",
    "print(\"The extracted digits : \" + str(res))"
   ]
  },
  {
   "cell_type": "markdown",
   "id": "5796590a",
   "metadata": {},
   "source": [
    "#### 3. Python-All pair combination of 2 Tuples."
   ]
  },
  {
   "cell_type": "code",
   "execution_count": 4,
   "id": "c4492f8b",
   "metadata": {},
   "outputs": [
    {
     "name": "stdout",
     "output_type": "stream",
     "text": [
      "The original tuple 1 : (4, 5)\n",
      "The original tuple 2 : (7, 8)\n",
      "The original tuple : [(4, 7), (4, 8), (5, 7), (5, 8), (7, 4), (7, 5), (8, 4), (8, 5)]\n"
     ]
    }
   ],
   "source": [
    "test_t1 = (4,5)\n",
    "test_t2 = (7,8)\n",
    "print(\"The original tuple 1 : \" + str(test_t1))\n",
    "print(\"The original tuple 2 : \" + str(test_t2))\n",
    "res = [(a,b) for a in test_t1 for b in test_t2]\n",
    "res = res + [(a, b) for a in test_t2 for b in test_t1]\n",
    "print(\"The original tuple : \" + str(res))"
   ]
  },
  {
   "cell_type": "markdown",
   "id": "d8355cc2",
   "metadata": {},
   "source": [
    "#### 4. Python-Remove Tuples of length K."
   ]
  },
  {
   "cell_type": "code",
   "execution_count": 6,
   "id": "30a2a928",
   "metadata": {},
   "outputs": [
    {
     "name": "stdout",
     "output_type": "stream",
     "text": [
      "The original list : [(4, 5), (4,), (8, 6, 7), (1,), (3, 4, 6, 7)]\n",
      "Filtered list : [(4, 5), (8, 6, 7), (3, 4, 6, 7)]\n"
     ]
    }
   ],
   "source": [
    "test_list = [(4,5), (4, ), (8,6,7), (1, ), (3,4,6,7)]\n",
    "print(\"The original list : \" + str(test_list))\n",
    "K = 1\n",
    "res = [ele for ele in test_list if len(ele) != K]\n",
    "print('Filtered list : ' + str(res))"
   ]
  },
  {
   "cell_type": "markdown",
   "id": "ca4d3846",
   "metadata": {},
   "source": [
    "#### 5. Sort a list tuples by second item."
   ]
  },
  {
   "cell_type": "code",
   "execution_count": 8,
   "id": "5b923bf4",
   "metadata": {},
   "outputs": [
    {
     "name": "stdout",
     "output_type": "stream",
     "text": [
      "[('love', 2), ('i', 3), ('cat', 14)]\n"
     ]
    }
   ],
   "source": [
    "def Sort_Tuple(tup):\n",
    "    lst = len(tup)\n",
    "    for i in range(0,lst):\n",
    "        for j in range(0, lst-i-1):\n",
    "            if (tup[j][1] > tup[j + 1][1]):\n",
    "                temp = tup[j]\n",
    "                tup[j] = tup[j + 1]\n",
    "                tup[j + 1] = temp\n",
    "    return tup\n",
    "tup = [('i',3), ('love',2),('cat', 14)]\n",
    "print(Sort_Tuple(tup))"
   ]
  },
  {
   "cell_type": "markdown",
   "id": "932cb63c",
   "metadata": {},
   "source": [
    "#### 6. Python program to Order Tuples using external List."
   ]
  },
  {
   "cell_type": "code",
   "execution_count": 10,
   "id": "47430c4a",
   "metadata": {},
   "outputs": [
    {
     "name": "stdout",
     "output_type": "stream",
     "text": [
      "The list of tuple is : \n",
      "[('i', 3), ('love', 2), ('cat', 14)]\n",
      "The ordered list is : \n",
      "['i', 'love', 'cat']\n",
      "The ordered tuple list is : \n",
      "[('i', 3), ('love', 2), ('cat', 14)]\n"
     ]
    }
   ],
   "source": [
    "my_list = [('i',3), ('love',2),('cat', 14)]\n",
    "print(\"The list of tuple is : \")\n",
    "print(my_list)\n",
    "ordered_list = ['i','love','cat']\n",
    "print(\"The ordered list is : \")\n",
    "print(ordered_list)\n",
    "temp = dict(my_list)\n",
    "my_result = [(key, temp[key]) for key in ordered_list]\n",
    "print(\"The ordered tuple list is : \")\n",
    "print(my_result)"
   ]
  },
  {
   "cell_type": "markdown",
   "id": "99f37bda",
   "metadata": {},
   "source": [
    "#### 7. Python-Flatten tuple of list to tuple."
   ]
  },
  {
   "cell_type": "code",
   "execution_count": 11,
   "id": "efd7d171",
   "metadata": {},
   "outputs": [
    {
     "name": "stdout",
     "output_type": "stream",
     "text": [
      "The original tuple : ([5, 6], [6, 7, 8, 9], [3])\n",
      "The original tuple : (5, 6, 6, 7, 8, 9, 3)\n"
     ]
    }
   ],
   "source": [
    "test_tuple = ([5,6], [6,7,8,9], [3])\n",
    "print(\"The original tuple : \" + str(test_tuple))\n",
    "res = tuple(sum(test_tuple, []))\n",
    "print(\"The original tuple : \" + str(res))"
   ]
  },
  {
   "cell_type": "markdown",
   "id": "da10abc4",
   "metadata": {},
   "source": [
    "#### 8. Python-Convert Nested Tuple to Custom key Dictionary."
   ]
  },
  {
   "cell_type": "code",
   "execution_count": 12,
   "id": "73156204",
   "metadata": {},
   "outputs": [
    {
     "name": "stdout",
     "output_type": "stream",
     "text": [
      "The original tuple : ((2, 'i', 1), (3, 'like', 4), (5, 'cat', 6))\n",
      "The converted dictionry : [{'key': 2, 'value': 'i', 'id': 1}, {'key': 3, 'value': 'like', 'id': 4}, {'key': 5, 'value': 'cat', 'id': 6}]\n"
     ]
    }
   ],
   "source": [
    "test_tuple = ((2, 'i', 1), (3, 'like', 4), (5, 'cat', 6))\n",
    "print(\"The original tuple : \" + str(test_tuple))\n",
    "res = [{'key' : sub[0], 'value' : sub[1], 'id' : sub[2]}\n",
    "      for sub in test_tuple]\n",
    "print(\"The converted dictionry : \" + str(res))"
   ]
  },
  {
   "cell_type": "markdown",
   "id": "36597df6",
   "metadata": {},
   "source": [
    "#### 9. Python program for Binary Search (Recursive and iterative)"
   ]
  },
  {
   "cell_type": "code",
   "execution_count": 14,
   "id": "2c162046",
   "metadata": {},
   "outputs": [
    {
     "name": "stdout",
     "output_type": "stream",
     "text": [
      "Element is not present in array\n"
     ]
    }
   ],
   "source": [
    "def binary_search(arr, low, high, x):\n",
    "    if high >= low:\n",
    "        mid = (high + low) // 2\n",
    "        if arr[mid] == x:\n",
    "            return mid\n",
    "        elif arr[mid] > x:\n",
    "            return binary_search(arr, low, mid-1, x)\n",
    "        else:\n",
    "            return binary_search(arr, high, mid+1, x)\n",
    "    else:\n",
    "        return -1\n",
    "arr = [2,3,4,10,20]\n",
    "x = 10\n",
    "result = binary_search(arr, 0, len(arr)-1, x)\n",
    "if result != -1:\n",
    "    print(\"Element is present at index\", str(result))\n",
    "else:\n",
    "    print(\"Element is not present in array\")"
   ]
  },
  {
   "cell_type": "markdown",
   "id": "c170e474",
   "metadata": {},
   "source": [
    "#### 10. Python program for linear search."
   ]
  },
  {
   "cell_type": "code",
   "execution_count": 17,
   "id": "7fce3fb5",
   "metadata": {},
   "outputs": [
    {
     "name": "stdout",
     "output_type": "stream",
     "text": [
      "element found at index4\n"
     ]
    }
   ],
   "source": [
    "def linearsearch(arr, x):\n",
    "    for i in range(len(arr)):\n",
    "        if arr[i] ==x:\n",
    "            return i\n",
    "    return -1\n",
    "arr = ['h', 'e', 'l','l','o']\n",
    "x = 'o'\n",
    "print(\"element found at index\" + str(linearsearch(arr,x)))"
   ]
  },
  {
   "cell_type": "markdown",
   "id": "92929553",
   "metadata": {},
   "source": [
    "#### 11. Python program for Insection sort."
   ]
  },
  {
   "cell_type": "code",
   "execution_count": 18,
   "id": "68d44ac3",
   "metadata": {},
   "outputs": [
    {
     "name": "stdout",
     "output_type": "stream",
     "text": [
      "Sorted array is : \n",
      "2\n",
      "3\n",
      "10\n",
      "20\n",
      "30\n"
     ]
    }
   ],
   "source": [
    "def insertionSort(arr):\n",
    "    for i in range(1, len(arr)):\n",
    "        key = arr[i]\n",
    "        j = i-1\n",
    "        while j >= 0 and key < arr[j]:\n",
    "            arr[j+1] = arr[j]\n",
    "            j -= 1\n",
    "        arr[j+1] = key\n",
    "arr = [10,20,30,2,3]\n",
    "insertionSort(arr)\n",
    "print(\"Sorted array is : \")\n",
    "for i in range(len(arr)):\n",
    "    print(\"%d\" %arr[i])"
   ]
  }
 ],
 "metadata": {
  "kernelspec": {
   "display_name": "Python 3",
   "language": "python",
   "name": "python3"
  },
  "language_info": {
   "codemirror_mode": {
    "name": "ipython",
    "version": 3
   },
   "file_extension": ".py",
   "mimetype": "text/x-python",
   "name": "python",
   "nbconvert_exporter": "python",
   "pygments_lexer": "ipython3",
   "version": "3.8.8"
  }
 },
 "nbformat": 4,
 "nbformat_minor": 5
}
