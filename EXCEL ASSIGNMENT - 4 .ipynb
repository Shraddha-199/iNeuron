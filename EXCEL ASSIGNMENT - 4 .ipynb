{
 "cells": [
  {
   "cell_type": "markdown",
   "id": "4739076f",
   "metadata": {},
   "source": [
    "## EXCEL ASSIGNMENT - 4"
   ]
  },
  {
   "cell_type": "markdown",
   "id": "0479b817",
   "metadata": {},
   "source": [
    "###### 1.  What is the benefit of Microsoft 365?"
   ]
  },
  {
   "cell_type": "markdown",
   "id": "75d30361",
   "metadata": {},
   "source": [
    "The 7 Key Benefits of Using Office 365 for Business\n",
    "\n",
    "    Access Files Anywhere. Office 365 allows your organisation to store all the files in the cloud. \n",
    "    Secure Cloud Storage. \n",
    "    Improved Communication. \n",
    "    Predictable spend. \n",
    "    Business Continuity. \n",
    "    Automatic upgrades. \n",
    "    Centralised Collaboration. \n",
    "    Find out more."
   ]
  },
  {
   "cell_type": "markdown",
   "id": "cb0e89f4",
   "metadata": {},
   "source": [
    "###### 2. Use two datasets and perform join on specific columns."
   ]
  },
  {
   "cell_type": "markdown",
   "id": "bc380f19",
   "metadata": {},
   "source": [
    "We can join columns from two Dataframes using the merge() function. This is similar to the SQL 'join' functionality. A detailed discussion of different join types is given in the SQL lesson."
   ]
  },
  {
   "cell_type": "markdown",
   "id": "328d4788",
   "metadata": {},
   "source": [
    "###### 3. How to perform string formatting in excel. Demonstrate it with examples"
   ]
  },
  {
   "cell_type": "markdown",
   "id": "20bf49f9",
   "metadata": {},
   "source": [
    "Formatting the Numbers in an Excel Text String\n",
    "\n",
    "    Right-click any cell and select Format Cell.\n",
    "    On the Number format tab, select the formatting you need.\n",
    "    Select Custom from the Category list on the left of the Number Format dialog box.\n",
    "    Copy the syntax found in the Type input box."
   ]
  }
 ],
 "metadata": {
  "kernelspec": {
   "display_name": "Python 3",
   "language": "python",
   "name": "python3"
  },
  "language_info": {
   "codemirror_mode": {
    "name": "ipython",
    "version": 3
   },
   "file_extension": ".py",
   "mimetype": "text/x-python",
   "name": "python",
   "nbconvert_exporter": "python",
   "pygments_lexer": "ipython3",
   "version": "3.8.8"
  }
 },
 "nbformat": 4,
 "nbformat_minor": 5
}
