{
 "cells": [
  {
   "cell_type": "markdown",
   "id": "d5beeef3",
   "metadata": {},
   "source": [
    "#### 1. Python Program for Cycle Sort."
   ]
  },
  {
   "cell_type": "code",
   "execution_count": null,
   "id": "da88cef5",
   "metadata": {},
   "outputs": [
    {
     "name": "stdout",
     "output_type": "stream",
     "text": [
      "The original array is: [2, 4, 5, 1, 3]\n"
     ]
    }
   ],
   "source": [
    "def cycle_Sort(array):\n",
    "    write = 0\n",
    "    for cycle in range(0, len(array) - 1):\n",
    "        ele = array[cycle]\n",
    "        position = cycle\n",
    "        for i in range(cycle + 1, len(array)):\n",
    "            if array[i] < ele:\n",
    "                position += 1\n",
    "        if position == cycle:\n",
    "            continue\n",
    "        while ele == array[position]:\n",
    "            position += 1\n",
    "        array[position], ele = ele, array[position]\n",
    "        write += 1\n",
    "        while position != cycle:\n",
    "            position = cycle\n",
    "            for a in range(cycle + 1, len(array)):\n",
    "                if array[a] < ele:\n",
    "                    position += 1\n",
    "            while ele == array[position]:\n",
    "                position += 1\n",
    "                array[position], ele = ele, array[position]\n",
    "                write += 1\n",
    "        return write\n",
    "array = [2, 4, 5, 1, 3]\n",
    "print(\"The original array is:\", array)\n",
    "n = len(array)\n",
    "cycle_Sort(array)\n",
    "print(\"The sorted array is: \",array)"
   ]
  },
  {
   "cell_type": "markdown",
   "id": "4192a9a8",
   "metadata": {},
   "source": [
    "#### 2. Python Program for Stooge Sort."
   ]
  },
  {
   "cell_type": "code",
   "execution_count": 1,
   "id": "5324f6ee",
   "metadata": {},
   "outputs": [
    {
     "name": "stdout",
     "output_type": "stream",
     "text": [
      "The original array is: [2, 4, 5, 3, 1]\n",
      "The sorted array is: [1, 2, 3, 4, 5]\n"
     ]
    }
   ],
   "source": [
    "def stooge_sort(array, length, a):\n",
    "    if length >= a:\n",
    "        return\n",
    "    if array[length]>array[a]:\n",
    "        b = array[length]\n",
    "        array[length] = array[a]\n",
    "        array[a] = b\n",
    "    if a-length+1 > 2:\n",
    "        b = (int)((a-length+1)/3)\n",
    "        stooge_sort(array, length, (a-b))\n",
    "        stooge_sort(array, length+b, (a))\n",
    "        stooge_sort(array, length, (a-b))\n",
    "array = [2, 4, 5, 3, 1]\n",
    "print(\"The original array is:\", array)\n",
    "l = len(array)\n",
    "stooge_sort(array, 0, l-1)\n",
    "print(\"The sorted array is:\", array)"
   ]
  },
  {
   "cell_type": "markdown",
   "id": "6d8ef99c",
   "metadata": {},
   "source": [
    "#### 3. Python Program to print the patter 'G'."
   ]
  },
  {
   "cell_type": "code",
   "execution_count": 2,
   "id": "b9250196",
   "metadata": {},
   "outputs": [
    {
     "name": "stdout",
     "output_type": "stream",
     "text": [
      "The pattern G has been shown below : \n",
      "  \n",
      "\n"
     ]
    }
   ],
   "source": [
    "def display_pattern(my_line):\n",
    "    my_pattern = \" \"\n",
    "    for i in range(0,my_line):\n",
    "        for j in range(0,my_line):\n",
    "            if ((j == 1 and i != my_line-1) or ((i == 0 or i == my_line-1 ) and j > 1 and j < my_line-2) or (i == ((my_line-1)/2) and j < my_line-1) or (j ==my_line-2 and i != my_line-1 and i >=((my_line-1)/2))):\n",
    "                my_pattern=my_pattern+\"*\"\n",
    "            else:\n",
    "                my_pattern=my_pattern+\" \"\n",
    "            my_pattern=my_pattern+\"\\n\"\n",
    "            return my_pattern\n",
    "num_line = 8\n",
    "print(\"The pattern G has been shown below : \")\n",
    "print(display_pattern(num_line))"
   ]
  },
  {
   "cell_type": "markdown",
   "id": "361e8a6d",
   "metadata": {},
   "source": [
    "#### 4. Python Program to print an Inverted Star Pattern."
   ]
  },
  {
   "cell_type": "code",
   "execution_count": 12,
   "id": "1f4bc1a2",
   "metadata": {},
   "outputs": [
    {
     "name": "stdout",
     "output_type": "stream",
     "text": [
      "enter the number of row: 14\n",
      "* * * * * * * * * * * * * *  \n",
      "* * * * * * * * * * * * *  \n",
      "* * * * * * * * * * * *  \n",
      "* * * * * * * * * * *  \n",
      "* * * * * * * * * *  \n",
      "* * * * * * * * *  \n",
      "* * * * * * * *  \n",
      "* * * * * * *  \n",
      "* * * * * *  \n",
      "* * * * *  \n",
      "* * * *  \n",
      "* * *  \n",
      "* *  \n",
      "*  \n",
      " \n"
     ]
    }
   ],
   "source": [
    "row = int(input(\"enter the number of row: \"))\n",
    "for a in range(row + 1, 0, -1):\n",
    "    for b in range(0, a - 1):\n",
    "        print(\"*\", end=' ')\n",
    "    print(\" \")"
   ]
  },
  {
   "cell_type": "markdown",
   "id": "1fc1a474",
   "metadata": {},
   "source": [
    "#### 5. Python Program to print double sided stair-case pattern."
   ]
  },
  {
   "cell_type": "code",
   "execution_count": 13,
   "id": "a0143811",
   "metadata": {},
   "outputs": [
    {
     "name": "stdout",
     "output_type": "stream",
     "text": [
      "please enter the size : 11\n",
      "          *   * \n",
      "          *   * \n",
      "          *   * \n",
      "          *   * \n",
      "          *   * \n",
      "          *   * \n",
      "          *   * \n",
      "          *   * \n",
      "          *   * \n",
      "          *   * \n",
      "          *   * \n"
     ]
    }
   ],
   "source": [
    "def pattern(n):\n",
    "    for i in range(1,n+1):\n",
    "        c =a + 1 if(a % 2 != 0)else a\n",
    "        for b in range(c,n):\n",
    "            if b>=c:\n",
    "                print(end=\" \")\n",
    "        for d in range(0,c):\n",
    "            if d == c - 1:\n",
    "                print(\" * \")\n",
    "            else:\n",
    "                print(\" * \", end = \" \")\n",
    "n = int(input(\"please enter the size : \"))\n",
    "if n<10:\n",
    "    print(\"enter range above 10\")\n",
    "else:\n",
    "    pattern(n)"
   ]
  },
  {
   "cell_type": "markdown",
   "id": "e6c84820",
   "metadata": {},
   "source": [
    "#### 6. Python Program to print with your own font."
   ]
  },
  {
   "cell_type": "code",
   "execution_count": 6,
   "id": "1e4167ec",
   "metadata": {},
   "outputs": [
    {
     "name": "stdout",
     "output_type": "stream",
     "text": [
      "Enter the name to print: hello\n",
      "..#....#..\n",
      "..#....#..\n",
      "..######.. \n",
      "..#....#..\n",
      "..#....#..\n",
      "\n",
      "..######..\n",
      "..#.......\n",
      "..#####... \n",
      "..#.......\n",
      "..######..\n",
      "\n",
      "..#.......\n",
      "..#.......\n",
      "..#....... \n",
      "..#.......\n",
      "..######..\n",
      "\n",
      "..#.......\n",
      "..#.......\n",
      "..#....... \n",
      "..#.......\n",
      "..######..\n",
      "\n",
      "..######..\n",
      "..#....#..\n",
      "..#....#.. \n",
      "..#....#..\n",
      "..######..\n",
      "\n"
     ]
    }
   ],
   "source": [
    "n = input(\"Enter the name to print: \")\n",
    "length = len(n)\n",
    "l = \"\"\n",
    "name = \"Hello\"\n",
    "for a in range(0, length):\n",
    "    b= name[a]\n",
    "    b = b.upper()\n",
    "\n",
    "    if (b == \"A\"):\n",
    "        print(\"..######..\\n..#....#..\\n..######..\", end = \" \")\n",
    "        print(\"\\n..#....#..\\n..#....#..\\n\")\n",
    "\n",
    "    elif (b == \"B\"):\n",
    "        print(\"..######..\\n..#....#..\\n..#####...\", end = \" \")\n",
    "        print(\"\\n..#....#..\\n..######..\\n\")\n",
    "\n",
    "    elif (b == \"C\"):\n",
    "        print(\"..######..\\n..#.......\\n..#.......\", end = \" \")\n",
    "        print(\"\\n..#.......\\n..######..\\n\")\n",
    "\n",
    "    elif (b == \"D\"):\n",
    "        print(\"..#####...\\n..#....#..\\n..#....#..\", end = \" \")\n",
    "        print(\"\\n..#....#..\\n..#####...\\n\")\n",
    "            \n",
    "    elif (b == \"E\"):\n",
    "        print(\"..######..\\n..#.......\\n..#####...\", end = \" \")\n",
    "        print(\"\\n..#.......\\n..######..\\n\")\n",
    "\n",
    "    elif (b == \"F\"):\n",
    "        print(\"..######..\\n..#.......\\n..#####...\", end = \" \")\n",
    "        print(\"\\n..#.......\\n..#.......\\n\")\n",
    "\n",
    "    elif (b == \"G\"):\n",
    "        print(\"..######..\\n..#.......\\n..#.####..\", end = \" \")\n",
    "        print(\"\\n..#....#..\\n..#####...\\n\")\n",
    "    \n",
    "    elif (b == \"H\"):\n",
    "        print(\"..#....#..\\n..#....#..\\n..######..\", end = \" \")\n",
    "        print(\"\\n..#....#..\\n..#....#..\\n\")\n",
    "        \n",
    "    elif (b == \"I\"):\n",
    "        print(\"..######..\\n....##....\\n....##....\", end = \" \")\n",
    "        print(\"\\n....##....\\n..######..\\n\")\n",
    "        \n",
    "    elif (b == \"J\"):\n",
    "        print(\"..######..\\n....##....\\n....##....\", end = \" \")\n",
    "        print(\"\\n..#.##....\\n..####....\\n\")\n",
    "        \n",
    "    elif (b == \"K\"):\n",
    "        print(\"..#...#...\\n..#..#....\\n..##......\", end = \" \")\n",
    "        print(\"\\n..#..#....\\n..#...#...\\n\")\n",
    "        \n",
    "    elif (b == \"L\"):\n",
    "        print(\"..#.......\\n..#.......\\n..#.......\", end = \" \")\n",
    "        print(\"\\n..#.......\\n..######..\\n\")\n",
    "        \n",
    "    elif (b == \"M\"):\n",
    "        print(\"..#....#..\\n..##..##..\\n..#.##.#..\", end = \" \")\n",
    "        print(\"\\n..#....#..\\n..#....#..\\n\")\n",
    "    \n",
    "    elif (b == \"N\"):\n",
    "        print(\"..#....#..\\n..##...#..\\n..#.#..#..\", end = \" \")\n",
    "        print(\"\\n..#..#.#..\\n..#...##..\\n\")\n",
    "        \n",
    "    elif (b == \"O\"):\n",
    "        print(\"..######..\\n..#....#..\\n..#....#..\", end = \" \")\n",
    "        print(\"\\n..#....#..\\n..######..\\n\")\n",
    "        \n",
    "    elif (b == \"P\"):\n",
    "        print(\"..######..\\n..#....#..\\n..######..\", end = \" \")\n",
    "        print(\"\\n..#.......\\n..#.......\\n\")\n",
    "        \n",
    "    elif (b == \"Q\"):\n",
    "        print(\"..######..\\n..#....#..\\n..#.#..#..\", end = \" \")\n",
    "        print(\"\\n..#..#.#..\\n..######..\\n\")\n",
    "        \n",
    "    elif (b == \"R\"):\n",
    "        print(\"..######..\\n..#....#..\\n..#.##...\", end = \" \")\n",
    "        print(\"\\n..#...#...\\n..#....#..\\n\")\n",
    "        \n",
    "    elif (b == \"S\"):\n",
    "        print(\"..######..\\n..#.......\\n..######..\", end = \" \")\n",
    "        print(\"\\n.......#..\\n..######..\\n\")\n",
    "        \n",
    "    elif (b == \"T\"):\n",
    "        print(\"..######..\\n....##....\\n....##....\", end = \" \")\n",
    "        print(\"\\n....##....\\n....##....\\n\")\n",
    "        \n",
    "    elif (b == \"U\"):\n",
    "        print(\"..#....#..\\n..#....#..\\n..#....#..\", end = \" \")\n",
    "        print(\"\\n..#....#..\\n..######..\\n\")\n",
    "        \n",
    "    elif (b == \"V\"):\n",
    "        print(\"..#....#..\\n..#....#..\\n..#....#..\", end = \" \")\n",
    "        print(\"\\n...#..#...\\n....##....\\n\")\n",
    "        \n",
    "    elif (b == \"W\"):\n",
    "        print(\"..#....#..\\n..#....#..\\n..#.##.#..\", end = \" \")\n",
    "        print(\"\\n..##..##..\\n..#....#..\\n\")\n",
    "        \n",
    "    elif (b == \"X\"):\n",
    "        print(\"..#....#..\\n...#..#...\\n....##....\", end = \" \")\n",
    "        print(\"\\n...#..#...\\n..#....#..\\n\")\n",
    "        \n",
    "    elif (b == \"Y\"):\n",
    "        print(\"..#....#..\\n...#..#...\\n....##....\", end = \" \")\n",
    "        print(\"\\n....##....\\n....##....\\n\")\n",
    "        \n",
    "    elif (b == \"Z\"):\n",
    "        print(\"..######..\\n......#...\\n.....#....\", end = \" \")\n",
    "        print(\"\\n....#.....\\n..######..\\n\")\n",
    "        \n",
    "    elif (b == \" \"):\n",
    "        print(\"..........\\n..........\\n..........\", end = \" \")\n",
    "        print(\"\\n..........\\n\\n\")\n",
    "        \n",
    "    elif (b == \".\"):\n",
    "        print(\"----..----\\n\\n\")"
   ]
  },
  {
   "cell_type": "markdown",
   "id": "097aa18d",
   "metadata": {},
   "source": [
    "#### 7. Get Current Date and Time using Python."
   ]
  },
  {
   "cell_type": "code",
   "execution_count": 14,
   "id": "aa533f1d",
   "metadata": {},
   "outputs": [
    {
     "name": "stdout",
     "output_type": "stream",
     "text": [
      "Time now at greenwich meridian is : 2021-12-25 20:28:01.490436\n"
     ]
    }
   ],
   "source": [
    "import datetime\n",
    "current_time = datetime.datetime.now()\n",
    "print(\"Time now at greenwich meridian is : \"\n",
    "     , end = \"\")\n",
    "print(current_time)"
   ]
  },
  {
   "cell_type": "markdown",
   "id": "74a19b57",
   "metadata": {},
   "source": [
    "#### 8. Python | Find yesterday's, today's and tomorrow's date."
   ]
  },
  {
   "cell_type": "code",
   "execution_count": 15,
   "id": "106bcc8c",
   "metadata": {},
   "outputs": [
    {
     "name": "stdout",
     "output_type": "stream",
     "text": [
      "Yesterday =  24-12-2021\n",
      "Today =  25-12-2021\n",
      "Tomorrow =   26-12-2021\n"
     ]
    }
   ],
   "source": [
    "from datetime import datetime, timedelta\n",
    "presentday = datetime.now()\n",
    "yesterday = presentday - timedelta(1)\n",
    "tomorrow = presentday + timedelta(1)\n",
    "print(\"Yesterday = \", yesterday.strftime('%d-%m-%Y' ))\n",
    "print(\"Today = \", presentday.strftime('%d-%m-%Y' ))\n",
    "print(\"Tomorrow =  \", tomorrow.strftime('%d-%m-%Y' ))"
   ]
  },
  {
   "cell_type": "markdown",
   "id": "b150d94e",
   "metadata": {},
   "source": [
    "#### 9. Python Program to covert time from 12 hour to 24 hour format."
   ]
  },
  {
   "cell_type": "code",
   "execution_count": 23,
   "id": "87ca052e",
   "metadata": {},
   "outputs": [
    {
     "name": "stdout",
     "output_type": "stream",
     "text": [
      "Conversion of Time :: 32:29:44\n"
     ]
    }
   ],
   "source": [
    "import datetime\n",
    "def timeconvert(str1):\n",
    "    if str1[-2:] == \"AM\" and str1[:2] == \"12\":\n",
    "        return \"00\" + str1[2:-2]\n",
    "    elif str1[-2:] == \"AM\":\n",
    "        return str1[:-2]\n",
    "    elif str1[-2:] == \"PM\" and str1[:2] == \"12\":\n",
    "        return str1[:-2]\n",
    "    else:\n",
    "        return str(int(str1[:2]) + 12) + str1[2:8]\n",
    "dt = datetime.datetime.now()\n",
    "print(\"Conversion of Time ::\", timeconvert(dt.strftime(\"%H:%M:%S\")))"
   ]
  }
 ],
 "metadata": {
  "kernelspec": {
   "display_name": "Python 3",
   "language": "python",
   "name": "python3"
  },
  "language_info": {
   "codemirror_mode": {
    "name": "ipython",
    "version": 3
   },
   "file_extension": ".py",
   "mimetype": "text/x-python",
   "name": "python",
   "nbconvert_exporter": "python",
   "pygments_lexer": "ipython3",
   "version": "3.8.8"
  }
 },
 "nbformat": 4,
 "nbformat_minor": 5
}
