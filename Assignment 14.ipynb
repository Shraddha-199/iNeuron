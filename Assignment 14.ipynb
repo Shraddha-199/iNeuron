{
 "cells": [
  {
   "cell_type": "markdown",
   "id": "cfec53c0",
   "metadata": {},
   "source": [
    "#### 1. Python Program for Recursive Insertion Sort."
   ]
  },
  {
   "cell_type": "code",
   "execution_count": 2,
   "id": "4167a5e5",
   "metadata": {},
   "outputs": [
    {
     "name": "stdout",
     "output_type": "stream",
     "text": [
      "Sorted array is : \n",
      "3 3 3 3 4 2 2 2 "
     ]
    }
   ],
   "source": [
    "def insertionSortRecursive(arr,n):\n",
    "    if n <= 1:\n",
    "        return\n",
    "    insertionSortRecursive(arr,n-1)\n",
    "    last = arr[n-1]\n",
    "    j = n-2\n",
    "    while (j>=0 and arr[j]>last):\n",
    "        arr[j+1] = arr[j]\n",
    "        j = j-1\n",
    "    arr[j-1] = last\n",
    "arr = [1,2,3,4,1,2,6,5]\n",
    "n = len(arr)\n",
    "insertionSortRecursive(arr,n)\n",
    "print(\"Sorted array is : \")\n",
    "for i in range(n):\n",
    "    print(arr[i],end=\" \")"
   ]
  },
  {
   "cell_type": "markdown",
   "id": "86b87426",
   "metadata": {},
   "source": [
    "#### 2. Python Program for QuickSort. "
   ]
  },
  {
   "cell_type": "code",
   "execution_count": 4,
   "id": "be0d6dff",
   "metadata": {},
   "outputs": [
    {
     "name": "stdout",
     "output_type": "stream",
     "text": [
      "Sorted array is : \n",
      "3 5 10 4 11 23 "
     ]
    }
   ],
   "source": [
    "def partition(arr, low, high):\n",
    "    i = (low-1)\n",
    "    pivot = arr[high]\n",
    "    for j in range(low, high):\n",
    "        if arr[j] <= pivot:\n",
    "            i = i+1\n",
    "            arr[i], arr[j] = arr[j], arr[i]\n",
    "        arr[i+1], arr[high] = arr[high], arr[i+1]\n",
    "        return (i+1)\n",
    "def quickSort(arr,low,high):\n",
    "    if len(arr) == 1:\n",
    "        return arr\n",
    "    if low < high:\n",
    "        pi = partition(arr, low, high)\n",
    "        quickSort(arr, low, pi-1)\n",
    "        quickSort(arr, pi+1, high)\n",
    "arr = [10,5,4,23,11,3]\n",
    "n =len(arr)\n",
    "quickSort(arr, 0, n-1)\n",
    "print(\"Sorted array is : \")\n",
    "for i in range(n):\n",
    "    print(arr[i],end=\" \")"
   ]
  },
  {
   "cell_type": "markdown",
   "id": "9ec790fa",
   "metadata": {},
   "source": [
    "#### 3. Python Program for Iterative Quick Sort. "
   ]
  },
  {
   "cell_type": "code",
   "execution_count": 3,
   "id": "1d235dd7",
   "metadata": {},
   "outputs": [
    {
     "name": "stdout",
     "output_type": "stream",
     "text": [
      "Sorted array is : \n",
      "3\n",
      "3\n",
      "4\n",
      "2\n",
      "5\n",
      "1\n",
      "2\n",
      "3\n"
     ]
    }
   ],
   "source": [
    "def partition(arr, low, high):\n",
    "    i = (low-1)\n",
    "    x = arr[high]\n",
    "    for j in range(low, high):\n",
    "        if arr[j] <= x:\n",
    "            i = i+1\n",
    "            arr[i], arr[j] = arr[j], arr[i]\n",
    "        arr[i+1], arr[high] = arr[high], arr[i+1]\n",
    "        return (i+1)\n",
    "def quickSortIterative(arr,low,high):\n",
    "    size = high - low +1\n",
    "    stack = [0] * (size)\n",
    "    top = -1\n",
    "    top = top + 1\n",
    "    stack[top] = low\n",
    "    top = top + 1\n",
    "    stack[top] = high\n",
    "    while top >= 0:\n",
    "        high = stack[top]\n",
    "        top = top - 1\n",
    "        low = stack[top]\n",
    "        top = top - 1\n",
    "        p = partition(arr, low, high)\n",
    "        if p-1 > low:\n",
    "            top = top + 1\n",
    "            stack[top] = low\n",
    "            top = top + 1\n",
    "            stack[top] = p - 1\n",
    "        if p+1 < high:\n",
    "            top = top + 1\n",
    "            stack[top] = p + 1\n",
    "            top = top + 1\n",
    "            stack[top] = high\n",
    "arr = [4,3,5,2,1,3,2,3]\n",
    "n = len(arr)\n",
    "quickSortIterative(arr, 0, n-1)\n",
    "print(\"Sorted array is : \")\n",
    "for i in range(n):\n",
    "    print(\"%d\" %arr[i])"
   ]
  },
  {
   "cell_type": "markdown",
   "id": "74d463a6",
   "metadata": {},
   "source": [
    "#### 4. Python Program for Selection Sort."
   ]
  },
  {
   "cell_type": "code",
   "execution_count": 6,
   "id": "4bc3fdd9",
   "metadata": {},
   "outputs": [
    {
     "name": "stdout",
     "output_type": "stream",
     "text": [
      "h\n",
      "e\n",
      "l\n",
      "l\n",
      "o\n"
     ]
    }
   ],
   "source": [
    "a = ['h','e','l','l','o']\n",
    "for i in range(len(a)):\n",
    "    min_=i\n",
    "    for j in range(i+1,len(a)):\n",
    "        if a[min_] > a[j]:\n",
    "            min_ = j\n",
    "a[i], a[min_] = a[min_], a[i]\n",
    "for i in range(len(a)):\n",
    "    print(a[i])"
   ]
  },
  {
   "cell_type": "markdown",
   "id": "0549c232",
   "metadata": {},
   "source": [
    "#### 5. Python Program for Bubble Sort."
   ]
  },
  {
   "cell_type": "code",
   "execution_count": 13,
   "id": "9c130f06",
   "metadata": {},
   "outputs": [
    {
     "name": "stdout",
     "output_type": "stream",
     "text": [
      "enter the total number of elements : 10\n",
      "enter the 0 element of list1 : -4\n",
      "enter the 1 element of list1 : 10\n",
      "enter the 2 element of list1 : 6\n",
      "enter the 3 element of list1 : 2\n",
      "enter the 4 element of list1 : 1\n",
      "enter the 5 element of list1 : 3\n",
      "enter the 6 element of list1 : 5\n",
      "enter the 7 element of list1 : 7\n",
      "enter the 8 element of list1 : 8\n",
      "enter the 9 element of list1 : 5\n",
      "Sorted list in asceding order :  [-4, 1, 2, 3, 5, 5, 6, 7, 8, 10]\n"
     ]
    }
   ],
   "source": [
    "a = []\n",
    "number = int(input(\"enter the total number of elements : \"))\n",
    "for i in range(number):\n",
    "    value = int(input(\"enter the %d element of list1 : \" %i))\n",
    "    a.append(value)\n",
    "    \n",
    "for i in range(number - 1):\n",
    "    for j in range(number - i -1):\n",
    "        if(a[j] > a[j+1]):\n",
    "            temp = a[j]\n",
    "            a[j] = a[j+1]\n",
    "            a[j+1] = temp\n",
    "print(\"Sorted list in asceding order : \",a)"
   ]
  },
  {
   "cell_type": "markdown",
   "id": "08d1f426",
   "metadata": {},
   "source": [
    "#### 6. Python Program for Merge Sort. "
   ]
  },
  {
   "cell_type": "code",
   "execution_count": 7,
   "id": "94eb0c82",
   "metadata": {},
   "outputs": [
    {
     "name": "stdout",
     "output_type": "stream",
     "text": [
      "Sorted array is: \n",
      "0 1 2 3 4 5 6 7 8 9 \n"
     ]
    }
   ],
   "source": [
    "def mergeSort(arr):\n",
    "    if len(arr) > 1:\n",
    "        a = len(arr)//2\n",
    "        l = arr[:a]\n",
    "        r = arr[a:]\n",
    "        mergeSort(l)\n",
    "        mergeSort(r) \n",
    "        b = c = d = 0\n",
    "        while b < len(l) and c < len(r):\n",
    "            if l[b] < r[c]:\n",
    "                arr[d] = l[b]\n",
    "                b += 1\n",
    "            else:\n",
    "                arr[d] = r[c]\n",
    "                c += 1\n",
    "                d += 1\n",
    "        while b < len(l):\n",
    "            arr[d] = l[b]\n",
    "            b += 1\n",
    "            d += 1\n",
    "        while c < len(r):\n",
    "            arr[d] = r[c]\n",
    "            c += 1\n",
    "            d += 1\n",
    "def printList(arr):\n",
    "    for i in range(len(arr)):\n",
    "        print(arr[i], end=\" \")\n",
    "        print()\n",
    "if __name__ == '__main__':\n",
    "    arr = [0,1,3,5,7,9,2,4,6,8] \n",
    "    mergeSort(arr) \n",
    "    print(\"Sorted array is: \")\n",
    "    printList(arr)"
   ]
  },
  {
   "cell_type": "markdown",
   "id": "1beb20b0",
   "metadata": {},
   "source": [
    "#### 7. Python Program for Iterative Merge Sort."
   ]
  },
  {
   "cell_type": "code",
   "execution_count": 28,
   "id": "7385c24c",
   "metadata": {},
   "outputs": [
    {
     "name": "stdout",
     "output_type": "stream",
     "text": [
      "The original array is :  [4, 2, 3, 1, 6, 5]\n",
      "Array after sorting is :  [1, 2, 3, 4, 5, 6]\n"
     ]
    }
   ],
   "source": [
    "def merge(S, temp, From, mid, to):\n",
    "    \n",
    "    a = From\n",
    "    b = From\n",
    "    c = mid + 1\n",
    "    while b <= mid and c <= to:\n",
    "        if S[b] < S[c]:\n",
    "            temp[a] = S[b]\n",
    "            b = b + 1\n",
    "        else:\n",
    "            temp[a] = S[c]\n",
    "            c = c + 1\n",
    "        a = a + 1\n",
    "    while b < len(S) and b <= mid:\n",
    "        temp[a] = S[b]\n",
    "        a = a + 1\n",
    "        b = b + 1\n",
    "    for b in range(From, to + 1):\n",
    "        S[b] = temp[b]\n",
    "def merge_Sort(S):\n",
    "    low = 0\n",
    "    high = len(S) - 1\n",
    "    temp = S.copy()\n",
    "    d =1\n",
    "    while d <= high - low:\n",
    "        for b in range(low, high, 2*d):\n",
    "            From = b\n",
    "            mid = b + d -1\n",
    "            to = min(b + 2*d - 1, high)\n",
    "            merge(S, temp, From, mid, to)\n",
    "        d = 2*d\n",
    "if __name__ == \"__main__\":\n",
    "    S = [4,2,3,1,6,5]\n",
    "    print(\"The original array is : \", S)\n",
    "    merge_Sort(S)\n",
    "    print(\"Array after sorting is : \", S)"
   ]
  },
  {
   "cell_type": "markdown",
   "id": "de136e06",
   "metadata": {},
   "source": [
    "#### 8. Python Program for Heap Sort. "
   ]
  },
  {
   "cell_type": "code",
   "execution_count": 4,
   "id": "c0df775d",
   "metadata": {},
   "outputs": [
    {
     "name": "stdout",
     "output_type": "stream",
     "text": [
      "The original array is :  [7, 2, 5, 6, 3, 1, 8, 4]\n",
      "Array after sorting is :  [1, 2, 3, 4, 5, 6, 7, 8]\n",
      "1\n",
      "2\n",
      "3\n",
      "4\n",
      "5\n",
      "6\n",
      "7\n",
      "8\n"
     ]
    }
   ],
   "source": [
    "def heapify(array, a, b):\n",
    "    largest = b\n",
    "    l = 2 * b + 1\n",
    "    root = 2 * b + 2\n",
    "    if l < a and array[b] < array[l]:\n",
    "        largest = l\n",
    "    if root < a and array[largest] < array[root]:\n",
    "        largest = root\n",
    "    if largest != b:\n",
    "        array[b], array[largest] = array[largest], array[b]\n",
    "        heapify(array, a, largest)\n",
    "def Heap_Sort(array):\n",
    "    a = len(array)\n",
    "    for b in range(a // 2 - 1, -1, -1):\n",
    "        heapify(array, a, b)\n",
    "    for b in range(a-1, 0, -1):\n",
    "        array[b], array[0] = array[0], array[b]\n",
    "        heapify(array, b, 0)\n",
    "array = [7,2,5,6,3,1,8,4]\n",
    "print(\"The original array is : \", array)\n",
    "Heap_Sort(array)\n",
    "a = len(array)\n",
    "print(\"Array after sorting is : \", array)\n",
    "for b in range(a):\n",
    "    print('%d' %array[b]),"
   ]
  },
  {
   "cell_type": "markdown",
   "id": "074f3aa8",
   "metadata": {},
   "source": [
    "#### 9. Python Program for Counting Sort."
   ]
  },
  {
   "cell_type": "code",
   "execution_count": 8,
   "id": "d2fc3d9f",
   "metadata": {},
   "outputs": [
    {
     "name": "stdout",
     "output_type": "stream",
     "text": [
      "Sorted character array is  dehllloorw\n"
     ]
    }
   ],
   "source": [
    "def countSort(arr):\n",
    "    output = [0 for i in range(256)]\n",
    "    count = [0 for i in range(256)]\n",
    "    ans = [\"\" for _ in arr]\n",
    "    for i in arr:\n",
    "        count[ord(i)] += 1\n",
    "    for i in range(256):\n",
    "        count[i] += count[i-1]\n",
    "    for i in range(len(arr)):\n",
    "        output[count[ord(arr[i])]-1] = arr[i]\n",
    "        count[ord(arr[i])] -= 1\n",
    "    for i in range(len(arr)):\n",
    "        ans[i] = output[i]\n",
    "    return ans\n",
    "arr = \"hello world\"\n",
    "ans = countSort(arr)\n",
    "print (\"Sorted character array is %s\" %(\"\".join(ans)))"
   ]
  },
  {
   "cell_type": "markdown",
   "id": "31a3e89e",
   "metadata": {},
   "source": [
    "#### 10. Python Program for ShellSort. "
   ]
  },
  {
   "cell_type": "code",
   "execution_count": 12,
   "id": "38405ce8",
   "metadata": {},
   "outputs": [
    {
     "name": "stdout",
     "output_type": "stream",
     "text": [
      "The original array is :  [9, 1, 8, 2, 7, 3, 6, 4, 5]\n",
      "Sorted array is :  [1, 2, 3, 4, 5, 6, 7, 8, 9]\n"
     ]
    }
   ],
   "source": [
    "def shellSort(array, a):\n",
    "    gap = a // 2\n",
    "    while gap > 0:\n",
    "        for i in range(gap, a):\n",
    "            temp = array[i]\n",
    "            j = i\n",
    "            while j >= gap and array[j - gap] > temp:\n",
    "                array[j] = array[j - gap]\n",
    "                j -= gap\n",
    "            array[j] = temp\n",
    "        gap //= 2\n",
    "array = [9,1,8,2,7,3,6,4,5]\n",
    "print(\"The original array is : \", array)\n",
    "size = len(array)\n",
    "shellSort(array, size)\n",
    "print(\"Sorted array is : \", array)"
   ]
  }
 ],
 "metadata": {
  "kernelspec": {
   "display_name": "Python 3",
   "language": "python",
   "name": "python3"
  },
  "language_info": {
   "codemirror_mode": {
    "name": "ipython",
    "version": 3
   },
   "file_extension": ".py",
   "mimetype": "text/x-python",
   "name": "python",
   "nbconvert_exporter": "python",
   "pygments_lexer": "ipython3",
   "version": "3.8.8"
  }
 },
 "nbformat": 4,
 "nbformat_minor": 5
}
