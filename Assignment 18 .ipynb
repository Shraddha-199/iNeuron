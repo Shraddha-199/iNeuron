{
 "cells": [
  {
   "cell_type": "markdown",
   "id": "1d780213",
   "metadata": {},
   "source": [
    "#### 1. Python-Check whether a string starts and ends with the same character or not."
   ]
  },
  {
   "cell_type": "code",
   "execution_count": 1,
   "id": "28b57666",
   "metadata": {},
   "outputs": [
    {
     "name": "stdout",
     "output_type": "stream",
     "text": [
      "Valid input\n"
     ]
    }
   ],
   "source": [
    "import re\n",
    "string = 'pop'\n",
    "expression = r'^[a-z]$|^([a-z]).*\\1$'\n",
    "if(re.search(expression,string)):\n",
    "    print(\"Valid input\")\n",
    "else:\n",
    "    print(\"Invalid input\")"
   ]
  },
  {
   "cell_type": "markdown",
   "id": "d37a210a",
   "metadata": {},
   "source": [
    "#### 2. Python regex to find sequences of upper case letter followed by lower case letters."
   ]
  },
  {
   "cell_type": "code",
   "execution_count": 3,
   "id": "58ad54a6",
   "metadata": {},
   "outputs": [
    {
     "name": "stdout",
     "output_type": "stream",
     "text": [
      "Yes\n",
      "Yes\n",
      "No\n"
     ]
    }
   ],
   "source": [
    "import re\n",
    "def match(text):\n",
    "    pattern = '[A-Z]+[a-z]+$'\n",
    "    if re.search(pattern,text):\n",
    "        return('Yes')\n",
    "    else:\n",
    "        return('No')\n",
    "print(match(\"Hello\"))\n",
    "print(match(\"HelloWorld\"))\n",
    "print(match(\"world\"))"
   ]
  },
  {
   "cell_type": "markdown",
   "id": "ca34d542",
   "metadata": {},
   "source": [
    "#### 3. Python Program to remove duplicate words from sentence."
   ]
  },
  {
   "cell_type": "code",
   "execution_count": 4,
   "id": "bf1f5ca9",
   "metadata": {},
   "outputs": [
    {
     "name": "stdout",
     "output_type": "stream",
     "text": [
      "Hello World in Python\n"
     ]
    }
   ],
   "source": [
    "from collections import Counter\n",
    "def remove_duplicate(s):\n",
    "    s = s.split(\" \")\n",
    "    word_dic = Counter(s)\n",
    "    result = \" \".join(word_dic.keys())\n",
    "    print(result)\n",
    "st = 'Hello World in in Python'\n",
    "remove_duplicate(st)"
   ]
  },
  {
   "cell_type": "markdown",
   "id": "b50099a1",
   "metadata": {},
   "source": [
    "#### 4. Python | Remove all characters except letters and numbers."
   ]
  },
  {
   "cell_type": "code",
   "execution_count": 5,
   "id": "23120168",
   "metadata": {},
   "outputs": [
    {
     "name": "stdout",
     "output_type": "stream",
     "text": [
      "initial string :  123abcjw:, .@! eiw\n",
      "Final string 123abcjweiw\n"
     ]
    }
   ],
   "source": [
    "import re\n",
    "ini_string = \"123abcjw:, .@! eiw\"\n",
    "print(\"initial string : \", ini_string)\n",
    "result = re.sub('[\\W_]+', '', ini_string)\n",
    "print(\"Final string\", result)"
   ]
  },
  {
   "cell_type": "markdown",
   "id": "5df1847c",
   "metadata": {},
   "source": [
    "#### 5. Python Regex | Program to accept string ending with alphanumeric character."
   ]
  },
  {
   "cell_type": "code",
   "execution_count": 7,
   "id": "0e9d1239",
   "metadata": {},
   "outputs": [
    {
     "name": "stdout",
     "output_type": "stream",
     "text": [
      "Discard\n",
      "Accept\n",
      "Discard\n",
      "Accept\n"
     ]
    }
   ],
   "source": [
    "import re\n",
    "regex = '[a-zA-Z0-9]$'\n",
    "def check(string):\n",
    "    if(re.search(regex, string)):\n",
    "        print(\"Accept\")\n",
    "    else:\n",
    "        print(\"Discard\")\n",
    "if __name__ == \"__main__\":\n",
    "    string = \"ankirai@\"\n",
    "    check(string)\n",
    "    string = \"ankitrai326\"\n",
    "    check(string)\n",
    "    string = \"ankit.\"\n",
    "    check(string)\n",
    "    string = \"helloworld\"\n",
    "    check(string)"
   ]
  },
  {
   "cell_type": "markdown",
   "id": "8f7c6a7c",
   "metadata": {},
   "source": [
    "#### 6. Python Regex-Program to accept string starting with vowel."
   ]
  },
  {
   "cell_type": "code",
   "execution_count": 11,
   "id": "db6d5ab2",
   "metadata": {},
   "outputs": [
    {
     "name": "stdout",
     "output_type": "stream",
     "text": [
      "Discard\n",
      "Discard\n",
      "Discard\n"
     ]
    }
   ],
   "source": [
    "import re\n",
    "regex = '^[aeiouAEIOU] [A-Za-z0-9_]*'\n",
    "def check(string):\n",
    "    if(re.search(regex, string)):\n",
    "        print(\"Accept\")\n",
    "    else:\n",
    "        print(\"Discard\")    \n",
    "if __name__ == \"__main__\":\n",
    "    string = \"Ankit\"\n",
    "    check(string)\n",
    "    string = \"world\"\n",
    "    check(string)\n",
    "    string = \"hello\"\n",
    "    check(string)    "
   ]
  },
  {
   "cell_type": "markdown",
   "id": "dc828229",
   "metadata": {},
   "source": [
    "#### 7. Python Program to check if a string starts with a substring using regex."
   ]
  },
  {
   "cell_type": "code",
   "execution_count": 2,
   "id": "67b14a04",
   "metadata": {},
   "outputs": [
    {
     "name": "stdout",
     "output_type": "stream",
     "text": [
      "The string is : \n",
      "Python coding is fun to learn\n",
      "The substring is : \n",
      "Python\n",
      "The string starts with the given substring\n"
     ]
    }
   ],
   "source": [
    "import re\n",
    "def check(my_string, sub_string):\n",
    "    if (sub_string in my_string):\n",
    "        concat_string = \"^\" + sub_string\n",
    "        result = re.search(concat_string, my_string)\n",
    "        if result :\n",
    "            print(\"The string starts with the given substring\")\n",
    "        else:\n",
    "            print(\"The string doesnot starts with the given substring\")\n",
    "    else :\n",
    "        print(\"It is not a substring\")\n",
    "my_string = \"Python coding is fun to learn\"\n",
    "sub_string = \"Python\"\n",
    "print(\"The string is : \")\n",
    "print(my_string)\n",
    "print(\"The substring is : \")\n",
    "print(sub_string)\n",
    "check(my_string, sub_string)"
   ]
  },
  {
   "cell_type": "markdown",
   "id": "44bb5b00",
   "metadata": {},
   "source": [
    "#### 8. Python Program to check if an URL is valid or not using Regular Expression."
   ]
  },
  {
   "cell_type": "code",
   "execution_count": 4,
   "id": "06a4292a",
   "metadata": {},
   "outputs": [
    {
     "name": "stdout",
     "output_type": "stream",
     "text": [
      "Yes\n"
     ]
    }
   ],
   "source": [
    "import re\n",
    "def isValidURL(str):\n",
    "    regex = (\"((http|https)://)(www.)?\" +\n",
    "            \"[a-zA-Z0-9@:%._\\\\+~#?&//=]\" +\n",
    "             \"{2,256}\\\\.[a-z]\" +\n",
    "            \"{2,6}\\\\b([-a-zA-Z0-9@:%\" + \n",
    "             \"._\\\\+~#?&//=]*)\")\n",
    "    p = re.compile(regex)\n",
    "    if(str == None):\n",
    "        return False\n",
    "    if (re.search(p,str)):\n",
    "        return True\n",
    "    else:\n",
    "        return False\n",
    "url = \"https://www.google.com\"\n",
    "if(isValidURL(url) == True):\n",
    "    print(\"Yes\")\n",
    "else:\n",
    "    print(\"No\")"
   ]
  },
  {
   "cell_type": "markdown",
   "id": "ef53d317",
   "metadata": {},
   "source": [
    "#### 9. Parsing and Processing URL using Python-Regex."
   ]
  },
  {
   "cell_type": "code",
   "execution_count": 5,
   "id": "0fe40f2e",
   "metadata": {},
   "outputs": [
    {
     "name": "stdout",
     "output_type": "stream",
     "text": [
      "['https']\n",
      "['google.com']\n"
     ]
    }
   ],
   "source": [
    "import re\n",
    "s = \"https://www.google.com\"\n",
    "obj1 = re.findall('(\\w+)://',\n",
    "                 s)\n",
    "print(obj1)\n",
    "obj2 = re.findall('://www.([\\w\\-\\.]+)',\n",
    "                 s)\n",
    "print(obj2)"
   ]
  },
  {
   "cell_type": "markdown",
   "id": "52681776",
   "metadata": {},
   "source": [
    "#### 10. Python Program to validate an IP address using Regex."
   ]
  },
  {
   "cell_type": "code",
   "execution_count": 6,
   "id": "c92ca9aa",
   "metadata": {},
   "outputs": [
    {
     "name": "stdout",
     "output_type": "stream",
     "text": [
      "122.134.3.123 is a valid IP address.\n",
      "44.235.34.1 is a valid IP address.\n",
      "277.13.23.17 is a invalid IP address.\n"
     ]
    }
   ],
   "source": [
    "import re\n",
    "regexIP = '''^(25[0-5]|2[0-4][0-9]|[0-1]?[0-9][0-9]?)\\.(\n",
    "25[0-5]|2[0-4][0-9]|[0-1]?[0-9][0-9]?)\\.(\n",
    "25[0-5]|2[0-4][0-9]|[0-1]?[0-9][0-9]?)\\.(\n",
    "25[0-5]|2[0-4][0-9]|[0-1]?[0-9][0-9]?)'''\n",
    "def validateIP(strIP):\n",
    "    if(re.search(regexIP, strIP)):\n",
    "        print(f\"{strIP} is a valid IP address.\")\n",
    "    else:\n",
    "        print(f\"{strIP} is a invalid IP address.\")\n",
    "if __name__ == \"__main__\":\n",
    "    strIP = \"122.134.3.123\"\n",
    "    validateIP(strIP)\n",
    "    strIP = \"44.235.34.1\"\n",
    "    validateIP(strIP)\n",
    "    strIP = \"277.13.23.17\"\n",
    "    validateIP(strIP)"
   ]
  }
 ],
 "metadata": {
  "kernelspec": {
   "display_name": "Python 3",
   "language": "python",
   "name": "python3"
  },
  "language_info": {
   "codemirror_mode": {
    "name": "ipython",
    "version": 3
   },
   "file_extension": ".py",
   "mimetype": "text/x-python",
   "name": "python",
   "nbconvert_exporter": "python",
   "pygments_lexer": "ipython3",
   "version": "3.8.8"
  }
 },
 "nbformat": 4,
 "nbformat_minor": 5
}
