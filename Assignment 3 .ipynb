{
 "cells": [
  {
   "cell_type": "markdown",
   "id": "571f2087",
   "metadata": {},
   "source": [
    "#### 1. Python Program for Find reminder of array multiplication divided by n."
   ]
  },
  {
   "cell_type": "code",
   "execution_count": 1,
   "id": "50786bae",
   "metadata": {},
   "outputs": [
    {
     "name": "stdout",
     "output_type": "stream",
     "text": [
      "9\n"
     ]
    }
   ],
   "source": [
    "def reminder(arr,len,n):\n",
    "    mul=1\n",
    "    for i in arr:\n",
    "        mul=mul*(i%n)\n",
    "    return mul%n\n",
    "    \n",
    "arr = [100,10,5,25,35,14]\n",
    "lens = len(arr)\n",
    "n = 11\n",
    "print(reminder(arr,len,n))"
   ]
  },
  {
   "cell_type": "markdown",
   "id": "30145476",
   "metadata": {},
   "source": [
    "#### 2. Python Program to check if given array is Monotonic."
   ]
  },
  {
   "cell_type": "code",
   "execution_count": 2,
   "id": "51f359c3",
   "metadata": {},
   "outputs": [
    {
     "name": "stdout",
     "output_type": "stream",
     "text": [
      "True\n"
     ]
    }
   ],
   "source": [
    "def Monotonic(A):\n",
    "    return (all(A[i] <= A[i+1] for i in range (len(A)-1)) or\n",
    "           all(A[i]>= A[i+1] for i in range(len(A)-1)))\n",
    "\n",
    "A = [12,11,10,9,8,7,5,2,1,1]\n",
    "print(Monotonic(A))"
   ]
  },
  {
   "cell_type": "markdown",
   "id": "9e388437",
   "metadata": {},
   "source": [
    "#### 3. Python Program to interchange first and last elements in a list."
   ]
  },
  {
   "cell_type": "code",
   "execution_count": 3,
   "id": "15dc012a",
   "metadata": {},
   "outputs": [
    {
     "name": "stdout",
     "output_type": "stream",
     "text": [
      "[6, 2, 3, 4, 5, 1]\n"
     ]
    }
   ],
   "source": [
    "list = [1,2,3,4,5,6]\n",
    "len = len(list)\n",
    "temp = list[0]\n",
    "list[0] = list[len-1]\n",
    "list[len-1] = temp\n",
    "print(list)"
   ]
  },
  {
   "cell_type": "markdown",
   "id": "87e193dd",
   "metadata": {},
   "source": [
    "#### 4. Python Program to swap two elements in a list."
   ]
  },
  {
   "cell_type": "code",
   "execution_count": 4,
   "id": "70742980",
   "metadata": {},
   "outputs": [
    {
     "name": "stdout",
     "output_type": "stream",
     "text": [
      "[23, 65, 19, 90]\n",
      "[23, 90, 19, 65]\n"
     ]
    }
   ],
   "source": [
    "list = [23,65,19,90]\n",
    "print(list)\n",
    "\n",
    "pos1,pos2 = 1,3\n",
    "list[pos1],list[pos2] = list[pos2],list[pos1]\n",
    "\n",
    "print(list)"
   ]
  },
  {
   "cell_type": "markdown",
   "id": "56d19f2b",
   "metadata": {},
   "source": [
    "#### 5. Write a Program to find length of list."
   ]
  },
  {
   "cell_type": "code",
   "execution_count": 5,
   "id": "d7131f59",
   "metadata": {},
   "outputs": [
    {
     "name": "stdout",
     "output_type": "stream",
     "text": [
      "[1, 4, 6, 7, 8]\n",
      "length f list is: 5\n"
     ]
    }
   ],
   "source": [
    "list = [1,4,6,7,8]\n",
    "print(list)\n",
    "count = 0\n",
    "\n",
    "for i in list:\n",
    "    count = count+1\n",
    "print(\"length f list is:\" , count)"
   ]
  },
  {
   "cell_type": "markdown",
   "id": "405efac7",
   "metadata": {},
   "source": [
    "#### 6. Write a  Program to check if element exists in list."
   ]
  },
  {
   "cell_type": "code",
   "execution_count": 6,
   "id": "bd428cba",
   "metadata": {},
   "outputs": [
    {
     "name": "stdout",
     "output_type": "stream",
     "text": [
      "Element not found\n"
     ]
    }
   ],
   "source": [
    "list = [1,6,3,5,3,4]\n",
    "ele = 100\n",
    "flag = 0\n",
    "\n",
    "for i in list:\n",
    "    if(i==ele):\n",
    "        print(\"Element found\")\n",
    "        flag = 1\n",
    "        break\n",
    "if(flag==0):\n",
    "    print(\"Element not found\")"
   ]
  },
  {
   "cell_type": "code",
   "execution_count": 7,
   "id": "2f5da067",
   "metadata": {},
   "outputs": [
    {
     "name": "stdout",
     "output_type": "stream",
     "text": [
      "Element found\n"
     ]
    }
   ],
   "source": [
    "list = [1,6,3,5,3,4]\n",
    "ele = 4\n",
    "flag = 0\n",
    "\n",
    "for i in list:\n",
    "    if(i==ele):\n",
    "        print(\"Element found\")\n",
    "        flag = 1\n",
    "        break\n",
    "if(flag==0):\n",
    "    print(\"Element not found\")"
   ]
  },
  {
   "cell_type": "markdown",
   "id": "18c588b9",
   "metadata": {},
   "source": [
    "#### 7. Write a Program to clear a list in Python."
   ]
  },
  {
   "cell_type": "code",
   "execution_count": 8,
   "id": "9f9ba245",
   "metadata": {},
   "outputs": [
    {
     "name": "stdout",
     "output_type": "stream",
     "text": [
      "list before clear: [1, 2, 3, 4]\n",
      "list after cleae: []\n"
     ]
    }
   ],
   "source": [
    "list = [1,2,3,4]\n",
    "print(\"list before clear:\" , list)\n",
    "list *=0\n",
    "print(\"list after cleae:\" , list)"
   ]
  },
  {
   "cell_type": "markdown",
   "id": "81234833",
   "metadata": {},
   "source": [
    "#### 8. Write a Program to Reversing exists in list."
   ]
  },
  {
   "cell_type": "code",
   "execution_count": 9,
   "id": "6e1e19b9",
   "metadata": {},
   "outputs": [
    {
     "name": "stdout",
     "output_type": "stream",
     "text": [
      "list before reverse: [10, 11, 12, 13, 14, 15]\n",
      "list after reverse: [15, 14, 13, 12, 11, 10]\n"
     ]
    }
   ],
   "source": [
    "list = [10,11,12,13,14,15]\n",
    "print(\"list before reverse:\", list)\n",
    "list.reverse()\n",
    "print(\"list after reverse:\", list)"
   ]
  },
  {
   "cell_type": "markdown",
   "id": "218b35b7",
   "metadata": {},
   "source": [
    "#### 9. Write a Program to find sum of elements in list."
   ]
  },
  {
   "cell_type": "code",
   "execution_count": 10,
   "id": "8234a42b",
   "metadata": {},
   "outputs": [
    {
     "name": "stdout",
     "output_type": "stream",
     "text": [
      "Sum of all elements in given list: 50\n"
     ]
    }
   ],
   "source": [
    "list = [5,10,15,20]\n",
    "total = sum(list)\n",
    "print(\"Sum of all elements in given list:\", total)"
   ]
  },
  {
   "cell_type": "markdown",
   "id": "08463755",
   "metadata": {},
   "source": [
    "#### 10. Write a Program to Multiply all numbers in the list."
   ]
  },
  {
   "cell_type": "code",
   "execution_count": 11,
   "id": "088999d1",
   "metadata": {},
   "outputs": [
    {
     "name": "stdout",
     "output_type": "stream",
     "text": [
      "3\n",
      "12\n",
      "60\n"
     ]
    }
   ],
   "source": [
    "list = [3,4,5]\n",
    "result = 1\n",
    "\n",
    "for x in list:\n",
    "    result = result * x\n",
    "    \n",
    "    print(result)"
   ]
  }
 ],
 "metadata": {
  "kernelspec": {
   "display_name": "Python 3",
   "language": "python",
   "name": "python3"
  },
  "language_info": {
   "codemirror_mode": {
    "name": "ipython",
    "version": 3
   },
   "file_extension": ".py",
   "mimetype": "text/x-python",
   "name": "python",
   "nbconvert_exporter": "python",
   "pygments_lexer": "ipython3",
   "version": "3.8.8"
  }
 },
 "nbformat": 4,
 "nbformat_minor": 5
}
