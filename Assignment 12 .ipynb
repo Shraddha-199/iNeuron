{
 "cells": [
  {
   "cell_type": "markdown",
   "id": "7b95dbdd",
   "metadata": {},
   "source": [
    "#### 1. Python | Convert a list of Tuples into Dictionary."
   ]
  },
  {
   "cell_type": "code",
   "execution_count": 1,
   "id": "47d73cfe",
   "metadata": {},
   "outputs": [
    {
     "name": "stdout",
     "output_type": "stream",
     "text": [
      "{'akashi': [20], 'gauri': [40], 'mayuri': [10]}\n"
     ]
    }
   ],
   "source": [
    "def Convert(tup,di):\n",
    "    for a, b in tup:\n",
    "        di.setdefault(a, []).append(b)\n",
    "    return di\n",
    "tups = [(\"akashi\", 20), (\"gauri\", 40), (\"mayuri\", 10)]\n",
    "dictionary = {}\n",
    "print(Convert(tups, dictionary))"
   ]
  },
  {
   "cell_type": "markdown",
   "id": "d9505b22",
   "metadata": {},
   "source": [
    "#### 2. Python counter and dictionary intersection example [Make a string using deletion and rearrangement]"
   ]
  },
  {
   "cell_type": "code",
   "execution_count": 3,
   "id": "49437a8f",
   "metadata": {},
   "outputs": [
    {
     "name": "stdout",
     "output_type": "stream",
     "text": [
      "Possible\n"
     ]
    }
   ],
   "source": [
    "from collections import Counter\n",
    "def makeString(str1, str2):\n",
    "    dict1 = Counter(str1)\n",
    "    dict2 = Counter(str2)\n",
    "    result = dict1 & dict2\n",
    "    return result == dict1\n",
    "if __name__ == \"__main__\":\n",
    "    str1 = 'SHWETApatil'\n",
    "    str2 = 'SsgsHWEdgsTApadfhdtgdil'\n",
    "    if (makeString(str1, str2) == True):\n",
    "        print(\"Possible\")\n",
    "    else:\n",
    "        print(\" Not Possible\")"
   ]
  },
  {
   "cell_type": "markdown",
   "id": "58f4647c",
   "metadata": {},
   "source": [
    "#### 3. Python dictionary, set and counter to check if frequencies can become same. "
   ]
  },
  {
   "cell_type": "code",
   "execution_count": 7,
   "id": "81622aa2",
   "metadata": {},
   "outputs": [
    {
     "name": "stdout",
     "output_type": "stream",
     "text": [
      "No\n"
     ]
    }
   ],
   "source": [
    "from collections import Counter\n",
    "def allSame(input):\n",
    "    dict = Counter(input)\n",
    "    same = list(set(dict.values()))\n",
    "    if len(same)>2:\n",
    "        print('No')\n",
    "    elif len (same) == 2 and same[1]-same[0]>1:\n",
    "        print('No')\n",
    "    else:\n",
    "        print('Yes')\n",
    "if __name__ == \"__main__\":\n",
    "    input = 'xxxxyxx'\n",
    "    allSame(input)"
   ]
  },
  {
   "cell_type": "markdown",
   "id": "1ec658ec",
   "metadata": {},
   "source": [
    "#### 4. Scraping and Finding Ordered Words In a dictionary using Python."
   ]
  },
  {
   "cell_type": "code",
   "execution_count": 5,
   "id": "15b43428",
   "metadata": {},
   "outputs": [
    {
     "name": "stdout",
     "output_type": "stream",
     "text": [
      "aaa :  Word is ordered\n",
      "aah :  Word is ordered\n",
      "aahs :  Word is ordered\n",
      "aal :  Word is ordered\n",
      "aals :  Word is ordered\n",
      "aam :  Word is ordered\n",
      "aaru :  Word is ordered\n",
      "aas :  Word is ordered\n"
     ]
    }
   ],
   "source": [
    "import requests \n",
    "\n",
    "def scrapeWords(): \n",
    " \n",
    "  scrape_url = \"https://raw.githubusercontent.com/dwyl/english-words/master/words_alpha.txt\"\n",
    "  scrapeData = requests.get(scrape_url) \n",
    "  listofwords = scrapeData.content \n",
    "  listofwords = listofwords.decode(\"utf-8\").split() \n",
    "  return listofwords \n",
    "\n",
    "def isOrdered():  \n",
    "  collection = scrapeWords() \n",
    "  collection = collection[:100] \n",
    "  word = '' \n",
    "\n",
    "  for word in collection: \n",
    "    result = 'Word is ordered'\n",
    "    i = 0\n",
    "    l = len(word) - 1\n",
    "    if (len(word) < 3):  \n",
    "      continue\n",
    "    while i < l:     \n",
    "      if (ord(word[i]) > ord(word[i+1])): \n",
    "        result = 'Word is not ordered'\n",
    "        break\n",
    "      else: \n",
    "        i += 1 \n",
    "    if (result == 'Word is ordered'): \n",
    "      print(word,': ',result) \n",
    "\n",
    "if __name__ == '__main__': \n",
    "  isOrdered()"
   ]
  },
  {
   "cell_type": "markdown",
   "id": "5cf2ba84",
   "metadata": {},
   "source": [
    "#### 5. Possible Words using given characters in Python."
   ]
  },
  {
   "cell_type": "code",
   "execution_count": 7,
   "id": "6b6f7a90",
   "metadata": {},
   "outputs": [
    {
     "name": "stdout",
     "output_type": "stream",
     "text": [
      "bat\n",
      "goal\n",
      "get\n",
      "got\n"
     ]
    }
   ],
   "source": [
    "def Countchar(word):\n",
    "    dict = {}\n",
    "    for i in word:\n",
    "        dict[i] = dict.get(i, 0) + 1\n",
    "    return dict\n",
    "def find_words(word_list, charSet):\n",
    "    for word in word_list:\n",
    "        flag = 1\n",
    "        chars = Countchar(word)\n",
    "        for key in chars:\n",
    "            if key not in charSet:\n",
    "                flag = 0\n",
    "            else:\n",
    "                if charSet.count(key) != chars[key]:\n",
    "                    flag = 0\n",
    "        if flag == 1:\n",
    "            print(word)          \n",
    "word_list = ['mat', 'boy', 'bat', 'goal', 'get', 'got', 'orange']\n",
    "charSet = ['e', 'o', 'b', 'a', 'g', 'l', 't']\n",
    "find_words(word_list, charSet)"
   ]
  },
  {
   "cell_type": "markdown",
   "id": "14dc3090",
   "metadata": {},
   "source": [
    "#### 6. Python-Keys associated with Values in dictionary."
   ]
  },
  {
   "cell_type": "code",
   "execution_count": 12,
   "id": "2995019b",
   "metadata": {},
   "outputs": [
    {
     "name": "stdout",
     "output_type": "stream",
     "text": [
      "The original dictionary : {'India': [1, 2], 'is': [3], 'best': [4, 5]}\n",
      "The keys mapped to [5, 2]are : <generator object <genexpr> at 0x000002DCC80E73C0>\n"
     ]
    }
   ],
   "source": [
    "dict = {'India' : [1,2],'is' : [3],'best' : [4,5]}\n",
    "print(\"The original dictionary : \" + str(dict))\n",
    "list = [5,2]\n",
    "temp = {}\n",
    "for key,vals in dict.items():\n",
    "    temp['val'] = key\n",
    "res = (temp[ele] for ele in list)\n",
    "print(\"The keys mapped to \" + str(list) + \"are : \" + str(res))"
   ]
  },
  {
   "cell_type": "markdown",
   "id": "cb1353b7",
   "metadata": {},
   "source": [
    "#### 7. Python program to find the size of a Tuple."
   ]
  },
  {
   "cell_type": "code",
   "execution_count": 13,
   "id": "2f24209e",
   "metadata": {},
   "outputs": [
    {
     "name": "stdout",
     "output_type": "stream",
     "text": [
      "size of tuple: 72bytes\n"
     ]
    }
   ],
   "source": [
    "tuple = (\"a\" , 1 , \"b\" , 2 , \"c\" , 3)\n",
    "print(\"size of tuple: \" + str(tuple.__sizeof__()) + \"bytes\")"
   ]
  },
  {
   "cell_type": "markdown",
   "id": "b83f133b",
   "metadata": {},
   "source": [
    "#### 8. Python-Maximum and Minimum K elements in Tuple."
   ]
  },
  {
   "cell_type": "code",
   "execution_count": 17,
   "id": "9103eb93",
   "metadata": {},
   "outputs": [
    {
     "name": "stdout",
     "output_type": "stream",
     "text": [
      "The original tuple:  (13, 10, 23, 2, 5, 6, 12)\n",
      "Max and Min K elements :  (2, 5, 13, 23)\n"
     ]
    }
   ],
   "source": [
    "def Findel(tup,K):\n",
    "    result = []\n",
    "    test_tup = list(tup)\n",
    "    temp = sorted(tup)\n",
    "    for i, val in enumerate(temp):\n",
    "        if i < K or i >= len(temp) - K:\n",
    "            result.append(val)\n",
    "    result = tuple(result)\n",
    "    print(\"Max and Min K elements : \",result)\n",
    "\n",
    "tup = (13, 10, 23, 2, 5, 6, 12)\n",
    "K = 2\n",
    "print(\"The original tuple: \", tup)\n",
    "Findel(tup,K)\n"
   ]
  },
  {
   "cell_type": "markdown",
   "id": "36d5fc0a",
   "metadata": {},
   "source": [
    "#### 9. Create a list of tuples from given list having number and its cube in each tuple."
   ]
  },
  {
   "cell_type": "code",
   "execution_count": 27,
   "id": "bdf2a9ed",
   "metadata": {},
   "outputs": [
    {
     "name": "stdout",
     "output_type": "stream",
     "text": [
      "[(1, 1), (2, 8), (5, 125), (6, 216)]\n"
     ]
    }
   ],
   "source": [
    "list = [1,2,5,6]\n",
    "res = [(val, pow(val, 3)) for val in list]\n",
    "print(res)"
   ]
  },
  {
   "cell_type": "markdown",
   "id": "ba3589e9",
   "metadata": {},
   "source": [
    "#### 10. Python-Adding Tuple to list and vice-versa."
   ]
  },
  {
   "cell_type": "code",
   "execution_count": 30,
   "id": "d4a3d194",
   "metadata": {},
   "outputs": [
    {
     "name": "stdout",
     "output_type": "stream",
     "text": [
      "The original list is : [1, 2, 3]\n",
      "The container after addition : [1, 2, 3, 4, 5]\n"
     ]
    }
   ],
   "source": [
    "list = [1,2,3]\n",
    "print(\"The original list is : \" + str(list))\n",
    "t = (4,5)\n",
    "list += t\n",
    "print(\"The container after addition : \" + str(list))"
   ]
  },
  {
   "cell_type": "markdown",
   "id": "e8e43225",
   "metadata": {},
   "source": [
    "#### 11. Python-Closet pair to kth index elements in Tuple."
   ]
  },
  {
   "cell_type": "code",
   "execution_count": 31,
   "id": "2b855c99",
   "metadata": {},
   "outputs": [
    {
     "name": "stdout",
     "output_type": "stream",
     "text": [
      "The original list is : [(1, 2), (3, 4), (12, 13), (23, 25)]\n",
      "The nearest tuple to Kth index element is : (12, 13)\n"
     ]
    }
   ],
   "source": [
    "list = [(1,2),(3,4),(12,13),(23,25)]\n",
    "print(\"The original list is : \" + str(list))\n",
    "tup = (10,20)\n",
    "K = 1\n",
    "res = min(range(len(list)) , key = lambda sub: abs(list[sub][K - 1] - tup[K-1]))\n",
    "print(\"The nearest tuple to Kth index element is : \" + str(list[res]))"
   ]
  }
 ],
 "metadata": {
  "kernelspec": {
   "display_name": "Python 3",
   "language": "python",
   "name": "python3"
  },
  "language_info": {
   "codemirror_mode": {
    "name": "ipython",
    "version": 3
   },
   "file_extension": ".py",
   "mimetype": "text/x-python",
   "name": "python",
   "nbconvert_exporter": "python",
   "pygments_lexer": "ipython3",
   "version": "3.8.8"
  }
 },
 "nbformat": 4,
 "nbformat_minor": 5
}
