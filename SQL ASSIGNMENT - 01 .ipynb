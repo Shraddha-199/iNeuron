{
 "cells": [
  {
   "cell_type": "markdown",
   "id": "521d629c",
   "metadata": {},
   "source": [
    "## SQL ASSIGNMENT - 01"
   ]
  },
  {
   "cell_type": "markdown",
   "id": "7d180ae6",
   "metadata": {},
   "source": [
    "###### 1.Write an SQL query to fetch “FIRST_NAME” from Worker table using the alias name as &lt;WORKER_NAME&gt;."
   ]
  },
  {
   "cell_type": "markdown",
   "id": "d8628885",
   "metadata": {},
   "source": [
    "select First_Name as Worker_Name from Worker;"
   ]
  },
  {
   "cell_type": "markdown",
   "id": "ec5353e3",
   "metadata": {},
   "source": [
    "###### 2. Write an SQL query to fetch unique values of DEPARTMENT from Worker table."
   ]
  },
  {
   "cell_type": "markdown",
   "id": "c048517e",
   "metadata": {},
   "source": [
    "select distinct department from worker;"
   ]
  },
  {
   "cell_type": "markdown",
   "id": "815d8289",
   "metadata": {},
   "source": [
    "###### 3. Write an SQL query to show the last 5 record from a table."
   ]
  },
  {
   "cell_type": "markdown",
   "id": "029ec617",
   "metadata": {},
   "source": [
    "SELECT * FROM Worker WHERE WORKER_ID <=5\n",
    "UNION\n",
    "SELECT * FROM (SELECT * FROM Worker W order by W.WORKER_ID DESC) AS W1 WHERE W1.WORKER_ID <=5;"
   ]
  }
 ],
 "metadata": {
  "kernelspec": {
   "display_name": "Python 3",
   "language": "python",
   "name": "python3"
  },
  "language_info": {
   "codemirror_mode": {
    "name": "ipython",
    "version": 3
   },
   "file_extension": ".py",
   "mimetype": "text/x-python",
   "name": "python",
   "nbconvert_exporter": "python",
   "pygments_lexer": "ipython3",
   "version": "3.8.8"
  }
 },
 "nbformat": 4,
 "nbformat_minor": 5
}
