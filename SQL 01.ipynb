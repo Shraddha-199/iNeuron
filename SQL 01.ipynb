{
 "cells": [
  {
   "cell_type": "markdown",
   "id": "2a09dc2b",
   "metadata": {},
   "source": [
    "## SQL ASSIGNMENT - 1"
   ]
  },
  {
   "cell_type": "markdown",
   "id": "25c27e16",
   "metadata": {},
   "source": [
    "#### 1. What is a relational database management system (RDBMS)? What are the advantages of a database management system over a file system?"
   ]
  },
  {
   "cell_type": "markdown",
   "id": "ed24298f",
   "metadata": {},
   "source": [
    "Image result for What is a relational database management system (RDBMS)?\n",
    "A relational database management system (RDBMS) is a collection of programs and capabilities that enable IT teams and others to create, update, administer and otherwise interact with a relational database.\n",
    "\n",
    "Advantages of DBMS over File system\n",
    "\n",
    "    1. Data redundancy and inconsistency – Redundancy is the concept of repetition of data i.e. each data may have more than a single copy.\n",
    "    2. Data sharing \n",
    "    3. Data concurrency\n",
    "    4. Data searching \n",
    "    5. Data integrity \n",
    "    6. System crashing \n",
    "    7. Data security "
   ]
  },
  {
   "cell_type": "markdown",
   "id": "1aa5209c",
   "metadata": {},
   "source": [
    "#### 2. In a database management system, explain the ACID properties."
   ]
  },
  {
   "cell_type": "markdown",
   "id": "5735d4f5",
   "metadata": {},
   "source": [
    "ACID is a concept (and an acronym) that refers to the four properties of a transaction in a database system, which are: Atomicity, Consistency, Isolation and Durability.\n",
    "    \n",
    "    ACID is a concept (and an acronym) that refers to the four properties of a transaction in a database system, which are: Atomicity, Consistency, Isolation and Durability.\n",
    "        \n",
    "        #### Atomicity\n",
    "\n",
    "A transaction must be an atomic unit of work, which means that all the modified data are performed or none of them will be. The transaction should be completely executed or fails completely, if one part of the transaction fails, all the transaction will fail. This provides reliability because if there is a failure in the middle of a transaction, none of the changes in that transaction will be committed.\n",
    "\n",
    "        #### Consistency\n",
    "\n",
    "This property ensures that the transaction maintains data integrity constraints, leaving the data consistent. The transaction creates a new valid state of the data and if some failure happens, return all the data with the state before the transaction being executed. \n",
    "\n",
    "        #### Isolation\n",
    "\n",
    "This property ensures the isolation of each transaction, ensuring that the transaction will not be changed by any other concurrent transaction. It means that each transaction in progress will not be interfered by any other transaction until it is completed.\n",
    "\n",
    "        #### Durability\n",
    "\n",
    "Once a transaction is completed and committed, its changes are persisted permanently in the database. This property ensures that the information that is saved in the database is immutable until another update or deletion transaction affects it."
   ]
  },
  {
   "cell_type": "markdown",
   "id": "ac59a56e",
   "metadata": {},
   "source": [
    "#### 3. Explain the concept of normalization."
   ]
  },
  {
   "cell_type": "markdown",
   "id": "2622f26e",
   "metadata": {},
   "source": [
    "Normalization is the process of organizing the data in the database. ... Normalization divides the larger table into the smaller table and links them using relationship. The normal form is used to reduce redundancy from the database table"
   ]
  },
  {
   "cell_type": "markdown",
   "id": "080bc8a8",
   "metadata": {},
   "source": [
    "#### 4. Explain the many types of query languages used in relational databases. DQL, DML, DCL, and DDL are some examples."
   ]
  },
  {
   "cell_type": "markdown",
   "id": "0d04fa68",
   "metadata": {},
   "source": [
    "1. Data definition language (DDL)\n",
    "\n",
    "Data definition language (DDL) creates the framework of the database by specifying the database schema, which is the structure that represents the organization of data. Its common uses include the creation and alteration of tables, files, indexes and columns within the database. This language also allows users to rename or drop the existing database or its components. Here's a list of DDL statements:\n",
    "\n",
    "    CREATE: Creates a new database or object, such as a table, index or column\n",
    "\n",
    "    ALTER: Changes the structure of the database or object\n",
    "\n",
    "    DROP: Deletes the database or existing objects\n",
    "\n",
    "    RENAME: Renames the database or existing objects\n",
    "        \n",
    "    2. Data manipulation language (DML)\n",
    "\n",
    "Data manipulation language (DML) provides operations that handle user requests, offering a way to access and manipulate the data that users store within a database. Its common functions include inserting, updating and retrieving data from the database. Here's a list of DML statements:\n",
    "\n",
    "    INSERT: Adds new data to the existing database table\n",
    "\n",
    "    UPDATE: Changes or updates values in the table\n",
    "\n",
    "    DELETE: Removes records or rows from the table\n",
    "\n",
    "    SELECT: Retrieves data from the table or multiple tables\n",
    "        \n",
    "    3. Data control language (DCL)\n",
    "\n",
    "Data control language (DCL) controls access to the data that users store within a database. Essentially, this language controls the rights and permissions of the database system. It allows users to grant or revoke privileges to the database. Here's a list of DCL statements:\n",
    "\n",
    "    GRANT: Gives a user access to the database\n",
    "\n",
    "    REVOKE: Removes a user's access to the database\n",
    "\n",
    "    4. Transaction control language (TCL)\n",
    "\n",
    "Transaction control language (TCL) manages the transactions within a database. Transactions group a set of related tasks into a single, executable task. All the tasks must succeed in order for the transaction to work. Here's a list of TCL statements:\n",
    "    COMMIT: Carries out a transaction\n",
    "\n",
    "    ROLLBACK: Restores a transaction if any tasks fail to execute\n",
    "\n",
    "    S**AVEPOINT**: Sets a point in a transaction to save"
   ]
  },
  {
   "cell_type": "markdown",
   "id": "87a555e1",
   "metadata": {},
   "source": [
    "#### 5. What is the difference between the main key and a composite key? Give instances of how primary key and composite are used."
   ]
  },
  {
   "cell_type": "markdown",
   "id": "ef621476",
   "metadata": {},
   "source": [
    "Primary key is that column of the table whose every row data is uniquely identified. ... Composite Key is a form of the candidate key where a set of columns will uniquely identify every row in the table\n",
    "\n",
    "A PRIMARY KEY constraint uniquely identifies each record in a table . A Primary keys column must contain unique values and cannot have null values. ... So basically, primary key becomes the composite key when more than column is used to uniquely identify each row in the table."
   ]
  }
 ],
 "metadata": {
  "kernelspec": {
   "display_name": "Python 3",
   "language": "python",
   "name": "python3"
  },
  "language_info": {
   "codemirror_mode": {
    "name": "ipython",
    "version": 3
   },
   "file_extension": ".py",
   "mimetype": "text/x-python",
   "name": "python",
   "nbconvert_exporter": "python",
   "pygments_lexer": "ipython3",
   "version": "3.8.8"
  }
 },
 "nbformat": 4,
 "nbformat_minor": 5
}
